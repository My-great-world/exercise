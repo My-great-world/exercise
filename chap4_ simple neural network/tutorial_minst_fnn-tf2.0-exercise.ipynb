{
 "cells": [
  {
   "cell_type": "markdown",
   "metadata": {},
   "source": [
    "## 准备数据"
   ]
  },
  {
   "cell_type": "code",
   "execution_count": 1,
   "metadata": {},
   "outputs": [
    {
     "name": "stdout",
     "output_type": "stream",
     "text": [
      "WARNING:tensorflow:From D:\\Anaconda3\\Lib\\site-packages\\keras\\src\\losses.py:2976: The name tf.losses.sparse_softmax_cross_entropy is deprecated. Please use tf.compat.v1.losses.sparse_softmax_cross_entropy instead.\n",
      "\n"
     ]
    }
   ],
   "source": [
    "import os\n",
    "import numpy as np\n",
    "import tensorflow as tf\n",
    "from tensorflow import keras\n",
    "from tensorflow.keras import layers, optimizers, datasets\n",
    "\n",
    "os.environ['TF_CPP_MIN_LOG_LEVEL'] = '2'  # or any {'0', '1', '2'}\n",
    "\n",
    "def mnist_dataset():\n",
    "    (x, y), (x_test, y_test) = datasets.mnist.load_data()\n",
    "    #normalize\n",
    "    x = x/255.0\n",
    "    x_test = x_test/255.0\n",
    "    \n",
    "    return (x, y), (x_test, y_test)"
   ]
  },
  {
   "cell_type": "code",
   "execution_count": 2,
   "metadata": {},
   "outputs": [
    {
     "name": "stdout",
     "output_type": "stream",
     "text": [
      "[(1, 'a'), (2, 'b'), (3, 'c'), (4, 'd')]\n"
     ]
    }
   ],
   "source": [
    "print(list(zip([1, 2, 3, 4], ['a', 'b', 'c', 'd'])))"
   ]
  },
  {
   "cell_type": "markdown",
   "metadata": {},
   "source": [
    "## 建立模型"
   ]
  },
  {
   "cell_type": "code",
   "execution_count": 3,
   "metadata": {},
   "outputs": [
    {
     "name": "stdout",
     "output_type": "stream",
     "text": [
      "WARNING:tensorflow:From C:\\Users\\Administrator\\AppData\\Local\\Temp\\ipykernel_27704\\880466522.py:5: The name tf.get_variable is deprecated. Please use tf.compat.v1.get_variable instead.\n",
      "\n"
     ]
    }
   ],
   "source": [
    "class myModel:\n",
    "    def __init__(self):\n",
    "        ####################\n",
    "        '''声明模型对应的参数'''\n",
    "        self.W1=tf.compat.v1.get_variable(shape=(784,1000),name=\"W1\",initializer=tf.compat.v1.random_normal_initializer)\n",
    "        self.b1=tf.compat.v1.get_variable(shape=(1,1000),name=\"b1\",initializer=tf.compat.v1.random_normal_initializer)\n",
    "        self.W2=tf.compat.v1.get_variable(shape=(1000,666),name=\"W2\",initializer=tf.compat.v1.random_normal_initializer)\n",
    "        self.b2=tf.compat.v1.get_variable(shape=(1,666),name=\"b2\",initializer=tf.compat.v1.random_normal_initializer)\n",
    "        ####################\n",
    "    def __call__(self, x):\n",
    "        ####################\n",
    "        '''实现模型函数体，返回未归一化的logits'''\n",
    "        x=tf.reshape(x,(-1,784))\n",
    "        hidden = tf.nn.relu(tf.matmul(x,self.W1)+self.b1) #RELU函数\n",
    "        logits = tf.matmul(hidden,self.W2)+self.b2 # 双层RELU\n",
    "        ####################\n",
    "        return logits\n",
    "        \n",
    "model = myModel()\n",
    "\n",
    "optimizer = optimizers.Adam()"
   ]
  },
  {
   "cell_type": "markdown",
   "metadata": {},
   "source": [
    "## 计算 loss"
   ]
  },
  {
   "cell_type": "code",
   "execution_count": 4,
   "metadata": {},
   "outputs": [],
   "source": [
    "@tf.function\n",
    "def compute_loss(logits, labels):\n",
    "    return tf.reduce_mean(\n",
    "        tf.nn.sparse_softmax_cross_entropy_with_logits(\n",
    "            logits=logits, labels=labels))\n",
    "\n",
    "@tf.function\n",
    "def compute_accuracy(logits, labels):\n",
    "    predictions = tf.argmax(logits, axis=1)\n",
    "    return tf.reduce_mean(tf.cast(tf.equal(predictions, labels), tf.float32))\n",
    "\n",
    "@tf.function\n",
    "def train_one_step(model, optimizer, x, y):\n",
    "    with tf.GradientTape() as tape:\n",
    "        logits = model(x)\n",
    "        loss = compute_loss(logits, y)\n",
    "\n",
    "    # compute gradient\n",
    "    trainable_vars = [model.W1, model.W2, model.b1, model.b2]\n",
    "    grads = tape.gradient(loss, trainable_vars)\n",
    "    for g, v in zip(grads, trainable_vars):\n",
    "        v.assign_sub(0.01*g)\n",
    "\n",
    "    accuracy = compute_accuracy(logits, y)\n",
    "\n",
    "    # loss and accuracy is scalar tensor\n",
    "    return loss, accuracy\n",
    "\n",
    "@tf.function\n",
    "def test(model, x, y):\n",
    "    logits = model(x)\n",
    "    loss = compute_loss(logits, y)\n",
    "    accuracy = compute_accuracy(logits, y)\n",
    "    return loss, accuracy"
   ]
  },
  {
   "cell_type": "markdown",
   "metadata": {},
   "source": [
    "## 实际训练"
   ]
  },
  {
   "cell_type": "code",
   "execution_count": 5,
   "metadata": {},
   "outputs": [
    {
     "name": "stdout",
     "output_type": "stream",
     "text": [
      "epoch 0 : loss 583.79175 ; accuracy 0.00045\n",
      "epoch 1 : loss 523.9974 ; accuracy 0.0019166666\n",
      "epoch 2 : loss 471.9332 ; accuracy 0.0043833335\n",
      "epoch 3 : loss 423.13644 ; accuracy 0.0085166665\n",
      "epoch 4 : loss 377.12933 ; accuracy 0.014983334\n",
      "epoch 5 : loss 334.5906 ; accuracy 0.0257\n",
      "epoch 6 : loss 296.71286 ; accuracy 0.04238333\n",
      "epoch 7 : loss 264.18048 ; accuracy 0.0636\n",
      "epoch 8 : loss 236.63004 ; accuracy 0.0848\n",
      "epoch 9 : loss 213.03996 ; accuracy 0.106183335\n",
      "epoch 10 : loss 192.49184 ; accuracy 0.12918334\n",
      "epoch 11 : loss 174.53227 ; accuracy 0.15188333\n",
      "epoch 12 : loss 158.99147 ; accuracy 0.17391667\n",
      "epoch 13 : loss 145.92252 ; accuracy 0.1969\n",
      "epoch 14 : loss 135.21548 ; accuracy 0.21775\n",
      "epoch 15 : loss 126.35385 ; accuracy 0.23855\n",
      "epoch 16 : loss 118.894264 ; accuracy 0.25786668\n",
      "epoch 17 : loss 112.49187 ; accuracy 0.27743334\n",
      "epoch 18 : loss 106.926384 ; accuracy 0.29601666\n",
      "epoch 19 : loss 102.0514 ; accuracy 0.31483334\n",
      "epoch 20 : loss 97.741234 ; accuracy 0.33283332\n",
      "epoch 21 : loss 93.89594 ; accuracy 0.34983334\n",
      "epoch 22 : loss 90.43234 ; accuracy 0.36488333\n",
      "epoch 23 : loss 87.286476 ; accuracy 0.3795\n",
      "epoch 24 : loss 84.425 ; accuracy 0.39363334\n",
      "epoch 25 : loss 81.803665 ; accuracy 0.40605\n",
      "epoch 26 : loss 79.381516 ; accuracy 0.41825\n",
      "epoch 27 : loss 77.14117 ; accuracy 0.42945\n",
      "epoch 28 : loss 75.06605 ; accuracy 0.44018334\n",
      "epoch 29 : loss 73.1392 ; accuracy 0.45115\n",
      "epoch 30 : loss 71.349106 ; accuracy 0.46091667\n",
      "epoch 31 : loss 69.6774 ; accuracy 0.46941668\n",
      "epoch 32 : loss 68.107605 ; accuracy 0.47855\n",
      "epoch 33 : loss 66.63259 ; accuracy 0.48646668\n",
      "epoch 34 : loss 65.2403 ; accuracy 0.49351665\n",
      "epoch 35 : loss 63.922993 ; accuracy 0.50116664\n",
      "epoch 36 : loss 62.67677 ; accuracy 0.50745\n",
      "epoch 37 : loss 61.49464 ; accuracy 0.5140667\n",
      "epoch 38 : loss 60.371284 ; accuracy 0.5208\n",
      "epoch 39 : loss 59.303955 ; accuracy 0.52745\n",
      "epoch 40 : loss 58.288193 ; accuracy 0.533\n",
      "epoch 41 : loss 57.318607 ; accuracy 0.53858334\n",
      "epoch 42 : loss 56.392136 ; accuracy 0.5442333\n",
      "epoch 43 : loss 55.50721 ; accuracy 0.54965\n",
      "epoch 44 : loss 54.65934 ; accuracy 0.5546333\n",
      "epoch 45 : loss 53.8473 ; accuracy 0.55943334\n",
      "epoch 46 : loss 53.06865 ; accuracy 0.56458336\n",
      "epoch 47 : loss 52.320984 ; accuracy 0.56878334\n",
      "epoch 48 : loss 51.60335 ; accuracy 0.5736667\n",
      "epoch 49 : loss 50.914608 ; accuracy 0.57775\n",
      "test loss 49.03322 ; accuracy 0.5834\n"
     ]
    }
   ],
   "source": [
    "train_data, test_data = mnist_dataset()\n",
    "for epoch in range(50):\n",
    "    loss, accuracy = train_one_step(model, optimizer, \n",
    "                                    tf.constant(train_data[0], dtype=tf.float32), \n",
    "                                    tf.constant(train_data[1], dtype=tf.int64))\n",
    "    print('epoch', epoch, ': loss', loss.numpy(), '; accuracy', accuracy.numpy())\n",
    "loss, accuracy = test(model, \n",
    "                      tf.constant(test_data[0], dtype=tf.float32), \n",
    "                      tf.constant(test_data[1], dtype=tf.int64))\n",
    "\n",
    "print('test loss', loss.numpy(), '; accuracy', accuracy.numpy())"
   ]
  },
  {
   "cell_type": "code",
   "execution_count": 6,
   "metadata": {},
   "outputs": [
    {
     "name": "stdout",
     "output_type": "stream",
     "text": [
      "epoch 0 : loss 50.251812 ; accuracy 0.5818833\n",
      "epoch 20 : loss 40.728855 ; accuracy 0.64348334\n",
      "epoch 40 : loss 35.144302 ; accuracy 0.68221664\n",
      "epoch 60 : loss 31.374804 ; accuracy 0.70916665\n",
      "epoch 80 : loss 28.637985 ; accuracy 0.7298\n",
      "epoch 100 : loss 26.526978 ; accuracy 0.7458\n",
      "epoch 120 : loss 24.832962 ; accuracy 0.75913334\n",
      "epoch 140 : loss 23.440163 ; accuracy 0.76953334\n",
      "epoch 160 : loss 22.262396 ; accuracy 0.77845\n",
      "epoch 180 : loss 21.247375 ; accuracy 0.7863167\n",
      "epoch 200 : loss 20.369156 ; accuracy 0.79408336\n",
      "epoch 220 : loss 19.598576 ; accuracy 0.80005\n",
      "epoch 240 : loss 18.913658 ; accuracy 0.80546665\n",
      "epoch 260 : loss 18.299295 ; accuracy 0.81098336\n",
      "epoch 280 : loss 17.744617 ; accuracy 0.81595\n",
      "epoch 300 : loss 17.239779 ; accuracy 0.81991667\n",
      "epoch 320 : loss 16.774817 ; accuracy 0.8235833\n",
      "epoch 340 : loss 16.345797 ; accuracy 0.8268333\n",
      "epoch 360 : loss 15.947821 ; accuracy 0.8296833\n",
      "epoch 380 : loss 15.575538 ; accuracy 0.83206666\n",
      "epoch 400 : loss 15.224714 ; accuracy 0.83468336\n",
      "epoch 420 : loss 14.895096 ; accuracy 0.83748335\n",
      "epoch 440 : loss 14.586681 ; accuracy 0.84008336\n",
      "epoch 460 : loss 14.2971525 ; accuracy 0.8426167\n",
      "epoch 480 : loss 14.023156 ; accuracy 0.84468335\n",
      "test loss 13.3492565 ; accuracy 0.849\n"
     ]
    }
   ],
   "source": [
    "train_data, test_data = mnist_dataset()\n",
    "for epoch in range(500):\n",
    "    loss, accuracy = train_one_step(model, optimizer, \n",
    "                                    tf.constant(train_data[0], dtype=tf.float32), \n",
    "                                    tf.constant(train_data[1], dtype=tf.int64))\n",
    "    if epoch%20==0:\n",
    "        print('epoch', epoch, ': loss', loss.numpy(), '; accuracy', accuracy.numpy())\n",
    "loss, accuracy = test(model, \n",
    "                      tf.constant(test_data[0], dtype=tf.float32), \n",
    "                      tf.constant(test_data[1], dtype=tf.int64))\n",
    "\n",
    "print('test loss', loss.numpy(), '; accuracy', accuracy.numpy())"
   ]
  }
 ],
 "metadata": {
  "kernelspec": {
   "display_name": "Python 3 (ipykernel)",
   "language": "python",
   "name": "python3"
  },
  "language_info": {
   "codemirror_mode": {
    "name": "ipython",
    "version": 3
   },
   "file_extension": ".py",
   "mimetype": "text/x-python",
   "name": "python",
   "nbconvert_exporter": "python",
   "pygments_lexer": "ipython3",
   "version": "3.11.5"
  }
 },
 "nbformat": 4,
 "nbformat_minor": 2
}
