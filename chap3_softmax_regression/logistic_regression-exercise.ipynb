{
 "cells": [
  {
   "cell_type": "markdown",
   "metadata": {},
   "source": [
    "# Logistic Regression Example"
   ]
  },
  {
   "cell_type": "markdown",
   "metadata": {},
   "source": [
    "### 生成数据集， 看明白即可无需填写代码\n",
    "#### '<font color=\"blue\">+</font>' 从高斯分布采样 (X, Y) ~ N(3, 6, 1, 1, 0).<br>\n",
    "#### '<font color=\"green\">o</font>' 从高斯分布采样  (X, Y) ~ N(6, 3, 1, 1, 0)<br>"
   ]
  },
  {
   "cell_type": "code",
   "execution_count": 1,
   "metadata": {},
   "outputs": [
    {
     "name": "stdout",
     "output_type": "stream",
     "text": [
      "WARNING:tensorflow:From D:\\Anaconda3\\Lib\\site-packages\\keras\\src\\losses.py:2976: The name tf.losses.sparse_softmax_cross_entropy is deprecated. Please use tf.compat.v1.losses.sparse_softmax_cross_entropy instead.\n",
      "\n"
     ]
    },
    {
     "data": {
      "image/png": "[encoded data removed]",
      "text/plain": [
       "<Figure size 640x480 with 1 Axes>"
      ]
     },
     "metadata": {},
     "output_type": "display_data"
    }
   ],
   "source": [
    "import tensorflow as tf\n",
    "import matplotlib.pyplot as plt\n",
    "\n",
    "from matplotlib import animation, rc\n",
    "from IPython.display import HTML\n",
    "import matplotlib.cm as cm\n",
    "import numpy as np\n",
    "%matplotlib inline\n",
    "\n",
    "dot_num = 100\n",
    "x_p = np.random.normal(3., 1, dot_num)\n",
    "y_p = np.random.normal(6., 1, dot_num)\n",
    "y = np.ones(dot_num)\n",
    "C1 = np.array([x_p, y_p, y]).T\n",
    "\n",
    "x_n = np.random.normal(6., 1, dot_num)\n",
    "y_n = np.random.normal(3., 1, dot_num)\n",
    "y = np.zeros(dot_num)\n",
    "C2 = np.array([x_n, y_n, y]).T\n",
    "\n",
    "plt.scatter(C1[:, 0], C1[:, 1], c='b', marker='+')\n",
    "plt.scatter(C2[:, 0], C2[:, 1], c='g', marker='o')\n",
    "\n",
    "data_set = np.concatenate((C1, C2), axis=0)\n",
    "np.random.shuffle(data_set)\n"
   ]
  },
  {
   "cell_type": "markdown",
   "metadata": {},
   "source": [
    "## 建立模型\n",
    "建立模型类，定义loss函数，定义一步梯度下降过程函数\n",
    "\n",
    "填空一：实现sigmoid的交叉熵损失函数(不使用tf内置的loss 函数)"
   ]
  },
  {
   "cell_type": "code",
   "execution_count": 2,
   "metadata": {},
   "outputs": [],
   "source": [
    "epsilon = 1e-12\n",
    "class LogisticRegression():\n",
    "    def __init__(self):\n",
    "        self.W = tf.Variable(shape=[2, 1], dtype=tf.float32, \n",
    "            initial_value=tf.random.uniform(shape=[2, 1], minval=-0.1, maxval=0.1))\n",
    "        self.b = tf.Variable(shape=[1], dtype=tf.float32, initial_value=tf.zeros(shape=[1]))\n",
    "        \n",
    "        self.trainable_variables = [self.W, self.b]\n",
    "    @tf.function\n",
    "    def __call__(self, inp):\n",
    "        logits = tf.matmul(inp, self.W) + self.b # shape(N, 1)\n",
    "        pred = tf.nn.sigmoid(logits)\n",
    "        return pred\n",
    "\n",
    "@tf.function\n",
    "def compute_loss(pred, label):\n",
    "    if not isinstance(label, tf.Tensor):\n",
    "        label = tf.constant(label, dtype=tf.float32)\n",
    "    pred = tf.squeeze(pred, axis=1)\n",
    "    '''============================='''\n",
    "    #输入label shape(N,), pred shape(N,)\n",
    "    #输出 losses shape(N,) 每一个样本一个loss\n",
    "    #todo 填空一，实现sigmoid的交叉熵损失函数(不使用tf内置的loss 函数)\n",
    "    losses = -label*tf.math.log(pred+epsilon) - (1.-label)* tf.math.log(1.-pred+epsilon)    \n",
    "    '''============================='''\n",
    "    loss = tf.reduce_mean(losses)\n",
    "    \n",
    "    pred = tf.where(pred>0.5, tf.ones_like(pred), tf.zeros_like(pred))\n",
    "    accuracy = tf.reduce_mean(tf.cast(tf.equal(label, pred), dtype=tf.float32))\n",
    "    return loss, accuracy\n",
    "@tf.function\n",
    "def train_one_step(model, optimizer, x, y):\n",
    "    with tf.GradientTape() as tape:\n",
    "        pred = model(x)\n",
    "        loss, accuracy = compute_loss(pred, y)\n",
    "        \n",
    "    grads = tape.gradient(loss, model.trainable_variables)\n",
    "    optimizer.apply_gradients(zip(grads, model.trainable_variables))\n",
    "    return loss, accuracy, model.W, model.b"
   ]
  },
  {
   "cell_type": "markdown",
   "metadata": {},
   "source": [
    "### 实例化一个模型，进行训练"
   ]
  },
  {
   "cell_type": "code",
   "execution_count": 3,
   "metadata": {},
   "outputs": [
    {
     "ename": "TypeError",
     "evalue": "in user code:\n\n    File \"C:\\Users\\Administrator\\AppData\\Local\\Temp\\ipykernel_13776\\1366488175.py\", line 34, in train_one_step  *\n        pred = model(x)\n    File \"C:\\Users\\Administrator\\AppData\\Local\\Temp\\ipykernel_13776\\1366488175.py\", line 11, in __call__  *\n        logits = tf.matmul(inp, self.W) + self.b # shape(N, 1)\n\n    TypeError: Input 'b' of 'MatMul' Op has type float32 that does not match type float64 of argument 'a'.\n",
     "output_type": "error",
     "traceback": [
      "\u001b[1;31m---------------------------------------------------------------------------\u001b[0m",
      "\u001b[1;31mTypeError\u001b[0m                                 Traceback (most recent call last)",
      "Cell \u001b[1;32mIn[3], line 9\u001b[0m\n\u001b[0;32m      6\u001b[0m animation_fram \u001b[38;5;241m=\u001b[39m []\n\u001b[0;32m      8\u001b[0m \u001b[38;5;28;01mfor\u001b[39;00m i \u001b[38;5;129;01min\u001b[39;00m \u001b[38;5;28mrange\u001b[39m(\u001b[38;5;241m200\u001b[39m):\n\u001b[1;32m----> 9\u001b[0m     loss, accuracy, W_opt, b_opt \u001b[38;5;241m=\u001b[39m train_one_step(model, opt, x, y)\n\u001b[0;32m     10\u001b[0m     animation_fram\u001b[38;5;241m.\u001b[39mappend((W_opt\u001b[38;5;241m.\u001b[39mnumpy()[\u001b[38;5;241m0\u001b[39m, \u001b[38;5;241m0\u001b[39m], W_opt\u001b[38;5;241m.\u001b[39mnumpy()[\u001b[38;5;241m1\u001b[39m, \u001b[38;5;241m0\u001b[39m], b_opt\u001b[38;5;241m.\u001b[39mnumpy(), loss\u001b[38;5;241m.\u001b[39mnumpy()))\n\u001b[0;32m     11\u001b[0m     \u001b[38;5;28;01mif\u001b[39;00m i\u001b[38;5;241m%\u001b[39m\u001b[38;5;241m20\u001b[39m \u001b[38;5;241m==\u001b[39m \u001b[38;5;241m0\u001b[39m:\n",
      "File \u001b[1;32mD:\\Anaconda3\\Lib\\site-packages\\tensorflow\\python\\util\\traceback_utils.py:153\u001b[0m, in \u001b[0;36mfilter_traceback.<locals>.error_handler\u001b[1;34m(*args, **kwargs)\u001b[0m\n\u001b[0;32m    151\u001b[0m \u001b[38;5;28;01mexcept\u001b[39;00m \u001b[38;5;167;01mException\u001b[39;00m \u001b[38;5;28;01mas\u001b[39;00m e:\n\u001b[0;32m    152\u001b[0m   filtered_tb \u001b[38;5;241m=\u001b[39m _process_traceback_frames(e\u001b[38;5;241m.\u001b[39m__traceback__)\n\u001b[1;32m--> 153\u001b[0m   \u001b[38;5;28;01mraise\u001b[39;00m e\u001b[38;5;241m.\u001b[39mwith_traceback(filtered_tb) \u001b[38;5;28;01mfrom\u001b[39;00m \u001b[38;5;28;01mNone\u001b[39;00m\n\u001b[0;32m    154\u001b[0m \u001b[38;5;28;01mfinally\u001b[39;00m:\n\u001b[0;32m    155\u001b[0m   \u001b[38;5;28;01mdel\u001b[39;00m filtered_tb\n",
      "File \u001b[1;32m~\\AppData\\Local\\Temp\\__autograph_generated_filejq8skuq1.py:11\u001b[0m, in \u001b[0;36mouter_factory.<locals>.inner_factory.<locals>.tf__train_one_step\u001b[1;34m(model, optimizer, x, y)\u001b[0m\n\u001b[0;32m      9\u001b[0m retval_ \u001b[38;5;241m=\u001b[39m ag__\u001b[38;5;241m.\u001b[39mUndefinedReturnValue()\n\u001b[0;32m     10\u001b[0m \u001b[38;5;28;01mwith\u001b[39;00m ag__\u001b[38;5;241m.\u001b[39mld(tf)\u001b[38;5;241m.\u001b[39mGradientTape() \u001b[38;5;28;01mas\u001b[39;00m tape:\n\u001b[1;32m---> 11\u001b[0m     pred \u001b[38;5;241m=\u001b[39m ag__\u001b[38;5;241m.\u001b[39mconverted_call(ag__\u001b[38;5;241m.\u001b[39mld(model), (ag__\u001b[38;5;241m.\u001b[39mld(x),), \u001b[38;5;28;01mNone\u001b[39;00m, fscope)\n\u001b[0;32m     12\u001b[0m     loss, accuracy \u001b[38;5;241m=\u001b[39m ag__\u001b[38;5;241m.\u001b[39mconverted_call(ag__\u001b[38;5;241m.\u001b[39mld(compute_loss), (ag__\u001b[38;5;241m.\u001b[39mld(pred), ag__\u001b[38;5;241m.\u001b[39mld(y)), \u001b[38;5;28;01mNone\u001b[39;00m, fscope)\n\u001b[0;32m     13\u001b[0m grads \u001b[38;5;241m=\u001b[39m ag__\u001b[38;5;241m.\u001b[39mconverted_call(ag__\u001b[38;5;241m.\u001b[39mld(tape)\u001b[38;5;241m.\u001b[39mgradient, (ag__\u001b[38;5;241m.\u001b[39mld(loss), ag__\u001b[38;5;241m.\u001b[39mld(model)\u001b[38;5;241m.\u001b[39mtrainable_variables), \u001b[38;5;28;01mNone\u001b[39;00m, fscope)\n",
      "File \u001b[1;32m~\\AppData\\Local\\Temp\\__autograph_generated_filei12tfoe8.py:10\u001b[0m, in \u001b[0;36mouter_factory.<locals>.inner_factory.<locals>.tf____call__\u001b[1;34m(self, inp)\u001b[0m\n\u001b[0;32m      8\u001b[0m do_return \u001b[38;5;241m=\u001b[39m \u001b[38;5;28;01mFalse\u001b[39;00m\n\u001b[0;32m      9\u001b[0m retval_ \u001b[38;5;241m=\u001b[39m ag__\u001b[38;5;241m.\u001b[39mUndefinedReturnValue()\n\u001b[1;32m---> 10\u001b[0m logits \u001b[38;5;241m=\u001b[39m ag__\u001b[38;5;241m.\u001b[39mconverted_call(ag__\u001b[38;5;241m.\u001b[39mld(tf)\u001b[38;5;241m.\u001b[39mmatmul, (ag__\u001b[38;5;241m.\u001b[39mld(inp), ag__\u001b[38;5;241m.\u001b[39mld(\u001b[38;5;28mself\u001b[39m)\u001b[38;5;241m.\u001b[39mW), \u001b[38;5;28;01mNone\u001b[39;00m, fscope) \u001b[38;5;241m+\u001b[39m ag__\u001b[38;5;241m.\u001b[39mld(\u001b[38;5;28mself\u001b[39m)\u001b[38;5;241m.\u001b[39mb\n\u001b[0;32m     11\u001b[0m pred \u001b[38;5;241m=\u001b[39m ag__\u001b[38;5;241m.\u001b[39mconverted_call(ag__\u001b[38;5;241m.\u001b[39mld(tf)\u001b[38;5;241m.\u001b[39mnn\u001b[38;5;241m.\u001b[39msigmoid, (ag__\u001b[38;5;241m.\u001b[39mld(logits),), \u001b[38;5;28;01mNone\u001b[39;00m, fscope)\n\u001b[0;32m     12\u001b[0m \u001b[38;5;28;01mtry\u001b[39;00m:\n",
      "\u001b[1;31mTypeError\u001b[0m: in user code:\n\n    File \"C:\\Users\\Administrator\\AppData\\Local\\Temp\\ipykernel_13776\\1366488175.py\", line 34, in train_one_step  *\n        pred = model(x)\n    File \"C:\\Users\\Administrator\\AppData\\Local\\Temp\\ipykernel_13776\\1366488175.py\", line 11, in __call__  *\n        logits = tf.matmul(inp, self.W) + self.b # shape(N, 1)\n\n    TypeError: Input 'b' of 'MatMul' Op has type float32 that does not match type float64 of argument 'a'.\n"
     ]
    }
   ],
   "source": [
    "if __name__ == '__main__':\n",
    "    model = LogisticRegression()\n",
    "    opt = tf.keras.optimizers.SGD(learning_rate=0.01)              #SGD优化器\n",
    "    x1, x2, y = list(zip(*data_set))\n",
    "    x = list(zip(x1, x2))\n",
    "    animation_fram = []\n",
    " \n",
    "    for i in range(200):\n",
    "        loss, accuracy, W_opt, b_opt = train_one_step(model, opt, x, y)\n",
    "        animation_fram.append((W_opt.numpy()[0, 0], W_opt.numpy()[1, 0], b_opt.numpy(), loss.numpy()))\n",
    "        if i%20 == 0:\n",
    "            print(f'loss: {loss.numpy():.4}\\t accuracy: {accuracy.numpy():.4}')"
   ]
  },
  {
   "cell_type": "markdown",
   "metadata": {},
   "source": [
    "## 结果展示，无需填写代码"
   ]
  },
  {
   "cell_type": "code",
   "execution_count": null,
   "metadata": {},
   "outputs": [],
   "source": [
    "\n",
    "f, ax = plt.subplots(figsize=(6,4))\n",
    "f.suptitle('Logistic Regression Example', fontsize=15)\n",
    "plt.ylabel('Y')\n",
    "plt.xlabel('X')\n",
    "ax.set_xlim(0, 10)\n",
    "ax.set_ylim(0, 10)\n",
    "\n",
    "line_d, = ax.plot([], [], label='fit_line')\n",
    "C1_dots, = ax.plot([], [], '+', c='b', label='actual_dots')\n",
    "C2_dots, = ax.plot([], [], 'o', c='g' ,label='actual_dots')\n",
    "\n",
    "\n",
    "frame_text = ax.text(0.02, 0.95,'',horizontalalignment='left',verticalalignment='top', transform=ax.transAxes)\n",
    "# ax.legend()\n",
    "\n",
    "def init():\n",
    "    line_d.set_data([],[])\n",
    "    C1_dots.set_data([],[])\n",
    "    C2_dots.set_data([],[])\n",
    "    return (line_d,) + (C1_dots,) + (C2_dots,)\n",
    "\n",
    "def animate(i):\n",
    "    xx = np.arange(10, step=0.1)\n",
    "    a = animation_fram[i][0]\n",
    "    b = animation_fram[i][1]\n",
    "    c = animation_fram[i][2]\n",
    "    yy = a/-b * xx +c/-b\n",
    "    line_d.set_data(xx, yy)\n",
    "        \n",
    "    C1_dots.set_data(C1[:, 0], C1[:, 1])\n",
    "    C2_dots.set_data(C2[:, 0], C2[:, 1])\n",
    "    \n",
    "    frame_text.set_text('Timestep = %.1d/%.1d\\nLoss = %.3f' % (i, len(animation_fram), animation_fram[i][3]))\n",
    "    \n",
    "    return (line_d,) + (C1_dots,) + (C2_dots,)\n",
    "\n",
    "anim = animation.FuncAnimation(f, animate, init_func=init,\n",
    "                               frames=len(animation_fram), interval=30, blit=True)\n",
    "\n",
    "HTML(anim.to_html5_video())\n",
    "\n"
   ]
  }
 ],
 "metadata": {
  "kernelspec": {
   "display_name": "Python 3 (ipykernel)",
   "language": "python",
   "name": "python3"
  },
  "language_info": {
   "codemirror_mode": {
    "name": "ipython",
    "version": 3
   },
   "file_extension": ".py",
   "mimetype": "text/x-python",
   "name": "python",
   "nbconvert_exporter": "python",
   "pygments_lexer": "ipython3",
   "version": "3.11.5"
  }
 },
 "nbformat": 4,
 "nbformat_minor": 1
}
