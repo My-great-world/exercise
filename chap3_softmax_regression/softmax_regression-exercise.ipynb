{
 "cells": [
  {
   "cell_type": "markdown",
   "metadata": {},
   "source": [
    "# Softmax Regression Example"
   ]
  },
  {
   "cell_type": "markdown",
   "metadata": {},
   "source": [
    "### 生成数据集， 看明白即可无需填写代码\n",
    "#### '<font color=\"blue\">+</font>' 从高斯分布采样 (X, Y) ~ N(3, 6, 1, 1, 0).<br>\n",
    "#### '<font color=\"green\">o</font>' 从高斯分布采样  (X, Y) ~ N(6, 3, 1, 1, 0)<br>\n",
    "#### '<font color=\"red\">*</font>' 从高斯分布采样  (X, Y) ~ N(7, 7, 1, 1, 0)<br>"
   ]
  },
  {
   "cell_type": "code",
   "execution_count": 1,
   "metadata": {},
   "outputs": [
    {
     "name": "stdout",
     "output_type": "stream",
     "text": [
      "WARNING:tensorflow:From D:\\Anaconda3\\Lib\\site-packages\\keras\\src\\losses.py:2976: The name tf.losses.sparse_softmax_cross_entropy is deprecated. Please use tf.compat.v1.losses.sparse_softmax_cross_entropy instead.\n",
      "\n"
     ]
    },
    {
     "data": {
      "image/png": "[encoded data removed]",
      "text/plain": [
       "<Figure size 640x480 with 1 Axes>"
      ]
     },
     "metadata": {},
     "output_type": "display_data"
    }
   ],
   "source": [
    "import tensorflow as tf\n",
    "import matplotlib.pyplot as plt\n",
    " \n",
    "from matplotlib import animation, rc\n",
    "from IPython.display import HTML\n",
    "import matplotlib.cm as cm\n",
    "import numpy as np\n",
    "%matplotlib inline\n",
    " \n",
    "dot_num = 100\n",
    "x_p = np.random.normal(3., 1, dot_num)\n",
    "y_p = np.random.normal(6., 1, dot_num)\n",
    "y = np.ones(dot_num)\n",
    "C1 = np.array([x_p, y_p, y]).T\n",
    " \n",
    "x_n = np.random.normal(6., 1, dot_num)\n",
    "y_n = np.random.normal(3., 1, dot_num)\n",
    "y = np.zeros(dot_num)\n",
    "C2 = np.array([x_n, y_n, y]).T\n",
    " \n",
    "x_b = np.random.normal(7., 1, dot_num)\n",
    "y_b = np.random.normal(7., 1, dot_num)\n",
    "y = np.ones(dot_num)*2\n",
    "C3 = np.array([x_b, y_b, y]).T\n",
    " \n",
    "plt.scatter(C1[:, 0], C1[:, 1], c='b', marker='+')\n",
    "plt.scatter(C2[:, 0], C2[:, 1], c='g', marker='o')\n",
    "plt.scatter(C3[:, 0], C3[:, 1], c='r', marker='*')\n",
    " \n",
    "data_set = np.concatenate((C1, C2, C3), axis=0)\n",
    "np.random.shuffle(data_set)"
   ]
  },
  {
   "cell_type": "markdown",
   "metadata": {},
   "source": [
    "## 建立模型\n",
    "建立模型类，定义loss函数，定义一步梯度下降过程函数\n",
    "\n",
    "填空一：在`__init__`构造函数中建立模型所需的参数\n",
    "\n",
    "填空二：实现softmax的交叉熵损失函数(不使用tf内置的loss 函数)"
   ]
  },
  {
   "cell_type": "code",
   "execution_count": 2,
   "metadata": {},
   "outputs": [],
   "source": [
    "epsilon = 1e-12\n",
    "class SoftmaxRegression():\n",
    "    def __init__(self):\n",
    "        '''============================='''\n",
    "        #todo 填空一，构建模型所需的参数 self.W, self.b 可以参考logistic-regression-exercise\n",
    "        '''============================='''\n",
    "        # 3个输出\n",
    "        self.W = tf.Variable(shape=[2, 3], dtype=tf.float32,\n",
    "                            initial_value=tf.random.uniform(shape=[2,3], minval=-0.1, maxval=0.1))\n",
    "        self.b = tf.Variable(shape=[1, 3], dtype=tf.float32,\n",
    "                            initial_value=tf.zeros(shape=[1,3]))\n",
    "        self.trainable_variables = [self.W, self.b]\n",
    "    @tf.function\n",
    "    def __call__(self, inp):\n",
    "        logits = tf.matmul(inp, self.W) + self.b # shape(N, 3)\n",
    "        pred = tf.nn.softmax(logits)\n",
    "        return pred    \n",
    "    \n",
    "@tf.function\n",
    "def compute_loss(pred, label):\n",
    "    label = tf.one_hot(tf.cast(label, dtype=tf.int32), dtype=tf.float32, depth=3)\n",
    "    '''============================='''\n",
    "    #输入label shape(N, 3), pred shape(N, 3)\n",
    "    #输出 losses shape(N,) 每一个样本一个loss\n",
    "    #todo 填空二，实现softmax的交叉熵损失函数(不使用tf内置的loss 函数)\n",
    "    losses = -tf.reduce_mean(label*tf.math.log(pred+epsilon))\n",
    "    '''============================='''\n",
    "    loss = tf.reduce_mean(losses)\n",
    "    \n",
    "    accuracy = tf.reduce_mean(tf.cast(tf.equal(tf.argmax(label,axis=1), tf.argmax(pred, axis=1)), dtype=tf.float32))\n",
    "    return loss, accuracy\n",
    " \n",
    "@tf.function\n",
    "def train_one_step(model, optimizer, x, y):\n",
    "    with tf.GradientTape() as tape:\n",
    "        pred = model(x)\n",
    "        loss, accuracy = compute_loss(pred, y)\n",
    "        \n",
    "    grads = tape.gradient(loss, model.trainable_variables)\n",
    "    optimizer.apply_gradients(zip(grads, model.trainable_variables))\n",
    "    return loss, accuracy"
   ]
  },
  {
   "cell_type": "markdown",
   "metadata": {},
   "source": [
    "### 实例化一个模型，进行训练"
   ]
  },
  {
   "cell_type": "code",
   "execution_count": 3,
   "metadata": {},
   "outputs": [
    {
     "ename": "TypeError",
     "evalue": "in user code:\n\n    File \"C:\\Users\\Administrator\\AppData\\Local\\Temp\\ipykernel_26440\\1597017841.py\", line 36, in train_one_step  *\n        pred = model(x)\n    File \"C:\\Users\\Administrator\\AppData\\Local\\Temp\\ipykernel_26440\\1597017841.py\", line 15, in __call__  *\n        logits = tf.matmul(inp, self.W) + self.b # shape(N, 3)\n\n    TypeError: Input 'b' of 'MatMul' Op has type float32 that does not match type float64 of argument 'a'.\n",
     "output_type": "error",
     "traceback": [
      "\u001b[1;31m---------------------------------------------------------------------------\u001b[0m",
      "\u001b[1;31mTypeError\u001b[0m                                 Traceback (most recent call last)",
      "Cell \u001b[1;32mIn[3], line 6\u001b[0m\n\u001b[0;32m      4\u001b[0m x \u001b[38;5;241m=\u001b[39m \u001b[38;5;28mlist\u001b[39m(\u001b[38;5;28mzip\u001b[39m(x1, x2))\n\u001b[0;32m      5\u001b[0m \u001b[38;5;28;01mfor\u001b[39;00m i \u001b[38;5;129;01min\u001b[39;00m \u001b[38;5;28mrange\u001b[39m(\u001b[38;5;241m1000\u001b[39m):\n\u001b[1;32m----> 6\u001b[0m     loss, accuracy \u001b[38;5;241m=\u001b[39m train_one_step(model, opt, x, y)\n\u001b[0;32m      7\u001b[0m     \u001b[38;5;28;01mif\u001b[39;00m i\u001b[38;5;241m%\u001b[39m\u001b[38;5;241m50\u001b[39m\u001b[38;5;241m==\u001b[39m\u001b[38;5;241m49\u001b[39m:\n\u001b[0;32m      8\u001b[0m         \u001b[38;5;28mprint\u001b[39m(\u001b[38;5;124mf\u001b[39m\u001b[38;5;124m'\u001b[39m\u001b[38;5;124mloss: \u001b[39m\u001b[38;5;132;01m{\u001b[39;00mloss\u001b[38;5;241m.\u001b[39mnumpy()\u001b[38;5;132;01m:\u001b[39;00m\u001b[38;5;124m.4\u001b[39m\u001b[38;5;132;01m}\u001b[39;00m\u001b[38;5;130;01m\\t\u001b[39;00m\u001b[38;5;124m accuracy: \u001b[39m\u001b[38;5;132;01m{\u001b[39;00maccuracy\u001b[38;5;241m.\u001b[39mnumpy()\u001b[38;5;132;01m:\u001b[39;00m\u001b[38;5;124m.4\u001b[39m\u001b[38;5;132;01m}\u001b[39;00m\u001b[38;5;124m'\u001b[39m)\n",
      "File \u001b[1;32mD:\\Anaconda3\\Lib\\site-packages\\tensorflow\\python\\util\\traceback_utils.py:153\u001b[0m, in \u001b[0;36mfilter_traceback.<locals>.error_handler\u001b[1;34m(*args, **kwargs)\u001b[0m\n\u001b[0;32m    151\u001b[0m \u001b[38;5;28;01mexcept\u001b[39;00m \u001b[38;5;167;01mException\u001b[39;00m \u001b[38;5;28;01mas\u001b[39;00m e:\n\u001b[0;32m    152\u001b[0m   filtered_tb \u001b[38;5;241m=\u001b[39m _process_traceback_frames(e\u001b[38;5;241m.\u001b[39m__traceback__)\n\u001b[1;32m--> 153\u001b[0m   \u001b[38;5;28;01mraise\u001b[39;00m e\u001b[38;5;241m.\u001b[39mwith_traceback(filtered_tb) \u001b[38;5;28;01mfrom\u001b[39;00m \u001b[38;5;28;01mNone\u001b[39;00m\n\u001b[0;32m    154\u001b[0m \u001b[38;5;28;01mfinally\u001b[39;00m:\n\u001b[0;32m    155\u001b[0m   \u001b[38;5;28;01mdel\u001b[39;00m filtered_tb\n",
      "File \u001b[1;32m~\\AppData\\Local\\Temp\\__autograph_generated_fileicj7v9_1.py:11\u001b[0m, in \u001b[0;36mouter_factory.<locals>.inner_factory.<locals>.tf__train_one_step\u001b[1;34m(model, optimizer, x, y)\u001b[0m\n\u001b[0;32m      9\u001b[0m retval_ \u001b[38;5;241m=\u001b[39m ag__\u001b[38;5;241m.\u001b[39mUndefinedReturnValue()\n\u001b[0;32m     10\u001b[0m \u001b[38;5;28;01mwith\u001b[39;00m ag__\u001b[38;5;241m.\u001b[39mld(tf)\u001b[38;5;241m.\u001b[39mGradientTape() \u001b[38;5;28;01mas\u001b[39;00m tape:\n\u001b[1;32m---> 11\u001b[0m     pred \u001b[38;5;241m=\u001b[39m ag__\u001b[38;5;241m.\u001b[39mconverted_call(ag__\u001b[38;5;241m.\u001b[39mld(model), (ag__\u001b[38;5;241m.\u001b[39mld(x),), \u001b[38;5;28;01mNone\u001b[39;00m, fscope)\n\u001b[0;32m     12\u001b[0m     loss, accuracy \u001b[38;5;241m=\u001b[39m ag__\u001b[38;5;241m.\u001b[39mconverted_call(ag__\u001b[38;5;241m.\u001b[39mld(compute_loss), (ag__\u001b[38;5;241m.\u001b[39mld(pred), ag__\u001b[38;5;241m.\u001b[39mld(y)), \u001b[38;5;28;01mNone\u001b[39;00m, fscope)\n\u001b[0;32m     13\u001b[0m grads \u001b[38;5;241m=\u001b[39m ag__\u001b[38;5;241m.\u001b[39mconverted_call(ag__\u001b[38;5;241m.\u001b[39mld(tape)\u001b[38;5;241m.\u001b[39mgradient, (ag__\u001b[38;5;241m.\u001b[39mld(loss), ag__\u001b[38;5;241m.\u001b[39mld(model)\u001b[38;5;241m.\u001b[39mtrainable_variables), \u001b[38;5;28;01mNone\u001b[39;00m, fscope)\n",
      "File \u001b[1;32m~\\AppData\\Local\\Temp\\__autograph_generated_filezm19a01h.py:10\u001b[0m, in \u001b[0;36mouter_factory.<locals>.inner_factory.<locals>.tf____call__\u001b[1;34m(self, inp)\u001b[0m\n\u001b[0;32m      8\u001b[0m do_return \u001b[38;5;241m=\u001b[39m \u001b[38;5;28;01mFalse\u001b[39;00m\n\u001b[0;32m      9\u001b[0m retval_ \u001b[38;5;241m=\u001b[39m ag__\u001b[38;5;241m.\u001b[39mUndefinedReturnValue()\n\u001b[1;32m---> 10\u001b[0m logits \u001b[38;5;241m=\u001b[39m ag__\u001b[38;5;241m.\u001b[39mconverted_call(ag__\u001b[38;5;241m.\u001b[39mld(tf)\u001b[38;5;241m.\u001b[39mmatmul, (ag__\u001b[38;5;241m.\u001b[39mld(inp), ag__\u001b[38;5;241m.\u001b[39mld(\u001b[38;5;28mself\u001b[39m)\u001b[38;5;241m.\u001b[39mW), \u001b[38;5;28;01mNone\u001b[39;00m, fscope) \u001b[38;5;241m+\u001b[39m ag__\u001b[38;5;241m.\u001b[39mld(\u001b[38;5;28mself\u001b[39m)\u001b[38;5;241m.\u001b[39mb\n\u001b[0;32m     11\u001b[0m pred \u001b[38;5;241m=\u001b[39m ag__\u001b[38;5;241m.\u001b[39mconverted_call(ag__\u001b[38;5;241m.\u001b[39mld(tf)\u001b[38;5;241m.\u001b[39mnn\u001b[38;5;241m.\u001b[39msoftmax, (ag__\u001b[38;5;241m.\u001b[39mld(logits),), \u001b[38;5;28;01mNone\u001b[39;00m, fscope)\n\u001b[0;32m     12\u001b[0m \u001b[38;5;28;01mtry\u001b[39;00m:\n",
      "\u001b[1;31mTypeError\u001b[0m: in user code:\n\n    File \"C:\\Users\\Administrator\\AppData\\Local\\Temp\\ipykernel_26440\\1597017841.py\", line 36, in train_one_step  *\n        pred = model(x)\n    File \"C:\\Users\\Administrator\\AppData\\Local\\Temp\\ipykernel_26440\\1597017841.py\", line 15, in __call__  *\n        logits = tf.matmul(inp, self.W) + self.b # shape(N, 3)\n\n    TypeError: Input 'b' of 'MatMul' Op has type float32 that does not match type float64 of argument 'a'.\n"
     ]
    }
   ],
   "source": [
    "model = SoftmaxRegression()\n",
    "opt = tf.keras.optimizers.SGD(learning_rate=0.01)\n",
    "x1, x2, y = list(zip(*data_set))\n",
    "x = list(zip(x1, x2))\n",
    "for i in range(1000):\n",
    "    loss, accuracy = train_one_step(model, opt, x, y)\n",
    "    if i%50==49:\n",
    "        print(f'loss: {loss.numpy():.4}\\t accuracy: {accuracy.numpy():.4}')"
   ]
  },
  {
   "cell_type": "markdown",
   "metadata": {},
   "source": [
    "## 结果展示，无需填写代码"
   ]
  },
  {
   "cell_type": "code",
   "execution_count": null,
   "metadata": {},
   "outputs": [],
   "source": [
    "plt.scatter(C1[:, 0], C1[:, 1], c='b', marker='+')\n",
    "plt.scatter(C2[:, 0], C2[:, 1], c='g', marker='o')\n",
    "plt.scatter(C3[:, 0], C3[:, 1], c='r', marker='*')\n",
    "\n",
    "x = np.arange(0., 10., 0.1)\n",
    "y = np.arange(0., 10., 0.1)\n",
    "\n",
    "X, Y = np.meshgrid(x, y)\n",
    "inp = np.array(list(zip(X.reshape(-1), Y.reshape(-1))), dtype=np.float32)\n",
    "print(inp.shape)\n",
    "Z = model(inp)\n",
    "Z = np.argmax(Z, axis=1)\n",
    "Z = Z.reshape(X.shape)\n",
    "plt.contour(X,Y,Z)\n",
    "plt.show()"
   ]
  },
  {
   "cell_type": "code",
   "execution_count": null,
   "metadata": {},
   "outputs": [],
   "source": []
  }
 ],
 "metadata": {
  "kernelspec": {
   "display_name": "Python 3 (ipykernel)",
   "language": "python",
   "name": "python3"
  },
  "language_info": {
   "codemirror_mode": {
    "name": "ipython",
    "version": 3
   },
   "file_extension": ".py",
   "mimetype": "text/x-python",
   "name": "python",
   "nbconvert_exporter": "python",
   "pygments_lexer": "ipython3",
   "version": "3.11.5"
  }
 },
 "nbformat": 4,
 "nbformat_minor": 1
}
