{
 "cells": [
  {
   "cell_type": "markdown",
   "metadata": {},
   "source": [
    "# 诗歌生成"
   ]
  },
  {
   "cell_type": "markdown",
   "metadata": {},
   "source": [
    "# 数据处理"
   ]
  },
  {
   "cell_type": "code",
   "execution_count": 10,
   "metadata": {},
   "outputs": [],
   "source": [
    "import tensorflow as tf\n",
    "tf.enable_eager_execution() # 关键\n",
    "import numpy as np\n",
    "import collections\n",
    "from tensorflow import keras\n",
    "from tensorflow.keras import layers\n",
    "from tensorflow.keras import layers, optimizers, datasets\n",
    "start_token = 'bos'\n",
    "end_token = '夜'\n",
    "\n",
    "def process_dataset(fileName):\n",
    "    examples = []\n",
    "    with open(fileName, 'r') as fd:\n",
    "        for line in fd:\n",
    "            outs = line.strip().split(':')\n",
    "            content = ''.join(outs[1:])\n",
    "            ins = [start_token] + list(content) + [end_token] \n",
    "            if len(ins) > 200:\n",
    "                continue\n",
    "            examples.append(ins)\n",
    "            \n",
    "    counter = collections.Counter()\n",
    "    for e in examples:\n",
    "        for w in e:\n",
    "            counter[w]+=1\n",
    "    \n",
    "    sorted_counter = sorted(counter.items(), key=lambda x: -x[1])  # 排序\n",
    "    words, _ = zip(*sorted_counter)\n",
    "    words = ('PAD', 'UNK') + words[:len(words)]\n",
    "    word2id = dict(zip(words, range(len(words))))\n",
    "    id2word = {word2id[k]:k for k in word2id}\n",
    "    \n",
    "    indexed_examples = [[word2id[w] for w in poem]\n",
    "                        for poem in examples]\n",
    "    seqlen = [len(e) for e in indexed_examples]\n",
    "    tf.config.experimental.list_physical_devices('GPU')\n",
    "    instances = list(zip(indexed_examples, seqlen))\n",
    "    \n",
    "    return instances, word2id, id2word\n",
    "\n",
    "def poem_dataset():\n",
    "    instances, word2id, id2word = process_dataset('./poems.txt')\n",
    "    ds = tf.data.Dataset.from_generator(lambda: [ins for ins in instances], \n",
    "                                            (tf.int64, tf.int64), \n",
    "                                            (tf.TensorShape([None]),tf.TensorShape([])))\n",
    "    ds = ds.shuffle(buffer_size=10240)\n",
    "    ds = ds.padded_batch(100, padded_shapes=(tf.TensorShape([None]),tf.TensorShape([])))\n",
    "    ds = ds.map(lambda x, seqlen: (x[:, :-1], x[:, 1:], seqlen-1))\n",
    "    return ds, word2id, id2word"
   ]
  },
  {
   "cell_type": "markdown",
   "metadata": {},
   "source": [
    "# 模型代码， 完成建模代码"
   ]
  },
  {
   "cell_type": "code",
   "execution_count": 11,
   "metadata": {},
   "outputs": [],
   "source": [
    "class myRNNModel(keras.Model):\n",
    "    def __init__(self, w2id):\n",
    "        super(myRNNModel, self).__init__()\n",
    "        self.v_sz = len(w2id)\n",
    "        self.embed_layer = tf.keras.layers.Embedding(self.v_sz, 64, \n",
    "                                                    batch_input_shape=[None, None])\n",
    "        \n",
    "        self.rnncell = tf.keras.layers.SimpleRNNCell(128)\n",
    "        self.rnn_layer = tf.keras.layers.RNN(self.rnncell, return_sequences=True)\n",
    "        self.dense = tf.keras.layers.Dense(self.v_sz)\n",
    "        \n",
    "    @tf.function\n",
    "    def call(self, inp_ids, training=None):\n",
    "        '''\n",
    "        此处完成建模过程\n",
    "        '''\n",
    "        inp_emb = self.embed_layer(inp_ids) # shape(b_sz, seq_len, emb_sz)\n",
    "        rnn_output = self.rnn_layer(inp_emb, training=training) # shape(b_sz, seq_len, h_sz)\n",
    "        logits = self.dense(rnn_output) # shape(b_sz, seq_len, v_sz)\n",
    "        return logits\n",
    "    \n",
    "    @tf.function\n",
    "    def get_next_token(self, x, state=None):\n",
    "        '''\n",
    "        生成序列中的下一个token\n",
    "        '''\n",
    "        inp_emb = self.embed_layer(x) # shape(b_sz, emb_sz)\n",
    "        if state is None:\n",
    "            state = self.rnncell.get_initial_state(inp_emb)\n",
    "        h, state = self.rnncell(inp_emb, state) # shape(b_sz, h_sz)\n",
    "        logits = self.dense(h) # shape(b_sz, v_sz)\n",
    "        out = tf.argmax(logits, axis=-1)\n",
    "        return out, state\n"
   ]
  },
  {
   "cell_type": "markdown",
   "metadata": {},
   "source": [
    "## 一个计算sequence loss的辅助函数，只需了解用途。"
   ]
  },
  {
   "cell_type": "code",
   "execution_count": 12,
   "metadata": {},
   "outputs": [],
   "source": [
    "def mkMask(input_tensor, maxLen):\n",
    "    shape_of_input = tf.shape(input_tensor)\n",
    "    shape_of_output = tf.concat(axis=0, values=[shape_of_input, [maxLen]])\n",
    "\n",
    "    oneDtensor = tf.reshape(input_tensor, shape=(-1,))\n",
    "    flat_mask = tf.sequence_mask(oneDtensor, maxlen=maxLen)\n",
    "    return tf.reshape(flat_mask, shape_of_output)\n",
    "\n",
    "\n",
    "def reduce_avg(reduce_target, lengths, dim):\n",
    "    \"\"\"\n",
    "    Args:\n",
    "        reduce_target : shape(d_0, d_1,..,d_dim, .., d_k)\n",
    "        lengths : shape(d0, .., d_(dim-1))\n",
    "        dim : which dimension to average, should be a python number\n",
    "    \"\"\"\n",
    "    shape_of_lengths = lengths.get_shape()\n",
    "    shape_of_target = reduce_target.get_shape()\n",
    "    if len(shape_of_lengths) != dim:\n",
    "        raise ValueError(('Second input tensor should be rank %d, ' +\n",
    "                         'while it got rank %d') % (dim, len(shape_of_lengths)))\n",
    "    if len(shape_of_target) < dim+1 :\n",
    "        raise ValueError(('First input tensor should be at least rank %d, ' +\n",
    "                         'while it got rank %d') % (dim+1, len(shape_of_target)))\n",
    "\n",
    "    rank_diff = len(shape_of_target) - len(shape_of_lengths) - 1\n",
    "    mxlen = tf.shape(reduce_target)[dim]\n",
    "    mask = mkMask(lengths, mxlen)\n",
    "    if rank_diff!=0:\n",
    "        len_shape = tf.concat(axis=0, values=[tf.shape(lengths), [1]*rank_diff])\n",
    "        mask_shape = tf.concat(axis=0, values=[tf.shape(mask), [1]*rank_diff])\n",
    "    else:\n",
    "        len_shape = tf.shape(lengths)\n",
    "        mask_shape = tf.shape(mask)\n",
    "    lengths_reshape = tf.reshape(lengths, shape=len_shape)\n",
    "    mask = tf.reshape(mask, shape=mask_shape)\n",
    "\n",
    "    mask_target = reduce_target * tf.cast(mask, dtype=reduce_target.dtype)\n",
    "\n",
    "    red_sum = tf.reduce_sum(mask_target, axis=[dim], keepdims=False)\n",
    "    red_avg = red_sum / (tf.cast(lengths_reshape, dtype=tf.float32) + 1e-30)\n",
    "    return red_avg"
   ]
  },
  {
   "cell_type": "markdown",
   "metadata": {},
   "source": [
    "# 定义loss函数，定义训练函数"
   ]
  },
  {
   "cell_type": "code",
   "execution_count": 13,
   "metadata": {},
   "outputs": [],
   "source": [
    "@tf.function\n",
    "def compute_loss(logits, labels, seqlen):\n",
    "    losses = tf.nn.sparse_softmax_cross_entropy_with_logits(\n",
    "            logits=logits, labels=labels)\n",
    "    losses = reduce_avg(losses, seqlen, dim=1)\n",
    "    return tf.reduce_mean(losses)\n",
    "\n",
    "@tf.function\n",
    "def train_one_step(model, optimizer, x, y, seqlen):\n",
    "    '''\n",
    "    完成一步优化过程，可以参考之前做过的模型\n",
    "    '''\n",
    "    with tf.GradientTape() as tape:\n",
    "        logits = model(x)\n",
    "        loss = compute_loss(logits, y, seqlen)\n",
    "    gradients = tape.gradient(loss, model.trainable_variables)\n",
    "    optimizer.apply_gradients(zip(gradients, model.trainable_variables))\n",
    "    return loss\n",
    "\n",
    "def train(epoch, model, optimizer, ds):\n",
    "    loss = 0.0\n",
    "    accuracy = 0.0\n",
    "    for step, (x, y, seqlen) in enumerate(ds):\n",
    "        loss = train_one_step(model, optimizer, x, y, seqlen)\n",
    "\n",
    "        if step % 500 == 0:\n",
    "            print('epoch', epoch, ': loss', loss.numpy())\n",
    "\n",
    "    return loss\n"
   ]
  },
  {
   "cell_type": "markdown",
   "metadata": {},
   "source": [
    "# 训练优化过程"
   ]
  },
  {
   "cell_type": "code",
   "execution_count": 14,
   "metadata": {},
   "outputs": [
    {
     "name": "stderr",
     "output_type": "stream",
     "text": [
      "2024-03-25 16:13:25.937597: W tensorflow/core/common_runtime/eager/context.cc:371] Added two functions with the same name: __inference_Dataset_from_generator_get_iterator_id_fn_48891\n",
      "2024-03-25 16:13:25.937643: W tensorflow/core/common_runtime/eager/context.cc:371] Added two functions with the same name: __inference_Dataset_from_generator_generator_next_fn_48898\n",
      "2024-03-25 16:13:25.937659: W tensorflow/core/common_runtime/eager/context.cc:371] Added two functions with the same name: __inference_Dataset_from_generator_finalize_fn_48903\n"
     ]
    },
    {
     "name": "stdout",
     "output_type": "stream",
     "text": [
      "WARNING:tensorflow:Entity <function train_one_step at 0x7609a470be60> could not be transformed and will be executed as-is. Please report this to the AutgoGraph team. When filing the bug, set the verbosity to 10 (on Linux, `export AUTOGRAPH_VERBOSITY=10`) and attach the full output. Cause: converting <function train_one_step at 0x7609a470be60>: AttributeError: module 'gast' has no attribute 'Str'\n",
      "WARNING: Entity <function train_one_step at 0x7609a470be60> could not be transformed and will be executed as-is. Please report this to the AutgoGraph team. When filing the bug, set the verbosity to 10 (on Linux, `export AUTOGRAPH_VERBOSITY=10`) and attach the full output. Cause: converting <function train_one_step at 0x7609a470be60>: AttributeError: module 'gast' has no attribute 'Str'\n",
      "WARNING:tensorflow:Entity <bound method myRNNModel.call of <tensorflow.python.eager.function.TfMethodTarget object at 0x7609a83fba50>> could not be transformed and will be executed as-is. Please report this to the AutgoGraph team. When filing the bug, set the verbosity to 10 (on Linux, `export AUTOGRAPH_VERBOSITY=10`) and attach the full output. Cause: converting <bound method myRNNModel.call of <tensorflow.python.eager.function.TfMethodTarget object at 0x7609a83fba50>>: AttributeError: module 'gast' has no attribute 'Str'\n",
      "WARNING: Entity <bound method myRNNModel.call of <tensorflow.python.eager.function.TfMethodTarget object at 0x7609a83fba50>> could not be transformed and will be executed as-is. Please report this to the AutgoGraph team. When filing the bug, set the verbosity to 10 (on Linux, `export AUTOGRAPH_VERBOSITY=10`) and attach the full output. Cause: converting <bound method myRNNModel.call of <tensorflow.python.eager.function.TfMethodTarget object at 0x7609a83fba50>>: AttributeError: module 'gast' has no attribute 'Str'\n",
      "WARNING:tensorflow:Entity <function Function._initialize_uninitialized_variables.<locals>.initialize_variables at 0x760921890050> could not be transformed and will be executed as-is. Please report this to the AutgoGraph team. When filing the bug, set the verbosity to 10 (on Linux, `export AUTOGRAPH_VERBOSITY=10`) and attach the full output. Cause: converting <function Function._initialize_uninitialized_variables.<locals>.initialize_variables at 0x760921890050>: AttributeError: module 'gast' has no attribute 'Index'\n",
      "WARNING: Entity <function Function._initialize_uninitialized_variables.<locals>.initialize_variables at 0x760921890050> could not be transformed and will be executed as-is. Please report this to the AutgoGraph team. When filing the bug, set the verbosity to 10 (on Linux, `export AUTOGRAPH_VERBOSITY=10`) and attach the full output. Cause: converting <function Function._initialize_uninitialized_variables.<locals>.initialize_variables at 0x760921890050>: AttributeError: module 'gast' has no attribute 'Index'\n",
      "WARNING:tensorflow:Entity <bound method myRNNModel.call of <tensorflow.python.eager.function.TfMethodTarget object at 0x7609a83fba50>> could not be transformed and will be executed as-is. Please report this to the AutgoGraph team. When filing the bug, set the verbosity to 10 (on Linux, `export AUTOGRAPH_VERBOSITY=10`) and attach the full output. Cause: converting <bound method myRNNModel.call of <tensorflow.python.eager.function.TfMethodTarget object at 0x7609a83fba50>>: AttributeError: module 'gast' has no attribute 'Str'\n",
      "WARNING: Entity <bound method myRNNModel.call of <tensorflow.python.eager.function.TfMethodTarget object at 0x7609a83fba50>> could not be transformed and will be executed as-is. Please report this to the AutgoGraph team. When filing the bug, set the verbosity to 10 (on Linux, `export AUTOGRAPH_VERBOSITY=10`) and attach the full output. Cause: converting <bound method myRNNModel.call of <tensorflow.python.eager.function.TfMethodTarget object at 0x7609a83fba50>>: AttributeError: module 'gast' has no attribute 'Str'\n",
      "WARNING:tensorflow:Entity <function compute_loss at 0x76092ddb40e0> could not be transformed and will be executed as-is. Please report this to the AutgoGraph team. When filing the bug, set the verbosity to 10 (on Linux, `export AUTOGRAPH_VERBOSITY=10`) and attach the full output. Cause: converting <function compute_loss at 0x76092ddb40e0>: AttributeError: module 'gast' has no attribute 'Str'\n",
      "WARNING: Entity <function compute_loss at 0x76092ddb40e0> could not be transformed and will be executed as-is. Please report this to the AutgoGraph team. When filing the bug, set the verbosity to 10 (on Linux, `export AUTOGRAPH_VERBOSITY=10`) and attach the full output. Cause: converting <function compute_loss at 0x76092ddb40e0>: AttributeError: module 'gast' has no attribute 'Str'\n"
     ]
    },
    {
     "name": "stderr",
     "output_type": "stream",
     "text": [
      "2024-03-25 16:13:26.275967: W tensorflow/core/common_runtime/eager/context.cc:371] Added two functions with the same name: rnn_1_while_cond_49074\n",
      "2024-03-25 16:13:26.276014: W tensorflow/core/common_runtime/eager/context.cc:371] Added two functions with the same name: rnn_1_while_body_49075\n",
      "2024-03-25 16:13:26.328496: W tensorflow/core/common_runtime/eager/context.cc:371] Added two functions with the same name: rnn_1_while_cond_49265\n",
      "2024-03-25 16:13:26.328540: W tensorflow/core/common_runtime/eager/context.cc:371] Added two functions with the same name: rnn_1_while_body_49266\n"
     ]
    },
    {
     "name": "stdout",
     "output_type": "stream",
     "text": [
      "WARNING:tensorflow:Entity <function Function._initialize_uninitialized_variables.<locals>.initialize_variables at 0x76092d6809e0> could not be transformed and will be executed as-is. Please report this to the AutgoGraph team. When filing the bug, set the verbosity to 10 (on Linux, `export AUTOGRAPH_VERBOSITY=10`) and attach the full output. Cause: converting <function Function._initialize_uninitialized_variables.<locals>.initialize_variables at 0x76092d6809e0>: AttributeError: module 'gast' has no attribute 'Index'\n",
      "WARNING: Entity <function Function._initialize_uninitialized_variables.<locals>.initialize_variables at 0x76092d6809e0> could not be transformed and will be executed as-is. Please report this to the AutgoGraph team. When filing the bug, set the verbosity to 10 (on Linux, `export AUTOGRAPH_VERBOSITY=10`) and attach the full output. Cause: converting <function Function._initialize_uninitialized_variables.<locals>.initialize_variables at 0x76092d6809e0>: AttributeError: module 'gast' has no attribute 'Index'\n",
      "WARNING:tensorflow:Entity <function train_one_step at 0x7609a470be60> could not be transformed and will be executed as-is. Please report this to the AutgoGraph team. When filing the bug, set the verbosity to 10 (on Linux, `export AUTOGRAPH_VERBOSITY=10`) and attach the full output. Cause: converting <function train_one_step at 0x7609a470be60>: AttributeError: module 'gast' has no attribute 'Str'\n",
      "WARNING: Entity <function train_one_step at 0x7609a470be60> could not be transformed and will be executed as-is. Please report this to the AutgoGraph team. When filing the bug, set the verbosity to 10 (on Linux, `export AUTOGRAPH_VERBOSITY=10`) and attach the full output. Cause: converting <function train_one_step at 0x7609a470be60>: AttributeError: module 'gast' has no attribute 'Str'\n"
     ]
    },
    {
     "name": "stderr",
     "output_type": "stream",
     "text": [
      "2024-03-25 16:13:26.487305: W tensorflow/core/common_runtime/eager/context.cc:371] Added two functions with the same name: __inference_call_49363\n",
      "2024-03-25 16:13:26.487516: W tensorflow/core/common_runtime/eager/context.cc:371] Added two functions with the same name: rnn_1_while_cond_49265\n",
      "2024-03-25 16:13:26.487535: W tensorflow/core/common_runtime/eager/context.cc:371] Added two functions with the same name: rnn_1_while_body_49266\n",
      "2024-03-25 16:13:26.487588: W tensorflow/core/common_runtime/eager/context.cc:371] Added two functions with the same name: __inference_compute_loss_49430\n",
      "2024-03-25 16:13:26.487691: W tensorflow/core/common_runtime/eager/context.cc:371] Added two functions with the same name: __forward_compute_loss_49436\n",
      "2024-03-25 16:13:26.487792: W tensorflow/core/common_runtime/eager/context.cc:371] Added two functions with the same name: __inference___backward_compute_loss_49434_49491\n",
      "2024-03-25 16:13:26.487882: W tensorflow/core/common_runtime/eager/context.cc:371] Added two functions with the same name: __forward_call_49502\n",
      "2024-03-25 16:13:26.488042: W tensorflow/core/common_runtime/eager/context.cc:371] Added two functions with the same name: rnn_1_while_cond_49265_rewritten\n",
      "2024-03-25 16:13:26.488061: W tensorflow/core/common_runtime/eager/context.cc:371] Added two functions with the same name: rnn_1_while_body_49266_rewritten\n",
      "2024-03-25 16:13:26.488126: W tensorflow/core/common_runtime/eager/context.cc:371] Added two functions with the same name: __inference___backward_call_49500_49826\n",
      "2024-03-25 16:13:26.488232: W tensorflow/core/common_runtime/eager/context.cc:371] Added two functions with the same name: rnn_1_while_cond_49265_rewritten_grad_49735\n",
      "2024-03-25 16:13:26.488245: W tensorflow/core/common_runtime/eager/context.cc:371] Added two functions with the same name: rnn_1_while_body_49266_grad_49589\n",
      "2024-03-25 16:13:26.552209: W tensorflow/core/common_runtime/eager/context.cc:371] Added two functions with the same name: __inference_call_49363\n",
      "2024-03-25 16:13:26.552420: W tensorflow/core/common_runtime/eager/context.cc:371] Added two functions with the same name: rnn_1_while_cond_49265\n",
      "2024-03-25 16:13:26.552439: W tensorflow/core/common_runtime/eager/context.cc:371] Added two functions with the same name: rnn_1_while_body_49266\n",
      "2024-03-25 16:13:26.552489: W tensorflow/core/common_runtime/eager/context.cc:371] Added two functions with the same name: rnn_1_while_cond_49265_rewritten\n",
      "2024-03-25 16:13:26.552508: W tensorflow/core/common_runtime/eager/context.cc:371] Added two functions with the same name: rnn_1_while_body_49266_rewritten\n",
      "2024-03-25 16:13:26.552581: W tensorflow/core/common_runtime/eager/context.cc:371] Added two functions with the same name: __inference_compute_loss_49430\n",
      "2024-03-25 16:13:26.552678: W tensorflow/core/common_runtime/eager/context.cc:371] Added two functions with the same name: __forward_compute_loss_49436\n",
      "2024-03-25 16:13:26.552772: W tensorflow/core/common_runtime/eager/context.cc:371] Added two functions with the same name: __inference___backward_compute_loss_49434_49491\n",
      "2024-03-25 16:13:26.552855: W tensorflow/core/common_runtime/eager/context.cc:371] Added two functions with the same name: __forward_call_49502\n",
      "2024-03-25 16:13:26.553034: W tensorflow/core/common_runtime/eager/context.cc:371] Added two functions with the same name: __inference___backward_call_49500_49826\n",
      "2024-03-25 16:13:26.553155: W tensorflow/core/common_runtime/eager/context.cc:371] Added two functions with the same name: rnn_1_while_cond_49265_rewritten_grad_49735\n",
      "2024-03-25 16:13:26.553170: W tensorflow/core/common_runtime/eager/context.cc:371] Added two functions with the same name: rnn_1_while_body_49266_grad_49589\n",
      "2024-03-25 16:13:26.574341: E tensorflow/core/grappler/optimizers/meta_optimizer.cc:502] constant folding failed: Invalid argument: Unsupported type: 21\n",
      "2024-03-25 16:13:26.605316: E tensorflow/core/grappler/optimizers/meta_optimizer.cc:502] constant folding failed: Invalid argument: Unsupported type: 21\n"
     ]
    },
    {
     "name": "stdout",
     "output_type": "stream",
     "text": [
      "epoch 0 : loss 8.820492\n",
      "WARNING:tensorflow:Entity <function train_one_step at 0x7609a470be60> could not be transformed and will be executed as-is. Please report this to the AutgoGraph team. When filing the bug, set the verbosity to 10 (on Linux, `export AUTOGRAPH_VERBOSITY=10`) and attach the full output. Cause: converting <function train_one_step at 0x7609a470be60>: AttributeError: module 'gast' has no attribute 'Str'\n",
      "WARNING: Entity <function train_one_step at 0x7609a470be60> could not be transformed and will be executed as-is. Please report this to the AutgoGraph team. When filing the bug, set the verbosity to 10 (on Linux, `export AUTOGRAPH_VERBOSITY=10`) and attach the full output. Cause: converting <function train_one_step at 0x7609a470be60>: AttributeError: module 'gast' has no attribute 'Str'\n",
      "WARNING:tensorflow:Entity <bound method myRNNModel.call of <tensorflow.python.eager.function.TfMethodTarget object at 0x7609a83fba50>> could not be transformed and will be executed as-is. Please report this to the AutgoGraph team. When filing the bug, set the verbosity to 10 (on Linux, `export AUTOGRAPH_VERBOSITY=10`) and attach the full output. Cause: converting <bound method myRNNModel.call of <tensorflow.python.eager.function.TfMethodTarget object at 0x7609a83fba50>>: AttributeError: module 'gast' has no attribute 'Str'\n",
      "WARNING: Entity <bound method myRNNModel.call of <tensorflow.python.eager.function.TfMethodTarget object at 0x7609a83fba50>> could not be transformed and will be executed as-is. Please report this to the AutgoGraph team. When filing the bug, set the verbosity to 10 (on Linux, `export AUTOGRAPH_VERBOSITY=10`) and attach the full output. Cause: converting <bound method myRNNModel.call of <tensorflow.python.eager.function.TfMethodTarget object at 0x7609a83fba50>>: AttributeError: module 'gast' has no attribute 'Str'\n",
      "WARNING:tensorflow:Entity <function compute_loss at 0x76092ddb40e0> could not be transformed and will be executed as-is. Please report this to the AutgoGraph team. When filing the bug, set the verbosity to 10 (on Linux, `export AUTOGRAPH_VERBOSITY=10`) and attach the full output. Cause: converting <function compute_loss at 0x76092ddb40e0>: AttributeError: module 'gast' has no attribute 'Str'\n",
      "WARNING: Entity <function compute_loss at 0x76092ddb40e0> could not be transformed and will be executed as-is. Please report this to the AutgoGraph team. When filing the bug, set the verbosity to 10 (on Linux, `export AUTOGRAPH_VERBOSITY=10`) and attach the full output. Cause: converting <function compute_loss at 0x76092ddb40e0>: AttributeError: module 'gast' has no attribute 'Str'\n"
     ]
    },
    {
     "name": "stderr",
     "output_type": "stream",
     "text": [
      "2024-03-25 16:13:26.911954: W tensorflow/core/common_runtime/eager/context.cc:371] Added two functions with the same name: rnn_1_while_cond_50523\n",
      "2024-03-25 16:13:26.911996: W tensorflow/core/common_runtime/eager/context.cc:371] Added two functions with the same name: rnn_1_while_body_50524\n",
      "2024-03-25 16:13:27.316424: W tensorflow/core/common_runtime/eager/context.cc:371] Added two functions with the same name: __inference_call_50621\n",
      "2024-03-25 16:13:27.316591: W tensorflow/core/common_runtime/eager/context.cc:371] Added two functions with the same name: rnn_1_while_cond_50523\n",
      "2024-03-25 16:13:27.316607: W tensorflow/core/common_runtime/eager/context.cc:371] Added two functions with the same name: rnn_1_while_body_50524\n",
      "2024-03-25 16:13:27.316644: W tensorflow/core/common_runtime/eager/context.cc:371] Added two functions with the same name: __inference_compute_loss_50687\n",
      "2024-03-25 16:13:27.316706: W tensorflow/core/common_runtime/eager/context.cc:371] Added two functions with the same name: __forward_compute_loss_50693\n",
      "2024-03-25 16:13:27.316767: W tensorflow/core/common_runtime/eager/context.cc:371] Added two functions with the same name: __inference___backward_compute_loss_50691_50748\n",
      "2024-03-25 16:13:27.316816: W tensorflow/core/common_runtime/eager/context.cc:371] Added two functions with the same name: __forward_call_50759\n",
      "2024-03-25 16:13:27.316932: W tensorflow/core/common_runtime/eager/context.cc:371] Added two functions with the same name: rnn_1_while_cond_50523_rewritten\n",
      "2024-03-25 16:13:27.316947: W tensorflow/core/common_runtime/eager/context.cc:371] Added two functions with the same name: rnn_1_while_body_50524_rewritten\n",
      "2024-03-25 16:13:27.317003: W tensorflow/core/common_runtime/eager/context.cc:371] Added two functions with the same name: __inference___backward_call_50757_51083\n",
      "2024-03-25 16:13:27.317082: W tensorflow/core/common_runtime/eager/context.cc:371] Added two functions with the same name: rnn_1_while_cond_50523_rewritten_grad_50992\n",
      "2024-03-25 16:13:27.317094: W tensorflow/core/common_runtime/eager/context.cc:371] Added two functions with the same name: rnn_1_while_body_50524_grad_50846\n",
      "2024-03-25 16:13:27.338136: E tensorflow/core/grappler/optimizers/meta_optimizer.cc:502] constant folding failed: Invalid argument: Unsupported type: 21\n",
      "2024-03-25 16:13:27.370216: E tensorflow/core/grappler/optimizers/meta_optimizer.cc:502] constant folding failed: Invalid argument: Unsupported type: 21\n"
     ]
    },
    {
     "name": "stdout",
     "output_type": "stream",
     "text": [
      "WARNING:tensorflow:Entity <function train_one_step at 0x7609a470be60> could not be transformed and will be executed as-is. Please report this to the AutgoGraph team. When filing the bug, set the verbosity to 10 (on Linux, `export AUTOGRAPH_VERBOSITY=10`) and attach the full output. Cause: converting <function train_one_step at 0x7609a470be60>: AttributeError: module 'gast' has no attribute 'Str'\n",
      "WARNING: Entity <function train_one_step at 0x7609a470be60> could not be transformed and will be executed as-is. Please report this to the AutgoGraph team. When filing the bug, set the verbosity to 10 (on Linux, `export AUTOGRAPH_VERBOSITY=10`) and attach the full output. Cause: converting <function train_one_step at 0x7609a470be60>: AttributeError: module 'gast' has no attribute 'Str'\n",
      "WARNING:tensorflow:Entity <bound method myRNNModel.call of <tensorflow.python.eager.function.TfMethodTarget object at 0x7609a83fba50>> could not be transformed and will be executed as-is. Please report this to the AutgoGraph team. When filing the bug, set the verbosity to 10 (on Linux, `export AUTOGRAPH_VERBOSITY=10`) and attach the full output. Cause: converting <bound method myRNNModel.call of <tensorflow.python.eager.function.TfMethodTarget object at 0x7609a83fba50>>: AttributeError: module 'gast' has no attribute 'Str'\n",
      "WARNING: Entity <bound method myRNNModel.call of <tensorflow.python.eager.function.TfMethodTarget object at 0x7609a83fba50>> could not be transformed and will be executed as-is. Please report this to the AutgoGraph team. When filing the bug, set the verbosity to 10 (on Linux, `export AUTOGRAPH_VERBOSITY=10`) and attach the full output. Cause: converting <bound method myRNNModel.call of <tensorflow.python.eager.function.TfMethodTarget object at 0x7609a83fba50>>: AttributeError: module 'gast' has no attribute 'Str'\n",
      "WARNING:tensorflow:Entity <function compute_loss at 0x76092ddb40e0> could not be transformed and will be executed as-is. Please report this to the AutgoGraph team. When filing the bug, set the verbosity to 10 (on Linux, `export AUTOGRAPH_VERBOSITY=10`) and attach the full output. Cause: converting <function compute_loss at 0x76092ddb40e0>: AttributeError: module 'gast' has no attribute 'Str'\n",
      "WARNING: Entity <function compute_loss at 0x76092ddb40e0> could not be transformed and will be executed as-is. Please report this to the AutgoGraph team. When filing the bug, set the verbosity to 10 (on Linux, `export AUTOGRAPH_VERBOSITY=10`) and attach the full output. Cause: converting <function compute_loss at 0x76092ddb40e0>: AttributeError: module 'gast' has no attribute 'Str'\n"
     ]
    },
    {
     "name": "stderr",
     "output_type": "stream",
     "text": [
      "2024-03-25 16:13:28.288905: W tensorflow/core/common_runtime/eager/context.cc:371] Added two functions with the same name: rnn_1_while_cond_51348\n",
      "2024-03-25 16:13:28.288950: W tensorflow/core/common_runtime/eager/context.cc:371] Added two functions with the same name: rnn_1_while_body_51349\n",
      "2024-03-25 16:13:28.453419: W tensorflow/core/common_runtime/eager/context.cc:371] Added two functions with the same name: __inference_call_51446\n",
      "2024-03-25 16:13:28.453561: W tensorflow/core/common_runtime/eager/context.cc:371] Added two functions with the same name: rnn_1_while_cond_51348\n",
      "2024-03-25 16:13:28.453575: W tensorflow/core/common_runtime/eager/context.cc:371] Added two functions with the same name: rnn_1_while_body_51349\n",
      "2024-03-25 16:13:28.453609: W tensorflow/core/common_runtime/eager/context.cc:371] Added two functions with the same name: __inference_compute_loss_51512\n",
      "2024-03-25 16:13:28.453676: W tensorflow/core/common_runtime/eager/context.cc:371] Added two functions with the same name: __forward_compute_loss_51518\n",
      "2024-03-25 16:13:28.453738: W tensorflow/core/common_runtime/eager/context.cc:371] Added two functions with the same name: __inference___backward_compute_loss_51516_51573\n",
      "2024-03-25 16:13:28.453786: W tensorflow/core/common_runtime/eager/context.cc:371] Added two functions with the same name: __forward_call_51584\n",
      "2024-03-25 16:13:28.453901: W tensorflow/core/common_runtime/eager/context.cc:371] Added two functions with the same name: rnn_1_while_cond_51348_rewritten\n",
      "2024-03-25 16:13:28.453915: W tensorflow/core/common_runtime/eager/context.cc:371] Added two functions with the same name: rnn_1_while_body_51349_rewritten\n",
      "2024-03-25 16:13:28.453964: W tensorflow/core/common_runtime/eager/context.cc:371] Added two functions with the same name: __inference___backward_call_51582_51908\n",
      "2024-03-25 16:13:28.454037: W tensorflow/core/common_runtime/eager/context.cc:371] Added two functions with the same name: rnn_1_while_cond_51348_rewritten_grad_51817\n",
      "2024-03-25 16:13:28.454048: W tensorflow/core/common_runtime/eager/context.cc:371] Added two functions with the same name: rnn_1_while_body_51349_grad_51671\n",
      "2024-03-25 16:13:28.475121: E tensorflow/core/grappler/optimizers/meta_optimizer.cc:502] constant folding failed: Invalid argument: Unsupported type: 21\n",
      "2024-03-25 16:13:28.508004: E tensorflow/core/grappler/optimizers/meta_optimizer.cc:502] constant folding failed: Invalid argument: Unsupported type: 21\n"
     ]
    },
    {
     "name": "stdout",
     "output_type": "stream",
     "text": [
      "WARNING:tensorflow:Entity <function train_one_step at 0x7609a470be60> could not be transformed and will be executed as-is. Please report this to the AutgoGraph team. When filing the bug, set the verbosity to 10 (on Linux, `export AUTOGRAPH_VERBOSITY=10`) and attach the full output. Cause: converting <function train_one_step at 0x7609a470be60>: AttributeError: module 'gast' has no attribute 'Str'\n",
      "WARNING: Entity <function train_one_step at 0x7609a470be60> could not be transformed and will be executed as-is. Please report this to the AutgoGraph team. When filing the bug, set the verbosity to 10 (on Linux, `export AUTOGRAPH_VERBOSITY=10`) and attach the full output. Cause: converting <function train_one_step at 0x7609a470be60>: AttributeError: module 'gast' has no attribute 'Str'\n",
      "WARNING:tensorflow:Entity <bound method myRNNModel.call of <tensorflow.python.eager.function.TfMethodTarget object at 0x7609a83fba50>> could not be transformed and will be executed as-is. Please report this to the AutgoGraph team. When filing the bug, set the verbosity to 10 (on Linux, `export AUTOGRAPH_VERBOSITY=10`) and attach the full output. Cause: converting <bound method myRNNModel.call of <tensorflow.python.eager.function.TfMethodTarget object at 0x7609a83fba50>>: AttributeError: module 'gast' has no attribute 'Str'\n",
      "WARNING: Entity <bound method myRNNModel.call of <tensorflow.python.eager.function.TfMethodTarget object at 0x7609a83fba50>> could not be transformed and will be executed as-is. Please report this to the AutgoGraph team. When filing the bug, set the verbosity to 10 (on Linux, `export AUTOGRAPH_VERBOSITY=10`) and attach the full output. Cause: converting <bound method myRNNModel.call of <tensorflow.python.eager.function.TfMethodTarget object at 0x7609a83fba50>>: AttributeError: module 'gast' has no attribute 'Str'\n",
      "WARNING:tensorflow:Entity <function compute_loss at 0x76092ddb40e0> could not be transformed and will be executed as-is. Please report this to the AutgoGraph team. When filing the bug, set the verbosity to 10 (on Linux, `export AUTOGRAPH_VERBOSITY=10`) and attach the full output. Cause: converting <function compute_loss at 0x76092ddb40e0>: AttributeError: module 'gast' has no attribute 'Str'\n",
      "WARNING: Entity <function compute_loss at 0x76092ddb40e0> could not be transformed and will be executed as-is. Please report this to the AutgoGraph team. When filing the bug, set the verbosity to 10 (on Linux, `export AUTOGRAPH_VERBOSITY=10`) and attach the full output. Cause: converting <function compute_loss at 0x76092ddb40e0>: AttributeError: module 'gast' has no attribute 'Str'\n"
     ]
    },
    {
     "name": "stderr",
     "output_type": "stream",
     "text": [
      "2024-03-25 16:13:28.962058: W tensorflow/core/common_runtime/eager/context.cc:371] Added two functions with the same name: rnn_1_while_cond_52165\n",
      "2024-03-25 16:13:28.962095: W tensorflow/core/common_runtime/eager/context.cc:371] Added two functions with the same name: rnn_1_while_body_52166\n",
      "2024-03-25 16:13:29.093574: W tensorflow/core/common_runtime/eager/context.cc:371] Added two functions with the same name: __inference_call_52263\n",
      "2024-03-25 16:13:29.093712: W tensorflow/core/common_runtime/eager/context.cc:371] Added two functions with the same name: rnn_1_while_cond_52165\n",
      "2024-03-25 16:13:29.093726: W tensorflow/core/common_runtime/eager/context.cc:371] Added two functions with the same name: rnn_1_while_body_52166\n",
      "2024-03-25 16:13:29.093769: W tensorflow/core/common_runtime/eager/context.cc:371] Added two functions with the same name: __inference_compute_loss_52329\n",
      "2024-03-25 16:13:29.093835: W tensorflow/core/common_runtime/eager/context.cc:371] Added two functions with the same name: __forward_compute_loss_52335\n",
      "2024-03-25 16:13:29.093905: W tensorflow/core/common_runtime/eager/context.cc:371] Added two functions with the same name: __inference___backward_compute_loss_52333_52390\n",
      "2024-03-25 16:13:29.093963: W tensorflow/core/common_runtime/eager/context.cc:371] Added two functions with the same name: __forward_call_52401\n",
      "2024-03-25 16:13:29.094095: W tensorflow/core/common_runtime/eager/context.cc:371] Added two functions with the same name: rnn_1_while_cond_52165_rewritten\n",
      "2024-03-25 16:13:29.094116: W tensorflow/core/common_runtime/eager/context.cc:371] Added two functions with the same name: rnn_1_while_body_52166_rewritten\n",
      "2024-03-25 16:13:29.094173: W tensorflow/core/common_runtime/eager/context.cc:371] Added two functions with the same name: __inference___backward_call_52399_52725\n",
      "2024-03-25 16:13:29.094260: W tensorflow/core/common_runtime/eager/context.cc:371] Added two functions with the same name: rnn_1_while_cond_52165_rewritten_grad_52634\n",
      "2024-03-25 16:13:29.094271: W tensorflow/core/common_runtime/eager/context.cc:371] Added two functions with the same name: rnn_1_while_body_52166_grad_52488\n",
      "2024-03-25 16:13:29.112999: E tensorflow/core/grappler/optimizers/meta_optimizer.cc:502] constant folding failed: Invalid argument: Unsupported type: 21\n",
      "2024-03-25 16:13:29.142190: E tensorflow/core/grappler/optimizers/meta_optimizer.cc:502] constant folding failed: Invalid argument: Unsupported type: 21\n"
     ]
    },
    {
     "name": "stdout",
     "output_type": "stream",
     "text": [
      "WARNING:tensorflow:Entity <function train_one_step at 0x7609a470be60> could not be transformed and will be executed as-is. Please report this to the AutgoGraph team. When filing the bug, set the verbosity to 10 (on Linux, `export AUTOGRAPH_VERBOSITY=10`) and attach the full output. Cause: converting <function train_one_step at 0x7609a470be60>: AttributeError: module 'gast' has no attribute 'Str'\n",
      "WARNING: Entity <function train_one_step at 0x7609a470be60> could not be transformed and will be executed as-is. Please report this to the AutgoGraph team. When filing the bug, set the verbosity to 10 (on Linux, `export AUTOGRAPH_VERBOSITY=10`) and attach the full output. Cause: converting <function train_one_step at 0x7609a470be60>: AttributeError: module 'gast' has no attribute 'Str'\n",
      "WARNING:tensorflow:Entity <bound method myRNNModel.call of <tensorflow.python.eager.function.TfMethodTarget object at 0x7609a83fba50>> could not be transformed and will be executed as-is. Please report this to the AutgoGraph team. When filing the bug, set the verbosity to 10 (on Linux, `export AUTOGRAPH_VERBOSITY=10`) and attach the full output. Cause: converting <bound method myRNNModel.call of <tensorflow.python.eager.function.TfMethodTarget object at 0x7609a83fba50>>: AttributeError: module 'gast' has no attribute 'Str'\n",
      "WARNING: Entity <bound method myRNNModel.call of <tensorflow.python.eager.function.TfMethodTarget object at 0x7609a83fba50>> could not be transformed and will be executed as-is. Please report this to the AutgoGraph team. When filing the bug, set the verbosity to 10 (on Linux, `export AUTOGRAPH_VERBOSITY=10`) and attach the full output. Cause: converting <bound method myRNNModel.call of <tensorflow.python.eager.function.TfMethodTarget object at 0x7609a83fba50>>: AttributeError: module 'gast' has no attribute 'Str'\n",
      "WARNING:tensorflow:Entity <function compute_loss at 0x76092ddb40e0> could not be transformed and will be executed as-is. Please report this to the AutgoGraph team. When filing the bug, set the verbosity to 10 (on Linux, `export AUTOGRAPH_VERBOSITY=10`) and attach the full output. Cause: converting <function compute_loss at 0x76092ddb40e0>: AttributeError: module 'gast' has no attribute 'Str'\n",
      "WARNING: Entity <function compute_loss at 0x76092ddb40e0> could not be transformed and will be executed as-is. Please report this to the AutgoGraph team. When filing the bug, set the verbosity to 10 (on Linux, `export AUTOGRAPH_VERBOSITY=10`) and attach the full output. Cause: converting <function compute_loss at 0x76092ddb40e0>: AttributeError: module 'gast' has no attribute 'Str'\n"
     ]
    },
    {
     "name": "stderr",
     "output_type": "stream",
     "text": [
      "2024-03-25 16:13:29.604204: W tensorflow/core/common_runtime/eager/context.cc:371] Added two functions with the same name: rnn_1_while_cond_52982\n",
      "2024-03-25 16:13:29.604243: W tensorflow/core/common_runtime/eager/context.cc:371] Added two functions with the same name: rnn_1_while_body_52983\n",
      "2024-03-25 16:13:29.733464: W tensorflow/core/common_runtime/eager/context.cc:371] Added two functions with the same name: __inference_call_53080\n",
      "2024-03-25 16:13:29.733604: W tensorflow/core/common_runtime/eager/context.cc:371] Added two functions with the same name: rnn_1_while_cond_52982\n",
      "2024-03-25 16:13:29.733619: W tensorflow/core/common_runtime/eager/context.cc:371] Added two functions with the same name: rnn_1_while_body_52983\n",
      "2024-03-25 16:13:29.733651: W tensorflow/core/common_runtime/eager/context.cc:371] Added two functions with the same name: __inference_compute_loss_53146\n",
      "2024-03-25 16:13:29.733704: W tensorflow/core/common_runtime/eager/context.cc:371] Added two functions with the same name: __forward_compute_loss_53152\n",
      "2024-03-25 16:13:29.733759: W tensorflow/core/common_runtime/eager/context.cc:371] Added two functions with the same name: __inference___backward_compute_loss_53150_53207\n",
      "2024-03-25 16:13:29.733803: W tensorflow/core/common_runtime/eager/context.cc:371] Added two functions with the same name: __forward_call_53218\n",
      "2024-03-25 16:13:29.733913: W tensorflow/core/common_runtime/eager/context.cc:371] Added two functions with the same name: rnn_1_while_cond_52982_rewritten\n",
      "2024-03-25 16:13:29.733927: W tensorflow/core/common_runtime/eager/context.cc:371] Added two functions with the same name: rnn_1_while_body_52983_rewritten\n",
      "2024-03-25 16:13:29.733976: W tensorflow/core/common_runtime/eager/context.cc:371] Added two functions with the same name: __inference___backward_call_53216_53542\n",
      "2024-03-25 16:13:29.734046: W tensorflow/core/common_runtime/eager/context.cc:371] Added two functions with the same name: rnn_1_while_cond_52982_rewritten_grad_53451\n",
      "2024-03-25 16:13:29.734056: W tensorflow/core/common_runtime/eager/context.cc:371] Added two functions with the same name: rnn_1_while_body_52983_grad_53305\n",
      "2024-03-25 16:13:29.752211: E tensorflow/core/grappler/optimizers/meta_optimizer.cc:502] constant folding failed: Invalid argument: Unsupported type: 21\n",
      "2024-03-25 16:13:29.779913: E tensorflow/core/grappler/optimizers/meta_optimizer.cc:502] constant folding failed: Invalid argument: Unsupported type: 21\n"
     ]
    },
    {
     "name": "stdout",
     "output_type": "stream",
     "text": [
      "WARNING:tensorflow:Entity <function train_one_step at 0x7609a470be60> could not be transformed and will be executed as-is. Please report this to the AutgoGraph team. When filing the bug, set the verbosity to 10 (on Linux, `export AUTOGRAPH_VERBOSITY=10`) and attach the full output. Cause: converting <function train_one_step at 0x7609a470be60>: AttributeError: module 'gast' has no attribute 'Str'\n",
      "WARNING: Entity <function train_one_step at 0x7609a470be60> could not be transformed and will be executed as-is. Please report this to the AutgoGraph team. When filing the bug, set the verbosity to 10 (on Linux, `export AUTOGRAPH_VERBOSITY=10`) and attach the full output. Cause: converting <function train_one_step at 0x7609a470be60>: AttributeError: module 'gast' has no attribute 'Str'\n",
      "WARNING:tensorflow:Entity <bound method myRNNModel.call of <tensorflow.python.eager.function.TfMethodTarget object at 0x7609a83fba50>> could not be transformed and will be executed as-is. Please report this to the AutgoGraph team. When filing the bug, set the verbosity to 10 (on Linux, `export AUTOGRAPH_VERBOSITY=10`) and attach the full output. Cause: converting <bound method myRNNModel.call of <tensorflow.python.eager.function.TfMethodTarget object at 0x7609a83fba50>>: AttributeError: module 'gast' has no attribute 'Str'\n",
      "WARNING: Entity <bound method myRNNModel.call of <tensorflow.python.eager.function.TfMethodTarget object at 0x7609a83fba50>> could not be transformed and will be executed as-is. Please report this to the AutgoGraph team. When filing the bug, set the verbosity to 10 (on Linux, `export AUTOGRAPH_VERBOSITY=10`) and attach the full output. Cause: converting <bound method myRNNModel.call of <tensorflow.python.eager.function.TfMethodTarget object at 0x7609a83fba50>>: AttributeError: module 'gast' has no attribute 'Str'\n",
      "WARNING:tensorflow:Entity <function compute_loss at 0x76092ddb40e0> could not be transformed and will be executed as-is. Please report this to the AutgoGraph team. When filing the bug, set the verbosity to 10 (on Linux, `export AUTOGRAPH_VERBOSITY=10`) and attach the full output. Cause: converting <function compute_loss at 0x76092ddb40e0>: AttributeError: module 'gast' has no attribute 'Str'\n",
      "WARNING: Entity <function compute_loss at 0x76092ddb40e0> could not be transformed and will be executed as-is. Please report this to the AutgoGraph team. When filing the bug, set the verbosity to 10 (on Linux, `export AUTOGRAPH_VERBOSITY=10`) and attach the full output. Cause: converting <function compute_loss at 0x76092ddb40e0>: AttributeError: module 'gast' has no attribute 'Str'\n"
     ]
    },
    {
     "name": "stderr",
     "output_type": "stream",
     "text": [
      "2024-03-25 16:13:30.593277: W tensorflow/core/common_runtime/eager/context.cc:371] Added two functions with the same name: rnn_1_while_cond_53807\n",
      "2024-03-25 16:13:30.593316: W tensorflow/core/common_runtime/eager/context.cc:371] Added two functions with the same name: rnn_1_while_body_53808\n",
      "2024-03-25 16:13:30.731217: W tensorflow/core/common_runtime/eager/context.cc:371] Added two functions with the same name: __inference_call_53905\n",
      "2024-03-25 16:13:30.731372: W tensorflow/core/common_runtime/eager/context.cc:371] Added two functions with the same name: rnn_1_while_cond_53807\n",
      "2024-03-25 16:13:30.731387: W tensorflow/core/common_runtime/eager/context.cc:371] Added two functions with the same name: rnn_1_while_body_53808\n",
      "2024-03-25 16:13:30.731421: W tensorflow/core/common_runtime/eager/context.cc:371] Added two functions with the same name: __inference_compute_loss_53971\n",
      "2024-03-25 16:13:30.731480: W tensorflow/core/common_runtime/eager/context.cc:371] Added two functions with the same name: __forward_compute_loss_53977\n",
      "2024-03-25 16:13:30.731539: W tensorflow/core/common_runtime/eager/context.cc:371] Added two functions with the same name: __inference___backward_compute_loss_53975_54032\n",
      "2024-03-25 16:13:30.731588: W tensorflow/core/common_runtime/eager/context.cc:371] Added two functions with the same name: __forward_call_54043\n",
      "2024-03-25 16:13:30.731701: W tensorflow/core/common_runtime/eager/context.cc:371] Added two functions with the same name: rnn_1_while_cond_53807_rewritten\n",
      "2024-03-25 16:13:30.731715: W tensorflow/core/common_runtime/eager/context.cc:371] Added two functions with the same name: rnn_1_while_body_53808_rewritten\n",
      "2024-03-25 16:13:30.731766: W tensorflow/core/common_runtime/eager/context.cc:371] Added two functions with the same name: __inference___backward_call_54041_54367\n",
      "2024-03-25 16:13:30.731840: W tensorflow/core/common_runtime/eager/context.cc:371] Added two functions with the same name: rnn_1_while_cond_53807_rewritten_grad_54276\n",
      "2024-03-25 16:13:30.731851: W tensorflow/core/common_runtime/eager/context.cc:371] Added two functions with the same name: rnn_1_while_body_53808_grad_54130\n",
      "2024-03-25 16:13:30.751999: E tensorflow/core/grappler/optimizers/meta_optimizer.cc:502] constant folding failed: Invalid argument: Unsupported type: 21\n",
      "2024-03-25 16:13:30.781777: E tensorflow/core/grappler/optimizers/meta_optimizer.cc:502] constant folding failed: Invalid argument: Unsupported type: 21\n"
     ]
    },
    {
     "name": "stdout",
     "output_type": "stream",
     "text": [
      "WARNING:tensorflow:Entity <function train_one_step at 0x7609a470be60> could not be transformed and will be executed as-is. Please report this to the AutgoGraph team. When filing the bug, set the verbosity to 10 (on Linux, `export AUTOGRAPH_VERBOSITY=10`) and attach the full output. Cause: converting <function train_one_step at 0x7609a470be60>: AttributeError: module 'gast' has no attribute 'Str'\n",
      "WARNING: Entity <function train_one_step at 0x7609a470be60> could not be transformed and will be executed as-is. Please report this to the AutgoGraph team. When filing the bug, set the verbosity to 10 (on Linux, `export AUTOGRAPH_VERBOSITY=10`) and attach the full output. Cause: converting <function train_one_step at 0x7609a470be60>: AttributeError: module 'gast' has no attribute 'Str'\n",
      "WARNING:tensorflow:Entity <bound method myRNNModel.call of <tensorflow.python.eager.function.TfMethodTarget object at 0x7609a83fba50>> could not be transformed and will be executed as-is. Please report this to the AutgoGraph team. When filing the bug, set the verbosity to 10 (on Linux, `export AUTOGRAPH_VERBOSITY=10`) and attach the full output. Cause: converting <bound method myRNNModel.call of <tensorflow.python.eager.function.TfMethodTarget object at 0x7609a83fba50>>: AttributeError: module 'gast' has no attribute 'Str'\n",
      "WARNING: Entity <bound method myRNNModel.call of <tensorflow.python.eager.function.TfMethodTarget object at 0x7609a83fba50>> could not be transformed and will be executed as-is. Please report this to the AutgoGraph team. When filing the bug, set the verbosity to 10 (on Linux, `export AUTOGRAPH_VERBOSITY=10`) and attach the full output. Cause: converting <bound method myRNNModel.call of <tensorflow.python.eager.function.TfMethodTarget object at 0x7609a83fba50>>: AttributeError: module 'gast' has no attribute 'Str'\n",
      "WARNING:tensorflow:Entity <function compute_loss at 0x76092ddb40e0> could not be transformed and will be executed as-is. Please report this to the AutgoGraph team. When filing the bug, set the verbosity to 10 (on Linux, `export AUTOGRAPH_VERBOSITY=10`) and attach the full output. Cause: converting <function compute_loss at 0x76092ddb40e0>: AttributeError: module 'gast' has no attribute 'Str'\n",
      "WARNING: Entity <function compute_loss at 0x76092ddb40e0> could not be transformed and will be executed as-is. Please report this to the AutgoGraph team. When filing the bug, set the verbosity to 10 (on Linux, `export AUTOGRAPH_VERBOSITY=10`) and attach the full output. Cause: converting <function compute_loss at 0x76092ddb40e0>: AttributeError: module 'gast' has no attribute 'Str'\n"
     ]
    },
    {
     "name": "stderr",
     "output_type": "stream",
     "text": [
      "2024-03-25 16:13:31.056370: W tensorflow/core/common_runtime/eager/context.cc:371] Added two functions with the same name: rnn_1_while_cond_54620\n",
      "2024-03-25 16:13:31.056410: W tensorflow/core/common_runtime/eager/context.cc:371] Added two functions with the same name: rnn_1_while_body_54621\n",
      "2024-03-25 16:13:31.195244: W tensorflow/core/common_runtime/eager/context.cc:371] Added two functions with the same name: __inference_call_54718\n",
      "2024-03-25 16:13:31.195377: W tensorflow/core/common_runtime/eager/context.cc:371] Added two functions with the same name: rnn_1_while_cond_54620\n",
      "2024-03-25 16:13:31.195390: W tensorflow/core/common_runtime/eager/context.cc:371] Added two functions with the same name: rnn_1_while_body_54621\n",
      "2024-03-25 16:13:31.195422: W tensorflow/core/common_runtime/eager/context.cc:371] Added two functions with the same name: __inference_compute_loss_54784\n",
      "2024-03-25 16:13:31.195476: W tensorflow/core/common_runtime/eager/context.cc:371] Added two functions with the same name: __forward_compute_loss_54790\n",
      "2024-03-25 16:13:31.195535: W tensorflow/core/common_runtime/eager/context.cc:371] Added two functions with the same name: __inference___backward_compute_loss_54788_54845\n",
      "2024-03-25 16:13:31.195578: W tensorflow/core/common_runtime/eager/context.cc:371] Added two functions with the same name: __forward_call_54856\n",
      "2024-03-25 16:13:31.195682: W tensorflow/core/common_runtime/eager/context.cc:371] Added two functions with the same name: rnn_1_while_cond_54620_rewritten\n",
      "2024-03-25 16:13:31.195695: W tensorflow/core/common_runtime/eager/context.cc:371] Added two functions with the same name: rnn_1_while_body_54621_rewritten\n",
      "2024-03-25 16:13:31.195742: W tensorflow/core/common_runtime/eager/context.cc:371] Added two functions with the same name: __inference___backward_call_54854_55180\n",
      "2024-03-25 16:13:31.195807: W tensorflow/core/common_runtime/eager/context.cc:371] Added two functions with the same name: rnn_1_while_cond_54620_rewritten_grad_55089\n",
      "2024-03-25 16:13:31.195816: W tensorflow/core/common_runtime/eager/context.cc:371] Added two functions with the same name: rnn_1_while_body_54621_grad_54943\n",
      "2024-03-25 16:13:31.217131: E tensorflow/core/grappler/optimizers/meta_optimizer.cc:502] constant folding failed: Invalid argument: Unsupported type: 21\n",
      "2024-03-25 16:13:31.245353: E tensorflow/core/grappler/optimizers/meta_optimizer.cc:502] constant folding failed: Invalid argument: Unsupported type: 21\n"
     ]
    },
    {
     "name": "stdout",
     "output_type": "stream",
     "text": [
      "WARNING:tensorflow:Entity <function train_one_step at 0x7609a470be60> could not be transformed and will be executed as-is. Please report this to the AutgoGraph team. When filing the bug, set the verbosity to 10 (on Linux, `export AUTOGRAPH_VERBOSITY=10`) and attach the full output. Cause: converting <function train_one_step at 0x7609a470be60>: AttributeError: module 'gast' has no attribute 'Str'\n",
      "WARNING: Entity <function train_one_step at 0x7609a470be60> could not be transformed and will be executed as-is. Please report this to the AutgoGraph team. When filing the bug, set the verbosity to 10 (on Linux, `export AUTOGRAPH_VERBOSITY=10`) and attach the full output. Cause: converting <function train_one_step at 0x7609a470be60>: AttributeError: module 'gast' has no attribute 'Str'\n",
      "WARNING:tensorflow:Entity <bound method myRNNModel.call of <tensorflow.python.eager.function.TfMethodTarget object at 0x7609a83fba50>> could not be transformed and will be executed as-is. Please report this to the AutgoGraph team. When filing the bug, set the verbosity to 10 (on Linux, `export AUTOGRAPH_VERBOSITY=10`) and attach the full output. Cause: converting <bound method myRNNModel.call of <tensorflow.python.eager.function.TfMethodTarget object at 0x7609a83fba50>>: AttributeError: module 'gast' has no attribute 'Str'\n",
      "WARNING: Entity <bound method myRNNModel.call of <tensorflow.python.eager.function.TfMethodTarget object at 0x7609a83fba50>> could not be transformed and will be executed as-is. Please report this to the AutgoGraph team. When filing the bug, set the verbosity to 10 (on Linux, `export AUTOGRAPH_VERBOSITY=10`) and attach the full output. Cause: converting <bound method myRNNModel.call of <tensorflow.python.eager.function.TfMethodTarget object at 0x7609a83fba50>>: AttributeError: module 'gast' has no attribute 'Str'\n",
      "WARNING:tensorflow:Entity <function compute_loss at 0x76092ddb40e0> could not be transformed and will be executed as-is. Please report this to the AutgoGraph team. When filing the bug, set the verbosity to 10 (on Linux, `export AUTOGRAPH_VERBOSITY=10`) and attach the full output. Cause: converting <function compute_loss at 0x76092ddb40e0>: AttributeError: module 'gast' has no attribute 'Str'\n",
      "WARNING: Entity <function compute_loss at 0x76092ddb40e0> could not be transformed and will be executed as-is. Please report this to the AutgoGraph team. When filing the bug, set the verbosity to 10 (on Linux, `export AUTOGRAPH_VERBOSITY=10`) and attach the full output. Cause: converting <function compute_loss at 0x76092ddb40e0>: AttributeError: module 'gast' has no attribute 'Str'\n"
     ]
    },
    {
     "name": "stderr",
     "output_type": "stream",
     "text": [
      "2024-03-25 16:13:32.191733: W tensorflow/core/common_runtime/eager/context.cc:371] Added two functions with the same name: rnn_1_while_cond_55449\n",
      "2024-03-25 16:13:32.191776: W tensorflow/core/common_runtime/eager/context.cc:371] Added two functions with the same name: rnn_1_while_body_55450\n",
      "2024-03-25 16:13:32.319755: W tensorflow/core/common_runtime/eager/context.cc:371] Added two functions with the same name: __inference_call_55547\n",
      "2024-03-25 16:13:32.319893: W tensorflow/core/common_runtime/eager/context.cc:371] Added two functions with the same name: rnn_1_while_cond_55449\n",
      "2024-03-25 16:13:32.319906: W tensorflow/core/common_runtime/eager/context.cc:371] Added two functions with the same name: rnn_1_while_body_55450\n",
      "2024-03-25 16:13:32.319936: W tensorflow/core/common_runtime/eager/context.cc:371] Added two functions with the same name: __inference_compute_loss_55613\n",
      "2024-03-25 16:13:32.319988: W tensorflow/core/common_runtime/eager/context.cc:371] Added two functions with the same name: __forward_compute_loss_55619\n",
      "2024-03-25 16:13:32.320043: W tensorflow/core/common_runtime/eager/context.cc:371] Added two functions with the same name: __inference___backward_compute_loss_55617_55674\n",
      "2024-03-25 16:13:32.320085: W tensorflow/core/common_runtime/eager/context.cc:371] Added two functions with the same name: __forward_call_55685\n",
      "2024-03-25 16:13:32.320191: W tensorflow/core/common_runtime/eager/context.cc:371] Added two functions with the same name: rnn_1_while_cond_55449_rewritten\n",
      "2024-03-25 16:13:32.320205: W tensorflow/core/common_runtime/eager/context.cc:371] Added two functions with the same name: rnn_1_while_body_55450_rewritten\n",
      "2024-03-25 16:13:32.320252: W tensorflow/core/common_runtime/eager/context.cc:371] Added two functions with the same name: __inference___backward_call_55683_56009\n",
      "2024-03-25 16:13:32.320318: W tensorflow/core/common_runtime/eager/context.cc:371] Added two functions with the same name: rnn_1_while_cond_55449_rewritten_grad_55918\n",
      "2024-03-25 16:13:32.320328: W tensorflow/core/common_runtime/eager/context.cc:371] Added two functions with the same name: rnn_1_while_body_55450_grad_55772\n",
      "2024-03-25 16:13:32.337882: E tensorflow/core/grappler/optimizers/meta_optimizer.cc:502] constant folding failed: Invalid argument: Unsupported type: 21\n",
      "2024-03-25 16:13:32.365413: E tensorflow/core/grappler/optimizers/meta_optimizer.cc:502] constant folding failed: Invalid argument: Unsupported type: 21\n"
     ]
    },
    {
     "name": "stdout",
     "output_type": "stream",
     "text": [
      "WARNING:tensorflow:Entity <function train_one_step at 0x7609a470be60> could not be transformed and will be executed as-is. Please report this to the AutgoGraph team. When filing the bug, set the verbosity to 10 (on Linux, `export AUTOGRAPH_VERBOSITY=10`) and attach the full output. Cause: converting <function train_one_step at 0x7609a470be60>: AttributeError: module 'gast' has no attribute 'Str'\n",
      "WARNING: Entity <function train_one_step at 0x7609a470be60> could not be transformed and will be executed as-is. Please report this to the AutgoGraph team. When filing the bug, set the verbosity to 10 (on Linux, `export AUTOGRAPH_VERBOSITY=10`) and attach the full output. Cause: converting <function train_one_step at 0x7609a470be60>: AttributeError: module 'gast' has no attribute 'Str'\n",
      "WARNING:tensorflow:Entity <bound method myRNNModel.call of <tensorflow.python.eager.function.TfMethodTarget object at 0x7609a83fba50>> could not be transformed and will be executed as-is. Please report this to the AutgoGraph team. When filing the bug, set the verbosity to 10 (on Linux, `export AUTOGRAPH_VERBOSITY=10`) and attach the full output. Cause: converting <bound method myRNNModel.call of <tensorflow.python.eager.function.TfMethodTarget object at 0x7609a83fba50>>: AttributeError: module 'gast' has no attribute 'Str'\n",
      "WARNING: Entity <bound method myRNNModel.call of <tensorflow.python.eager.function.TfMethodTarget object at 0x7609a83fba50>> could not be transformed and will be executed as-is. Please report this to the AutgoGraph team. When filing the bug, set the verbosity to 10 (on Linux, `export AUTOGRAPH_VERBOSITY=10`) and attach the full output. Cause: converting <bound method myRNNModel.call of <tensorflow.python.eager.function.TfMethodTarget object at 0x7609a83fba50>>: AttributeError: module 'gast' has no attribute 'Str'\n",
      "WARNING:tensorflow:Entity <function compute_loss at 0x76092ddb40e0> could not be transformed and will be executed as-is. Please report this to the AutgoGraph team. When filing the bug, set the verbosity to 10 (on Linux, `export AUTOGRAPH_VERBOSITY=10`) and attach the full output. Cause: converting <function compute_loss at 0x76092ddb40e0>: AttributeError: module 'gast' has no attribute 'Str'\n",
      "WARNING: Entity <function compute_loss at 0x76092ddb40e0> could not be transformed and will be executed as-is. Please report this to the AutgoGraph team. When filing the bug, set the verbosity to 10 (on Linux, `export AUTOGRAPH_VERBOSITY=10`) and attach the full output. Cause: converting <function compute_loss at 0x76092ddb40e0>: AttributeError: module 'gast' has no attribute 'Str'\n"
     ]
    },
    {
     "name": "stderr",
     "output_type": "stream",
     "text": [
      "2024-03-25 16:13:32.783418: W tensorflow/core/common_runtime/eager/context.cc:371] Added two functions with the same name: rnn_1_while_cond_56266\n",
      "2024-03-25 16:13:32.783458: W tensorflow/core/common_runtime/eager/context.cc:371] Added two functions with the same name: rnn_1_while_body_56267\n",
      "2024-03-25 16:13:32.910624: W tensorflow/core/common_runtime/eager/context.cc:371] Added two functions with the same name: __inference_call_56364\n",
      "2024-03-25 16:13:32.910753: W tensorflow/core/common_runtime/eager/context.cc:371] Added two functions with the same name: rnn_1_while_cond_56266\n",
      "2024-03-25 16:13:32.910766: W tensorflow/core/common_runtime/eager/context.cc:371] Added two functions with the same name: rnn_1_while_body_56267\n",
      "2024-03-25 16:13:32.910797: W tensorflow/core/common_runtime/eager/context.cc:371] Added two functions with the same name: __inference_compute_loss_56430\n",
      "2024-03-25 16:13:32.910852: W tensorflow/core/common_runtime/eager/context.cc:371] Added two functions with the same name: __forward_compute_loss_56436\n",
      "2024-03-25 16:13:32.910904: W tensorflow/core/common_runtime/eager/context.cc:371] Added two functions with the same name: __inference___backward_compute_loss_56434_56491\n",
      "2024-03-25 16:13:32.910945: W tensorflow/core/common_runtime/eager/context.cc:371] Added two functions with the same name: __forward_call_56502\n",
      "2024-03-25 16:13:32.911049: W tensorflow/core/common_runtime/eager/context.cc:371] Added two functions with the same name: rnn_1_while_cond_56266_rewritten\n",
      "2024-03-25 16:13:32.911062: W tensorflow/core/common_runtime/eager/context.cc:371] Added two functions with the same name: rnn_1_while_body_56267_rewritten\n",
      "2024-03-25 16:13:32.911108: W tensorflow/core/common_runtime/eager/context.cc:371] Added two functions with the same name: __inference___backward_call_56500_56826\n",
      "2024-03-25 16:13:32.911172: W tensorflow/core/common_runtime/eager/context.cc:371] Added two functions with the same name: rnn_1_while_cond_56266_rewritten_grad_56735\n",
      "2024-03-25 16:13:32.911182: W tensorflow/core/common_runtime/eager/context.cc:371] Added two functions with the same name: rnn_1_while_body_56267_grad_56589\n",
      "2024-03-25 16:13:32.928901: E tensorflow/core/grappler/optimizers/meta_optimizer.cc:502] constant folding failed: Invalid argument: Unsupported type: 21\n",
      "2024-03-25 16:13:32.955624: E tensorflow/core/grappler/optimizers/meta_optimizer.cc:502] constant folding failed: Invalid argument: Unsupported type: 21\n"
     ]
    },
    {
     "name": "stdout",
     "output_type": "stream",
     "text": [
      "WARNING:tensorflow:Entity <function train_one_step at 0x7609a470be60> could not be transformed and will be executed as-is. Please report this to the AutgoGraph team. When filing the bug, set the verbosity to 10 (on Linux, `export AUTOGRAPH_VERBOSITY=10`) and attach the full output. Cause: converting <function train_one_step at 0x7609a470be60>: AttributeError: module 'gast' has no attribute 'Str'\n",
      "WARNING: Entity <function train_one_step at 0x7609a470be60> could not be transformed and will be executed as-is. Please report this to the AutgoGraph team. When filing the bug, set the verbosity to 10 (on Linux, `export AUTOGRAPH_VERBOSITY=10`) and attach the full output. Cause: converting <function train_one_step at 0x7609a470be60>: AttributeError: module 'gast' has no attribute 'Str'\n",
      "WARNING:tensorflow:Entity <bound method myRNNModel.call of <tensorflow.python.eager.function.TfMethodTarget object at 0x7609a83fba50>> could not be transformed and will be executed as-is. Please report this to the AutgoGraph team. When filing the bug, set the verbosity to 10 (on Linux, `export AUTOGRAPH_VERBOSITY=10`) and attach the full output. Cause: converting <bound method myRNNModel.call of <tensorflow.python.eager.function.TfMethodTarget object at 0x7609a83fba50>>: AttributeError: module 'gast' has no attribute 'Str'\n",
      "WARNING: Entity <bound method myRNNModel.call of <tensorflow.python.eager.function.TfMethodTarget object at 0x7609a83fba50>> could not be transformed and will be executed as-is. Please report this to the AutgoGraph team. When filing the bug, set the verbosity to 10 (on Linux, `export AUTOGRAPH_VERBOSITY=10`) and attach the full output. Cause: converting <bound method myRNNModel.call of <tensorflow.python.eager.function.TfMethodTarget object at 0x7609a83fba50>>: AttributeError: module 'gast' has no attribute 'Str'\n",
      "WARNING:tensorflow:Entity <function compute_loss at 0x76092ddb40e0> could not be transformed and will be executed as-is. Please report this to the AutgoGraph team. When filing the bug, set the verbosity to 10 (on Linux, `export AUTOGRAPH_VERBOSITY=10`) and attach the full output. Cause: converting <function compute_loss at 0x76092ddb40e0>: AttributeError: module 'gast' has no attribute 'Str'\n",
      "WARNING: Entity <function compute_loss at 0x76092ddb40e0> could not be transformed and will be executed as-is. Please report this to the AutgoGraph team. When filing the bug, set the verbosity to 10 (on Linux, `export AUTOGRAPH_VERBOSITY=10`) and attach the full output. Cause: converting <function compute_loss at 0x76092ddb40e0>: AttributeError: module 'gast' has no attribute 'Str'\n"
     ]
    },
    {
     "name": "stderr",
     "output_type": "stream",
     "text": [
      "2024-03-25 16:13:33.188485: W tensorflow/core/common_runtime/eager/context.cc:371] Added two functions with the same name: rnn_1_while_cond_57079\n",
      "2024-03-25 16:13:33.188532: W tensorflow/core/common_runtime/eager/context.cc:371] Added two functions with the same name: rnn_1_while_body_57080\n",
      "2024-03-25 16:13:33.332254: W tensorflow/core/common_runtime/eager/context.cc:371] Added two functions with the same name: __inference_call_57177\n",
      "2024-03-25 16:13:33.332401: W tensorflow/core/common_runtime/eager/context.cc:371] Added two functions with the same name: rnn_1_while_cond_57079\n",
      "2024-03-25 16:13:33.332415: W tensorflow/core/common_runtime/eager/context.cc:371] Added two functions with the same name: rnn_1_while_body_57080\n",
      "2024-03-25 16:13:33.332448: W tensorflow/core/common_runtime/eager/context.cc:371] Added two functions with the same name: __inference_compute_loss_57243\n",
      "2024-03-25 16:13:33.332503: W tensorflow/core/common_runtime/eager/context.cc:371] Added two functions with the same name: __forward_compute_loss_57249\n",
      "2024-03-25 16:13:33.332559: W tensorflow/core/common_runtime/eager/context.cc:371] Added two functions with the same name: __inference___backward_compute_loss_57247_57304\n",
      "2024-03-25 16:13:33.332604: W tensorflow/core/common_runtime/eager/context.cc:371] Added two functions with the same name: __forward_call_57315\n",
      "2024-03-25 16:13:33.332712: W tensorflow/core/common_runtime/eager/context.cc:371] Added two functions with the same name: rnn_1_while_cond_57079_rewritten\n",
      "2024-03-25 16:13:33.332726: W tensorflow/core/common_runtime/eager/context.cc:371] Added two functions with the same name: rnn_1_while_body_57080_rewritten\n",
      "2024-03-25 16:13:33.332774: W tensorflow/core/common_runtime/eager/context.cc:371] Added two functions with the same name: __inference___backward_call_57313_57639\n",
      "2024-03-25 16:13:33.332842: W tensorflow/core/common_runtime/eager/context.cc:371] Added two functions with the same name: rnn_1_while_cond_57079_rewritten_grad_57548\n",
      "2024-03-25 16:13:33.332853: W tensorflow/core/common_runtime/eager/context.cc:371] Added two functions with the same name: rnn_1_while_body_57080_grad_57402\n",
      "2024-03-25 16:13:33.351463: E tensorflow/core/grappler/optimizers/meta_optimizer.cc:502] constant folding failed: Invalid argument: Unsupported type: 21\n",
      "2024-03-25 16:13:33.380985: E tensorflow/core/grappler/optimizers/meta_optimizer.cc:502] constant folding failed: Invalid argument: Unsupported type: 21\n"
     ]
    },
    {
     "name": "stdout",
     "output_type": "stream",
     "text": [
      "WARNING:tensorflow:Entity <function train_one_step at 0x7609a470be60> could not be transformed and will be executed as-is. Please report this to the AutgoGraph team. When filing the bug, set the verbosity to 10 (on Linux, `export AUTOGRAPH_VERBOSITY=10`) and attach the full output. Cause: converting <function train_one_step at 0x7609a470be60>: AttributeError: module 'gast' has no attribute 'Str'\n",
      "WARNING: Entity <function train_one_step at 0x7609a470be60> could not be transformed and will be executed as-is. Please report this to the AutgoGraph team. When filing the bug, set the verbosity to 10 (on Linux, `export AUTOGRAPH_VERBOSITY=10`) and attach the full output. Cause: converting <function train_one_step at 0x7609a470be60>: AttributeError: module 'gast' has no attribute 'Str'\n",
      "WARNING:tensorflow:Entity <bound method myRNNModel.call of <tensorflow.python.eager.function.TfMethodTarget object at 0x7609a83fba50>> could not be transformed and will be executed as-is. Please report this to the AutgoGraph team. When filing the bug, set the verbosity to 10 (on Linux, `export AUTOGRAPH_VERBOSITY=10`) and attach the full output. Cause: converting <bound method myRNNModel.call of <tensorflow.python.eager.function.TfMethodTarget object at 0x7609a83fba50>>: AttributeError: module 'gast' has no attribute 'Str'\n",
      "WARNING: Entity <bound method myRNNModel.call of <tensorflow.python.eager.function.TfMethodTarget object at 0x7609a83fba50>> could not be transformed and will be executed as-is. Please report this to the AutgoGraph team. When filing the bug, set the verbosity to 10 (on Linux, `export AUTOGRAPH_VERBOSITY=10`) and attach the full output. Cause: converting <bound method myRNNModel.call of <tensorflow.python.eager.function.TfMethodTarget object at 0x7609a83fba50>>: AttributeError: module 'gast' has no attribute 'Str'\n",
      "WARNING:tensorflow:Entity <function compute_loss at 0x76092ddb40e0> could not be transformed and will be executed as-is. Please report this to the AutgoGraph team. When filing the bug, set the verbosity to 10 (on Linux, `export AUTOGRAPH_VERBOSITY=10`) and attach the full output. Cause: converting <function compute_loss at 0x76092ddb40e0>: AttributeError: module 'gast' has no attribute 'Str'\n",
      "WARNING: Entity <function compute_loss at 0x76092ddb40e0> could not be transformed and will be executed as-is. Please report this to the AutgoGraph team. When filing the bug, set the verbosity to 10 (on Linux, `export AUTOGRAPH_VERBOSITY=10`) and attach the full output. Cause: converting <function compute_loss at 0x76092ddb40e0>: AttributeError: module 'gast' has no attribute 'Str'\n"
     ]
    },
    {
     "name": "stderr",
     "output_type": "stream",
     "text": [
      "2024-03-25 16:13:34.901080: W tensorflow/core/common_runtime/eager/context.cc:371] Added two functions with the same name: rnn_1_while_cond_57920\n",
      "2024-03-25 16:13:34.901119: W tensorflow/core/common_runtime/eager/context.cc:371] Added two functions with the same name: rnn_1_while_body_57921\n",
      "2024-03-25 16:13:35.335977: W tensorflow/core/common_runtime/eager/context.cc:371] Added two functions with the same name: __inference_call_58018\n",
      "2024-03-25 16:13:35.336131: W tensorflow/core/common_runtime/eager/context.cc:371] Added two functions with the same name: rnn_1_while_cond_57920\n",
      "2024-03-25 16:13:35.336151: W tensorflow/core/common_runtime/eager/context.cc:371] Added two functions with the same name: rnn_1_while_body_57921\n",
      "2024-03-25 16:13:35.336195: W tensorflow/core/common_runtime/eager/context.cc:371] Added two functions with the same name: __inference_compute_loss_58084\n",
      "2024-03-25 16:13:35.336272: W tensorflow/core/common_runtime/eager/context.cc:371] Added two functions with the same name: __forward_compute_loss_58090\n",
      "2024-03-25 16:13:35.336342: W tensorflow/core/common_runtime/eager/context.cc:371] Added two functions with the same name: __inference___backward_compute_loss_58088_58145\n",
      "2024-03-25 16:13:35.336394: W tensorflow/core/common_runtime/eager/context.cc:371] Added two functions with the same name: __forward_call_58156\n",
      "2024-03-25 16:13:35.336536: W tensorflow/core/common_runtime/eager/context.cc:371] Added two functions with the same name: rnn_1_while_cond_57920_rewritten\n",
      "2024-03-25 16:13:35.336564: W tensorflow/core/common_runtime/eager/context.cc:371] Added two functions with the same name: rnn_1_while_body_57921_rewritten\n",
      "2024-03-25 16:13:35.336644: W tensorflow/core/common_runtime/eager/context.cc:371] Added two functions with the same name: __inference___backward_call_58154_58480\n",
      "2024-03-25 16:13:35.336747: W tensorflow/core/common_runtime/eager/context.cc:371] Added two functions with the same name: rnn_1_while_cond_57920_rewritten_grad_58389\n",
      "2024-03-25 16:13:35.336764: W tensorflow/core/common_runtime/eager/context.cc:371] Added two functions with the same name: rnn_1_while_body_57921_grad_58243\n",
      "2024-03-25 16:13:35.354811: E tensorflow/core/grappler/optimizers/meta_optimizer.cc:502] constant folding failed: Invalid argument: Unsupported type: 21\n",
      "2024-03-25 16:13:35.380843: E tensorflow/core/grappler/optimizers/meta_optimizer.cc:502] constant folding failed: Invalid argument: Unsupported type: 21\n"
     ]
    },
    {
     "name": "stdout",
     "output_type": "stream",
     "text": [
      "WARNING:tensorflow:Entity <function train_one_step at 0x7609a470be60> could not be transformed and will be executed as-is. Please report this to the AutgoGraph team. When filing the bug, set the verbosity to 10 (on Linux, `export AUTOGRAPH_VERBOSITY=10`) and attach the full output. Cause: converting <function train_one_step at 0x7609a470be60>: AttributeError: module 'gast' has no attribute 'Str'\n",
      "WARNING: Entity <function train_one_step at 0x7609a470be60> could not be transformed and will be executed as-is. Please report this to the AutgoGraph team. When filing the bug, set the verbosity to 10 (on Linux, `export AUTOGRAPH_VERBOSITY=10`) and attach the full output. Cause: converting <function train_one_step at 0x7609a470be60>: AttributeError: module 'gast' has no attribute 'Str'\n",
      "WARNING:tensorflow:Entity <bound method myRNNModel.call of <tensorflow.python.eager.function.TfMethodTarget object at 0x7609a83fba50>> could not be transformed and will be executed as-is. Please report this to the AutgoGraph team. When filing the bug, set the verbosity to 10 (on Linux, `export AUTOGRAPH_VERBOSITY=10`) and attach the full output. Cause: converting <bound method myRNNModel.call of <tensorflow.python.eager.function.TfMethodTarget object at 0x7609a83fba50>>: AttributeError: module 'gast' has no attribute 'Str'\n",
      "WARNING: Entity <bound method myRNNModel.call of <tensorflow.python.eager.function.TfMethodTarget object at 0x7609a83fba50>> could not be transformed and will be executed as-is. Please report this to the AutgoGraph team. When filing the bug, set the verbosity to 10 (on Linux, `export AUTOGRAPH_VERBOSITY=10`) and attach the full output. Cause: converting <bound method myRNNModel.call of <tensorflow.python.eager.function.TfMethodTarget object at 0x7609a83fba50>>: AttributeError: module 'gast' has no attribute 'Str'\n",
      "WARNING:tensorflow:Entity <function compute_loss at 0x76092ddb40e0> could not be transformed and will be executed as-is. Please report this to the AutgoGraph team. When filing the bug, set the verbosity to 10 (on Linux, `export AUTOGRAPH_VERBOSITY=10`) and attach the full output. Cause: converting <function compute_loss at 0x76092ddb40e0>: AttributeError: module 'gast' has no attribute 'Str'\n",
      "WARNING: Entity <function compute_loss at 0x76092ddb40e0> could not be transformed and will be executed as-is. Please report this to the AutgoGraph team. When filing the bug, set the verbosity to 10 (on Linux, `export AUTOGRAPH_VERBOSITY=10`) and attach the full output. Cause: converting <function compute_loss at 0x76092ddb40e0>: AttributeError: module 'gast' has no attribute 'Str'\n"
     ]
    },
    {
     "name": "stderr",
     "output_type": "stream",
     "text": [
      "2024-03-25 16:13:37.093921: W tensorflow/core/common_runtime/eager/context.cc:371] Added two functions with the same name: rnn_1_while_cond_58765\n",
      "2024-03-25 16:13:37.093962: W tensorflow/core/common_runtime/eager/context.cc:371] Added two functions with the same name: rnn_1_while_body_58766\n",
      "2024-03-25 16:13:37.225639: W tensorflow/core/common_runtime/eager/context.cc:371] Added two functions with the same name: __inference_call_58863\n",
      "2024-03-25 16:13:37.225770: W tensorflow/core/common_runtime/eager/context.cc:371] Added two functions with the same name: rnn_1_while_cond_58765\n",
      "2024-03-25 16:13:37.225784: W tensorflow/core/common_runtime/eager/context.cc:371] Added two functions with the same name: rnn_1_while_body_58766\n",
      "2024-03-25 16:13:37.225815: W tensorflow/core/common_runtime/eager/context.cc:371] Added two functions with the same name: __inference_compute_loss_58929\n",
      "2024-03-25 16:13:37.225868: W tensorflow/core/common_runtime/eager/context.cc:371] Added two functions with the same name: __forward_compute_loss_58935\n",
      "2024-03-25 16:13:37.225922: W tensorflow/core/common_runtime/eager/context.cc:371] Added two functions with the same name: __inference___backward_compute_loss_58933_58990\n",
      "2024-03-25 16:13:37.225965: W tensorflow/core/common_runtime/eager/context.cc:371] Added two functions with the same name: __forward_call_59001\n",
      "2024-03-25 16:13:37.226070: W tensorflow/core/common_runtime/eager/context.cc:371] Added two functions with the same name: rnn_1_while_cond_58765_rewritten\n",
      "2024-03-25 16:13:37.226083: W tensorflow/core/common_runtime/eager/context.cc:371] Added two functions with the same name: rnn_1_while_body_58766_rewritten\n",
      "2024-03-25 16:13:37.226148: W tensorflow/core/common_runtime/eager/context.cc:371] Added two functions with the same name: __inference___backward_call_58999_59325\n",
      "2024-03-25 16:13:37.226217: W tensorflow/core/common_runtime/eager/context.cc:371] Added two functions with the same name: rnn_1_while_cond_58765_rewritten_grad_59234\n",
      "2024-03-25 16:13:37.226227: W tensorflow/core/common_runtime/eager/context.cc:371] Added two functions with the same name: rnn_1_while_body_58766_grad_59088\n",
      "2024-03-25 16:13:37.244001: E tensorflow/core/grappler/optimizers/meta_optimizer.cc:502] constant folding failed: Invalid argument: Unsupported type: 21\n",
      "2024-03-25 16:13:37.270414: E tensorflow/core/grappler/optimizers/meta_optimizer.cc:502] constant folding failed: Invalid argument: Unsupported type: 21\n"
     ]
    },
    {
     "name": "stdout",
     "output_type": "stream",
     "text": [
      "WARNING:tensorflow:Entity <function train_one_step at 0x7609a470be60> could not be transformed and will be executed as-is. Please report this to the AutgoGraph team. When filing the bug, set the verbosity to 10 (on Linux, `export AUTOGRAPH_VERBOSITY=10`) and attach the full output. Cause: converting <function train_one_step at 0x7609a470be60>: AttributeError: module 'gast' has no attribute 'Str'\n",
      "WARNING: Entity <function train_one_step at 0x7609a470be60> could not be transformed and will be executed as-is. Please report this to the AutgoGraph team. When filing the bug, set the verbosity to 10 (on Linux, `export AUTOGRAPH_VERBOSITY=10`) and attach the full output. Cause: converting <function train_one_step at 0x7609a470be60>: AttributeError: module 'gast' has no attribute 'Str'\n",
      "WARNING:tensorflow:Entity <bound method myRNNModel.call of <tensorflow.python.eager.function.TfMethodTarget object at 0x7609a83fba50>> could not be transformed and will be executed as-is. Please report this to the AutgoGraph team. When filing the bug, set the verbosity to 10 (on Linux, `export AUTOGRAPH_VERBOSITY=10`) and attach the full output. Cause: converting <bound method myRNNModel.call of <tensorflow.python.eager.function.TfMethodTarget object at 0x7609a83fba50>>: AttributeError: module 'gast' has no attribute 'Str'\n",
      "WARNING: Entity <bound method myRNNModel.call of <tensorflow.python.eager.function.TfMethodTarget object at 0x7609a83fba50>> could not be transformed and will be executed as-is. Please report this to the AutgoGraph team. When filing the bug, set the verbosity to 10 (on Linux, `export AUTOGRAPH_VERBOSITY=10`) and attach the full output. Cause: converting <bound method myRNNModel.call of <tensorflow.python.eager.function.TfMethodTarget object at 0x7609a83fba50>>: AttributeError: module 'gast' has no attribute 'Str'\n",
      "WARNING:tensorflow:Entity <function compute_loss at 0x76092ddb40e0> could not be transformed and will be executed as-is. Please report this to the AutgoGraph team. When filing the bug, set the verbosity to 10 (on Linux, `export AUTOGRAPH_VERBOSITY=10`) and attach the full output. Cause: converting <function compute_loss at 0x76092ddb40e0>: AttributeError: module 'gast' has no attribute 'Str'\n",
      "WARNING: Entity <function compute_loss at 0x76092ddb40e0> could not be transformed and will be executed as-is. Please report this to the AutgoGraph team. When filing the bug, set the verbosity to 10 (on Linux, `export AUTOGRAPH_VERBOSITY=10`) and attach the full output. Cause: converting <function compute_loss at 0x76092ddb40e0>: AttributeError: module 'gast' has no attribute 'Str'\n"
     ]
    },
    {
     "name": "stderr",
     "output_type": "stream",
     "text": [
      "2024-03-25 16:13:37.715884: W tensorflow/core/common_runtime/eager/context.cc:371] Added two functions with the same name: rnn_1_while_cond_59582\n",
      "2024-03-25 16:13:37.715917: W tensorflow/core/common_runtime/eager/context.cc:371] Added two functions with the same name: rnn_1_while_body_59583\n",
      "2024-03-25 16:13:37.843506: W tensorflow/core/common_runtime/eager/context.cc:371] Added two functions with the same name: __inference_call_59680\n",
      "2024-03-25 16:13:37.843644: W tensorflow/core/common_runtime/eager/context.cc:371] Added two functions with the same name: rnn_1_while_cond_59582\n",
      "2024-03-25 16:13:37.843657: W tensorflow/core/common_runtime/eager/context.cc:371] Added two functions with the same name: rnn_1_while_body_59583\n",
      "2024-03-25 16:13:37.843687: W tensorflow/core/common_runtime/eager/context.cc:371] Added two functions with the same name: __inference_compute_loss_59746\n",
      "2024-03-25 16:13:37.843738: W tensorflow/core/common_runtime/eager/context.cc:371] Added two functions with the same name: __forward_compute_loss_59752\n",
      "2024-03-25 16:13:37.843792: W tensorflow/core/common_runtime/eager/context.cc:371] Added two functions with the same name: __inference___backward_compute_loss_59750_59807\n",
      "2024-03-25 16:13:37.843837: W tensorflow/core/common_runtime/eager/context.cc:371] Added two functions with the same name: __forward_call_59818\n",
      "2024-03-25 16:13:37.843941: W tensorflow/core/common_runtime/eager/context.cc:371] Added two functions with the same name: rnn_1_while_cond_59582_rewritten\n",
      "2024-03-25 16:13:37.843954: W tensorflow/core/common_runtime/eager/context.cc:371] Added two functions with the same name: rnn_1_while_body_59583_rewritten\n",
      "2024-03-25 16:13:37.844002: W tensorflow/core/common_runtime/eager/context.cc:371] Added two functions with the same name: __inference___backward_call_59816_60142\n",
      "2024-03-25 16:13:37.844070: W tensorflow/core/common_runtime/eager/context.cc:371] Added two functions with the same name: rnn_1_while_cond_59582_rewritten_grad_60051\n",
      "2024-03-25 16:13:37.844080: W tensorflow/core/common_runtime/eager/context.cc:371] Added two functions with the same name: rnn_1_while_body_59583_grad_59905\n",
      "2024-03-25 16:13:37.861918: E tensorflow/core/grappler/optimizers/meta_optimizer.cc:502] constant folding failed: Invalid argument: Unsupported type: 21\n",
      "2024-03-25 16:13:37.888510: E tensorflow/core/grappler/optimizers/meta_optimizer.cc:502] constant folding failed: Invalid argument: Unsupported type: 21\n"
     ]
    },
    {
     "name": "stdout",
     "output_type": "stream",
     "text": [
      "WARNING:tensorflow:Entity <function train_one_step at 0x7609a470be60> could not be transformed and will be executed as-is. Please report this to the AutgoGraph team. When filing the bug, set the verbosity to 10 (on Linux, `export AUTOGRAPH_VERBOSITY=10`) and attach the full output. Cause: converting <function train_one_step at 0x7609a470be60>: AttributeError: module 'gast' has no attribute 'Str'\n",
      "WARNING: Entity <function train_one_step at 0x7609a470be60> could not be transformed and will be executed as-is. Please report this to the AutgoGraph team. When filing the bug, set the verbosity to 10 (on Linux, `export AUTOGRAPH_VERBOSITY=10`) and attach the full output. Cause: converting <function train_one_step at 0x7609a470be60>: AttributeError: module 'gast' has no attribute 'Str'\n",
      "WARNING:tensorflow:Entity <bound method myRNNModel.call of <tensorflow.python.eager.function.TfMethodTarget object at 0x7609a83fba50>> could not be transformed and will be executed as-is. Please report this to the AutgoGraph team. When filing the bug, set the verbosity to 10 (on Linux, `export AUTOGRAPH_VERBOSITY=10`) and attach the full output. Cause: converting <bound method myRNNModel.call of <tensorflow.python.eager.function.TfMethodTarget object at 0x7609a83fba50>>: AttributeError: module 'gast' has no attribute 'Str'\n",
      "WARNING: Entity <bound method myRNNModel.call of <tensorflow.python.eager.function.TfMethodTarget object at 0x7609a83fba50>> could not be transformed and will be executed as-is. Please report this to the AutgoGraph team. When filing the bug, set the verbosity to 10 (on Linux, `export AUTOGRAPH_VERBOSITY=10`) and attach the full output. Cause: converting <bound method myRNNModel.call of <tensorflow.python.eager.function.TfMethodTarget object at 0x7609a83fba50>>: AttributeError: module 'gast' has no attribute 'Str'\n",
      "WARNING:tensorflow:Entity <function compute_loss at 0x76092ddb40e0> could not be transformed and will be executed as-is. Please report this to the AutgoGraph team. When filing the bug, set the verbosity to 10 (on Linux, `export AUTOGRAPH_VERBOSITY=10`) and attach the full output. Cause: converting <function compute_loss at 0x76092ddb40e0>: AttributeError: module 'gast' has no attribute 'Str'\n",
      "WARNING: Entity <function compute_loss at 0x76092ddb40e0> could not be transformed and will be executed as-is. Please report this to the AutgoGraph team. When filing the bug, set the verbosity to 10 (on Linux, `export AUTOGRAPH_VERBOSITY=10`) and attach the full output. Cause: converting <function compute_loss at 0x76092ddb40e0>: AttributeError: module 'gast' has no attribute 'Str'\n"
     ]
    },
    {
     "name": "stderr",
     "output_type": "stream",
     "text": [
      "2024-03-25 16:13:38.804648: W tensorflow/core/common_runtime/eager/context.cc:371] Added two functions with the same name: rnn_1_while_cond_60411\n",
      "2024-03-25 16:13:38.804685: W tensorflow/core/common_runtime/eager/context.cc:371] Added two functions with the same name: rnn_1_while_body_60412\n",
      "2024-03-25 16:13:38.931922: W tensorflow/core/common_runtime/eager/context.cc:371] Added two functions with the same name: __inference_call_60509\n",
      "2024-03-25 16:13:38.932094: W tensorflow/core/common_runtime/eager/context.cc:371] Added two functions with the same name: rnn_1_while_cond_60411\n",
      "2024-03-25 16:13:38.932112: W tensorflow/core/common_runtime/eager/context.cc:371] Added two functions with the same name: rnn_1_while_body_60412\n",
      "2024-03-25 16:13:38.932145: W tensorflow/core/common_runtime/eager/context.cc:371] Added two functions with the same name: __inference_compute_loss_60575\n",
      "2024-03-25 16:13:38.932201: W tensorflow/core/common_runtime/eager/context.cc:371] Added two functions with the same name: __forward_compute_loss_60581\n",
      "2024-03-25 16:13:38.932258: W tensorflow/core/common_runtime/eager/context.cc:371] Added two functions with the same name: __inference___backward_compute_loss_60579_60636\n",
      "2024-03-25 16:13:38.932304: W tensorflow/core/common_runtime/eager/context.cc:371] Added two functions with the same name: __forward_call_60647\n",
      "2024-03-25 16:13:38.932417: W tensorflow/core/common_runtime/eager/context.cc:371] Added two functions with the same name: rnn_1_while_cond_60411_rewritten\n",
      "2024-03-25 16:13:38.932431: W tensorflow/core/common_runtime/eager/context.cc:371] Added two functions with the same name: rnn_1_while_body_60412_rewritten\n",
      "2024-03-25 16:13:38.932480: W tensorflow/core/common_runtime/eager/context.cc:371] Added two functions with the same name: __inference___backward_call_60645_60971\n",
      "2024-03-25 16:13:38.932550: W tensorflow/core/common_runtime/eager/context.cc:371] Added two functions with the same name: rnn_1_while_cond_60411_rewritten_grad_60880\n",
      "2024-03-25 16:13:38.932563: W tensorflow/core/common_runtime/eager/context.cc:371] Added two functions with the same name: rnn_1_while_body_60412_grad_60734\n",
      "2024-03-25 16:13:38.949986: E tensorflow/core/grappler/optimizers/meta_optimizer.cc:502] constant folding failed: Invalid argument: Unsupported type: 21\n",
      "2024-03-25 16:13:38.978361: E tensorflow/core/grappler/optimizers/meta_optimizer.cc:502] constant folding failed: Invalid argument: Unsupported type: 21\n"
     ]
    },
    {
     "name": "stdout",
     "output_type": "stream",
     "text": [
      "WARNING:tensorflow:Entity <function train_one_step at 0x7609a470be60> could not be transformed and will be executed as-is. Please report this to the AutgoGraph team. When filing the bug, set the verbosity to 10 (on Linux, `export AUTOGRAPH_VERBOSITY=10`) and attach the full output. Cause: converting <function train_one_step at 0x7609a470be60>: AttributeError: module 'gast' has no attribute 'Str'\n",
      "WARNING: Entity <function train_one_step at 0x7609a470be60> could not be transformed and will be executed as-is. Please report this to the AutgoGraph team. When filing the bug, set the verbosity to 10 (on Linux, `export AUTOGRAPH_VERBOSITY=10`) and attach the full output. Cause: converting <function train_one_step at 0x7609a470be60>: AttributeError: module 'gast' has no attribute 'Str'\n",
      "WARNING:tensorflow:Entity <bound method myRNNModel.call of <tensorflow.python.eager.function.TfMethodTarget object at 0x7609a83fba50>> could not be transformed and will be executed as-is. Please report this to the AutgoGraph team. When filing the bug, set the verbosity to 10 (on Linux, `export AUTOGRAPH_VERBOSITY=10`) and attach the full output. Cause: converting <bound method myRNNModel.call of <tensorflow.python.eager.function.TfMethodTarget object at 0x7609a83fba50>>: AttributeError: module 'gast' has no attribute 'Str'\n",
      "WARNING: Entity <bound method myRNNModel.call of <tensorflow.python.eager.function.TfMethodTarget object at 0x7609a83fba50>> could not be transformed and will be executed as-is. Please report this to the AutgoGraph team. When filing the bug, set the verbosity to 10 (on Linux, `export AUTOGRAPH_VERBOSITY=10`) and attach the full output. Cause: converting <bound method myRNNModel.call of <tensorflow.python.eager.function.TfMethodTarget object at 0x7609a83fba50>>: AttributeError: module 'gast' has no attribute 'Str'\n",
      "WARNING:tensorflow:Entity <function compute_loss at 0x76092ddb40e0> could not be transformed and will be executed as-is. Please report this to the AutgoGraph team. When filing the bug, set the verbosity to 10 (on Linux, `export AUTOGRAPH_VERBOSITY=10`) and attach the full output. Cause: converting <function compute_loss at 0x76092ddb40e0>: AttributeError: module 'gast' has no attribute 'Str'\n",
      "WARNING: Entity <function compute_loss at 0x76092ddb40e0> could not be transformed and will be executed as-is. Please report this to the AutgoGraph team. When filing the bug, set the verbosity to 10 (on Linux, `export AUTOGRAPH_VERBOSITY=10`) and attach the full output. Cause: converting <function compute_loss at 0x76092ddb40e0>: AttributeError: module 'gast' has no attribute 'Str'\n"
     ]
    },
    {
     "name": "stderr",
     "output_type": "stream",
     "text": [
      "2024-03-25 16:13:40.054424: W tensorflow/core/common_runtime/eager/context.cc:371] Added two functions with the same name: rnn_1_while_cond_61244\n",
      "2024-03-25 16:13:40.054468: W tensorflow/core/common_runtime/eager/context.cc:371] Added two functions with the same name: rnn_1_while_body_61245\n",
      "2024-03-25 16:13:40.195025: W tensorflow/core/common_runtime/eager/context.cc:371] Added two functions with the same name: __inference_call_61342\n",
      "2024-03-25 16:13:40.195158: W tensorflow/core/common_runtime/eager/context.cc:371] Added two functions with the same name: rnn_1_while_cond_61244\n",
      "2024-03-25 16:13:40.195171: W tensorflow/core/common_runtime/eager/context.cc:371] Added two functions with the same name: rnn_1_while_body_61245\n",
      "2024-03-25 16:13:40.195204: W tensorflow/core/common_runtime/eager/context.cc:371] Added two functions with the same name: __inference_compute_loss_61408\n",
      "2024-03-25 16:13:40.195260: W tensorflow/core/common_runtime/eager/context.cc:371] Added two functions with the same name: __forward_compute_loss_61414\n",
      "2024-03-25 16:13:40.195314: W tensorflow/core/common_runtime/eager/context.cc:371] Added two functions with the same name: __inference___backward_compute_loss_61412_61469\n",
      "2024-03-25 16:13:40.195357: W tensorflow/core/common_runtime/eager/context.cc:371] Added two functions with the same name: __forward_call_61480\n",
      "2024-03-25 16:13:40.195462: W tensorflow/core/common_runtime/eager/context.cc:371] Added two functions with the same name: rnn_1_while_cond_61244_rewritten\n",
      "2024-03-25 16:13:40.195476: W tensorflow/core/common_runtime/eager/context.cc:371] Added two functions with the same name: rnn_1_while_body_61245_rewritten\n",
      "2024-03-25 16:13:40.195523: W tensorflow/core/common_runtime/eager/context.cc:371] Added two functions with the same name: __inference___backward_call_61478_61804\n",
      "2024-03-25 16:13:40.195588: W tensorflow/core/common_runtime/eager/context.cc:371] Added two functions with the same name: rnn_1_while_cond_61244_rewritten_grad_61713\n",
      "2024-03-25 16:13:40.195599: W tensorflow/core/common_runtime/eager/context.cc:371] Added two functions with the same name: rnn_1_while_body_61245_grad_61567\n",
      "2024-03-25 16:13:40.213384: E tensorflow/core/grappler/optimizers/meta_optimizer.cc:502] constant folding failed: Invalid argument: Unsupported type: 21\n",
      "2024-03-25 16:13:40.239815: E tensorflow/core/grappler/optimizers/meta_optimizer.cc:502] constant folding failed: Invalid argument: Unsupported type: 21\n"
     ]
    },
    {
     "name": "stdout",
     "output_type": "stream",
     "text": [
      "WARNING:tensorflow:Entity <function train_one_step at 0x7609a470be60> could not be transformed and will be executed as-is. Please report this to the AutgoGraph team. When filing the bug, set the verbosity to 10 (on Linux, `export AUTOGRAPH_VERBOSITY=10`) and attach the full output. Cause: converting <function train_one_step at 0x7609a470be60>: AttributeError: module 'gast' has no attribute 'Str'\n",
      "WARNING: Entity <function train_one_step at 0x7609a470be60> could not be transformed and will be executed as-is. Please report this to the AutgoGraph team. When filing the bug, set the verbosity to 10 (on Linux, `export AUTOGRAPH_VERBOSITY=10`) and attach the full output. Cause: converting <function train_one_step at 0x7609a470be60>: AttributeError: module 'gast' has no attribute 'Str'\n",
      "WARNING:tensorflow:Entity <bound method myRNNModel.call of <tensorflow.python.eager.function.TfMethodTarget object at 0x7609a83fba50>> could not be transformed and will be executed as-is. Please report this to the AutgoGraph team. When filing the bug, set the verbosity to 10 (on Linux, `export AUTOGRAPH_VERBOSITY=10`) and attach the full output. Cause: converting <bound method myRNNModel.call of <tensorflow.python.eager.function.TfMethodTarget object at 0x7609a83fba50>>: AttributeError: module 'gast' has no attribute 'Str'\n",
      "WARNING: Entity <bound method myRNNModel.call of <tensorflow.python.eager.function.TfMethodTarget object at 0x7609a83fba50>> could not be transformed and will be executed as-is. Please report this to the AutgoGraph team. When filing the bug, set the verbosity to 10 (on Linux, `export AUTOGRAPH_VERBOSITY=10`) and attach the full output. Cause: converting <bound method myRNNModel.call of <tensorflow.python.eager.function.TfMethodTarget object at 0x7609a83fba50>>: AttributeError: module 'gast' has no attribute 'Str'\n",
      "WARNING:tensorflow:Entity <function compute_loss at 0x76092ddb40e0> could not be transformed and will be executed as-is. Please report this to the AutgoGraph team. When filing the bug, set the verbosity to 10 (on Linux, `export AUTOGRAPH_VERBOSITY=10`) and attach the full output. Cause: converting <function compute_loss at 0x76092ddb40e0>: AttributeError: module 'gast' has no attribute 'Str'\n",
      "WARNING: Entity <function compute_loss at 0x76092ddb40e0> could not be transformed and will be executed as-is. Please report this to the AutgoGraph team. When filing the bug, set the verbosity to 10 (on Linux, `export AUTOGRAPH_VERBOSITY=10`) and attach the full output. Cause: converting <function compute_loss at 0x76092ddb40e0>: AttributeError: module 'gast' has no attribute 'Str'\n"
     ]
    },
    {
     "name": "stderr",
     "output_type": "stream",
     "text": [
      "2024-03-25 16:13:41.210758: W tensorflow/core/common_runtime/eager/context.cc:371] Added two functions with the same name: rnn_1_while_cond_62073\n",
      "2024-03-25 16:13:41.210794: W tensorflow/core/common_runtime/eager/context.cc:371] Added two functions with the same name: rnn_1_while_body_62074\n",
      "2024-03-25 16:13:41.336794: W tensorflow/core/common_runtime/eager/context.cc:371] Added two functions with the same name: __inference_call_62171\n",
      "2024-03-25 16:13:41.336921: W tensorflow/core/common_runtime/eager/context.cc:371] Added two functions with the same name: rnn_1_while_cond_62073\n",
      "2024-03-25 16:13:41.336934: W tensorflow/core/common_runtime/eager/context.cc:371] Added two functions with the same name: rnn_1_while_body_62074\n",
      "2024-03-25 16:13:41.336968: W tensorflow/core/common_runtime/eager/context.cc:371] Added two functions with the same name: __inference_compute_loss_62237\n",
      "2024-03-25 16:13:41.337019: W tensorflow/core/common_runtime/eager/context.cc:371] Added two functions with the same name: __forward_compute_loss_62243\n",
      "2024-03-25 16:13:41.337070: W tensorflow/core/common_runtime/eager/context.cc:371] Added two functions with the same name: __inference___backward_compute_loss_62241_62298\n",
      "2024-03-25 16:13:41.337111: W tensorflow/core/common_runtime/eager/context.cc:371] Added two functions with the same name: __forward_call_62309\n",
      "2024-03-25 16:13:41.337213: W tensorflow/core/common_runtime/eager/context.cc:371] Added two functions with the same name: rnn_1_while_cond_62073_rewritten\n",
      "2024-03-25 16:13:41.337226: W tensorflow/core/common_runtime/eager/context.cc:371] Added two functions with the same name: rnn_1_while_body_62074_rewritten\n",
      "2024-03-25 16:13:41.337271: W tensorflow/core/common_runtime/eager/context.cc:371] Added two functions with the same name: __inference___backward_call_62307_62633\n",
      "2024-03-25 16:13:41.337334: W tensorflow/core/common_runtime/eager/context.cc:371] Added two functions with the same name: rnn_1_while_cond_62073_rewritten_grad_62542\n",
      "2024-03-25 16:13:41.337344: W tensorflow/core/common_runtime/eager/context.cc:371] Added two functions with the same name: rnn_1_while_body_62074_grad_62396\n",
      "2024-03-25 16:13:41.356630: E tensorflow/core/grappler/optimizers/meta_optimizer.cc:502] constant folding failed: Invalid argument: Unsupported type: 21\n",
      "2024-03-25 16:13:41.383358: E tensorflow/core/grappler/optimizers/meta_optimizer.cc:502] constant folding failed: Invalid argument: Unsupported type: 21\n"
     ]
    },
    {
     "name": "stdout",
     "output_type": "stream",
     "text": [
      "WARNING:tensorflow:Entity <function train_one_step at 0x7609a470be60> could not be transformed and will be executed as-is. Please report this to the AutgoGraph team. When filing the bug, set the verbosity to 10 (on Linux, `export AUTOGRAPH_VERBOSITY=10`) and attach the full output. Cause: converting <function train_one_step at 0x7609a470be60>: AttributeError: module 'gast' has no attribute 'Str'\n",
      "WARNING: Entity <function train_one_step at 0x7609a470be60> could not be transformed and will be executed as-is. Please report this to the AutgoGraph team. When filing the bug, set the verbosity to 10 (on Linux, `export AUTOGRAPH_VERBOSITY=10`) and attach the full output. Cause: converting <function train_one_step at 0x7609a470be60>: AttributeError: module 'gast' has no attribute 'Str'\n",
      "WARNING:tensorflow:Entity <bound method myRNNModel.call of <tensorflow.python.eager.function.TfMethodTarget object at 0x7609a83fba50>> could not be transformed and will be executed as-is. Please report this to the AutgoGraph team. When filing the bug, set the verbosity to 10 (on Linux, `export AUTOGRAPH_VERBOSITY=10`) and attach the full output. Cause: converting <bound method myRNNModel.call of <tensorflow.python.eager.function.TfMethodTarget object at 0x7609a83fba50>>: AttributeError: module 'gast' has no attribute 'Str'\n",
      "WARNING: Entity <bound method myRNNModel.call of <tensorflow.python.eager.function.TfMethodTarget object at 0x7609a83fba50>> could not be transformed and will be executed as-is. Please report this to the AutgoGraph team. When filing the bug, set the verbosity to 10 (on Linux, `export AUTOGRAPH_VERBOSITY=10`) and attach the full output. Cause: converting <bound method myRNNModel.call of <tensorflow.python.eager.function.TfMethodTarget object at 0x7609a83fba50>>: AttributeError: module 'gast' has no attribute 'Str'\n",
      "WARNING:tensorflow:Entity <function compute_loss at 0x76092ddb40e0> could not be transformed and will be executed as-is. Please report this to the AutgoGraph team. When filing the bug, set the verbosity to 10 (on Linux, `export AUTOGRAPH_VERBOSITY=10`) and attach the full output. Cause: converting <function compute_loss at 0x76092ddb40e0>: AttributeError: module 'gast' has no attribute 'Str'\n",
      "WARNING: Entity <function compute_loss at 0x76092ddb40e0> could not be transformed and will be executed as-is. Please report this to the AutgoGraph team. When filing the bug, set the verbosity to 10 (on Linux, `export AUTOGRAPH_VERBOSITY=10`) and attach the full output. Cause: converting <function compute_loss at 0x76092ddb40e0>: AttributeError: module 'gast' has no attribute 'Str'\n"
     ]
    },
    {
     "name": "stderr",
     "output_type": "stream",
     "text": [
      "2024-03-25 16:13:42.499524: W tensorflow/core/common_runtime/eager/context.cc:371] Added two functions with the same name: rnn_1_while_cond_62906\n",
      "2024-03-25 16:13:42.499568: W tensorflow/core/common_runtime/eager/context.cc:371] Added two functions with the same name: rnn_1_while_body_62907\n",
      "2024-03-25 16:13:42.642855: W tensorflow/core/common_runtime/eager/context.cc:371] Added two functions with the same name: __inference_call_63004\n",
      "2024-03-25 16:13:42.643012: W tensorflow/core/common_runtime/eager/context.cc:371] Added two functions with the same name: rnn_1_while_cond_62906\n",
      "2024-03-25 16:13:42.643029: W tensorflow/core/common_runtime/eager/context.cc:371] Added two functions with the same name: rnn_1_while_body_62907\n",
      "2024-03-25 16:13:42.643063: W tensorflow/core/common_runtime/eager/context.cc:371] Added two functions with the same name: __inference_compute_loss_63070\n",
      "2024-03-25 16:13:42.643118: W tensorflow/core/common_runtime/eager/context.cc:371] Added two functions with the same name: __forward_compute_loss_63076\n",
      "2024-03-25 16:13:42.643175: W tensorflow/core/common_runtime/eager/context.cc:371] Added two functions with the same name: __inference___backward_compute_loss_63074_63131\n",
      "2024-03-25 16:13:42.643221: W tensorflow/core/common_runtime/eager/context.cc:371] Added two functions with the same name: __forward_call_63142\n",
      "2024-03-25 16:13:42.643335: W tensorflow/core/common_runtime/eager/context.cc:371] Added two functions with the same name: rnn_1_while_cond_62906_rewritten\n",
      "2024-03-25 16:13:42.643349: W tensorflow/core/common_runtime/eager/context.cc:371] Added two functions with the same name: rnn_1_while_body_62907_rewritten\n",
      "2024-03-25 16:13:42.643399: W tensorflow/core/common_runtime/eager/context.cc:371] Added two functions with the same name: __inference___backward_call_63140_63466\n",
      "2024-03-25 16:13:42.643469: W tensorflow/core/common_runtime/eager/context.cc:371] Added two functions with the same name: rnn_1_while_cond_62906_rewritten_grad_63375\n",
      "2024-03-25 16:13:42.643481: W tensorflow/core/common_runtime/eager/context.cc:371] Added two functions with the same name: rnn_1_while_body_62907_grad_63229\n",
      "2024-03-25 16:13:42.661422: E tensorflow/core/grappler/optimizers/meta_optimizer.cc:502] constant folding failed: Invalid argument: Unsupported type: 21\n",
      "2024-03-25 16:13:42.689910: E tensorflow/core/grappler/optimizers/meta_optimizer.cc:502] constant folding failed: Invalid argument: Unsupported type: 21\n"
     ]
    },
    {
     "name": "stdout",
     "output_type": "stream",
     "text": [
      "WARNING:tensorflow:Entity <function train_one_step at 0x7609a470be60> could not be transformed and will be executed as-is. Please report this to the AutgoGraph team. When filing the bug, set the verbosity to 10 (on Linux, `export AUTOGRAPH_VERBOSITY=10`) and attach the full output. Cause: converting <function train_one_step at 0x7609a470be60>: AttributeError: module 'gast' has no attribute 'Str'\n",
      "WARNING: Entity <function train_one_step at 0x7609a470be60> could not be transformed and will be executed as-is. Please report this to the AutgoGraph team. When filing the bug, set the verbosity to 10 (on Linux, `export AUTOGRAPH_VERBOSITY=10`) and attach the full output. Cause: converting <function train_one_step at 0x7609a470be60>: AttributeError: module 'gast' has no attribute 'Str'\n",
      "WARNING:tensorflow:Entity <bound method myRNNModel.call of <tensorflow.python.eager.function.TfMethodTarget object at 0x7609a83fba50>> could not be transformed and will be executed as-is. Please report this to the AutgoGraph team. When filing the bug, set the verbosity to 10 (on Linux, `export AUTOGRAPH_VERBOSITY=10`) and attach the full output. Cause: converting <bound method myRNNModel.call of <tensorflow.python.eager.function.TfMethodTarget object at 0x7609a83fba50>>: AttributeError: module 'gast' has no attribute 'Str'\n",
      "WARNING: Entity <bound method myRNNModel.call of <tensorflow.python.eager.function.TfMethodTarget object at 0x7609a83fba50>> could not be transformed and will be executed as-is. Please report this to the AutgoGraph team. When filing the bug, set the verbosity to 10 (on Linux, `export AUTOGRAPH_VERBOSITY=10`) and attach the full output. Cause: converting <bound method myRNNModel.call of <tensorflow.python.eager.function.TfMethodTarget object at 0x7609a83fba50>>: AttributeError: module 'gast' has no attribute 'Str'\n",
      "WARNING:tensorflow:Entity <function compute_loss at 0x76092ddb40e0> could not be transformed and will be executed as-is. Please report this to the AutgoGraph team. When filing the bug, set the verbosity to 10 (on Linux, `export AUTOGRAPH_VERBOSITY=10`) and attach the full output. Cause: converting <function compute_loss at 0x76092ddb40e0>: AttributeError: module 'gast' has no attribute 'Str'\n",
      "WARNING: Entity <function compute_loss at 0x76092ddb40e0> could not be transformed and will be executed as-is. Please report this to the AutgoGraph team. When filing the bug, set the verbosity to 10 (on Linux, `export AUTOGRAPH_VERBOSITY=10`) and attach the full output. Cause: converting <function compute_loss at 0x76092ddb40e0>: AttributeError: module 'gast' has no attribute 'Str'\n"
     ]
    },
    {
     "name": "stderr",
     "output_type": "stream",
     "text": [
      "2024-03-25 16:13:43.784399: W tensorflow/core/common_runtime/eager/context.cc:371] Added two functions with the same name: rnn_1_while_cond_63739\n",
      "2024-03-25 16:13:43.784435: W tensorflow/core/common_runtime/eager/context.cc:371] Added two functions with the same name: rnn_1_while_body_63740\n",
      "2024-03-25 16:13:43.919722: W tensorflow/core/common_runtime/eager/context.cc:371] Added two functions with the same name: __inference_call_63837\n",
      "2024-03-25 16:13:43.919872: W tensorflow/core/common_runtime/eager/context.cc:371] Added two functions with the same name: rnn_1_while_cond_63739\n",
      "2024-03-25 16:13:43.919887: W tensorflow/core/common_runtime/eager/context.cc:371] Added two functions with the same name: rnn_1_while_body_63740\n",
      "2024-03-25 16:13:43.919924: W tensorflow/core/common_runtime/eager/context.cc:371] Added two functions with the same name: __inference_compute_loss_63903\n",
      "2024-03-25 16:13:43.919985: W tensorflow/core/common_runtime/eager/context.cc:371] Added two functions with the same name: __forward_compute_loss_63909\n",
      "2024-03-25 16:13:43.920050: W tensorflow/core/common_runtime/eager/context.cc:371] Added two functions with the same name: __inference___backward_compute_loss_63907_63964\n",
      "2024-03-25 16:13:43.920102: W tensorflow/core/common_runtime/eager/context.cc:371] Added two functions with the same name: __forward_call_63975\n",
      "2024-03-25 16:13:43.920219: W tensorflow/core/common_runtime/eager/context.cc:371] Added two functions with the same name: rnn_1_while_cond_63739_rewritten\n",
      "2024-03-25 16:13:43.920234: W tensorflow/core/common_runtime/eager/context.cc:371] Added two functions with the same name: rnn_1_while_body_63740_rewritten\n",
      "2024-03-25 16:13:43.920289: W tensorflow/core/common_runtime/eager/context.cc:371] Added two functions with the same name: __inference___backward_call_63973_64299\n",
      "2024-03-25 16:13:43.920372: W tensorflow/core/common_runtime/eager/context.cc:371] Added two functions with the same name: rnn_1_while_cond_63739_rewritten_grad_64208\n",
      "2024-03-25 16:13:43.920383: W tensorflow/core/common_runtime/eager/context.cc:371] Added two functions with the same name: rnn_1_while_body_63740_grad_64062\n",
      "2024-03-25 16:13:43.938586: E tensorflow/core/grappler/optimizers/meta_optimizer.cc:502] constant folding failed: Invalid argument: Unsupported type: 21\n",
      "2024-03-25 16:13:43.964283: E tensorflow/core/grappler/optimizers/meta_optimizer.cc:502] constant folding failed: Invalid argument: Unsupported type: 21\n"
     ]
    },
    {
     "name": "stdout",
     "output_type": "stream",
     "text": [
      "WARNING:tensorflow:Entity <function train_one_step at 0x7609a470be60> could not be transformed and will be executed as-is. Please report this to the AutgoGraph team. When filing the bug, set the verbosity to 10 (on Linux, `export AUTOGRAPH_VERBOSITY=10`) and attach the full output. Cause: converting <function train_one_step at 0x7609a470be60>: AttributeError: module 'gast' has no attribute 'Str'\n",
      "WARNING: Entity <function train_one_step at 0x7609a470be60> could not be transformed and will be executed as-is. Please report this to the AutgoGraph team. When filing the bug, set the verbosity to 10 (on Linux, `export AUTOGRAPH_VERBOSITY=10`) and attach the full output. Cause: converting <function train_one_step at 0x7609a470be60>: AttributeError: module 'gast' has no attribute 'Str'\n",
      "WARNING:tensorflow:Entity <bound method myRNNModel.call of <tensorflow.python.eager.function.TfMethodTarget object at 0x7609a83fba50>> could not be transformed and will be executed as-is. Please report this to the AutgoGraph team. When filing the bug, set the verbosity to 10 (on Linux, `export AUTOGRAPH_VERBOSITY=10`) and attach the full output. Cause: converting <bound method myRNNModel.call of <tensorflow.python.eager.function.TfMethodTarget object at 0x7609a83fba50>>: AttributeError: module 'gast' has no attribute 'Str'\n",
      "WARNING: Entity <bound method myRNNModel.call of <tensorflow.python.eager.function.TfMethodTarget object at 0x7609a83fba50>> could not be transformed and will be executed as-is. Please report this to the AutgoGraph team. When filing the bug, set the verbosity to 10 (on Linux, `export AUTOGRAPH_VERBOSITY=10`) and attach the full output. Cause: converting <bound method myRNNModel.call of <tensorflow.python.eager.function.TfMethodTarget object at 0x7609a83fba50>>: AttributeError: module 'gast' has no attribute 'Str'\n",
      "WARNING:tensorflow:Entity <function compute_loss at 0x76092ddb40e0> could not be transformed and will be executed as-is. Please report this to the AutgoGraph team. When filing the bug, set the verbosity to 10 (on Linux, `export AUTOGRAPH_VERBOSITY=10`) and attach the full output. Cause: converting <function compute_loss at 0x76092ddb40e0>: AttributeError: module 'gast' has no attribute 'Str'\n",
      "WARNING: Entity <function compute_loss at 0x76092ddb40e0> could not be transformed and will be executed as-is. Please report this to the AutgoGraph team. When filing the bug, set the verbosity to 10 (on Linux, `export AUTOGRAPH_VERBOSITY=10`) and attach the full output. Cause: converting <function compute_loss at 0x76092ddb40e0>: AttributeError: module 'gast' has no attribute 'Str'\n"
     ]
    },
    {
     "name": "stderr",
     "output_type": "stream",
     "text": [
      "2024-03-25 16:13:45.089615: W tensorflow/core/common_runtime/eager/context.cc:371] Added two functions with the same name: rnn_1_while_cond_64572\n",
      "2024-03-25 16:13:45.089659: W tensorflow/core/common_runtime/eager/context.cc:371] Added two functions with the same name: rnn_1_while_body_64573\n",
      "2024-03-25 16:13:45.219609: W tensorflow/core/common_runtime/eager/context.cc:371] Added two functions with the same name: __inference_call_64670\n",
      "2024-03-25 16:13:45.219824: W tensorflow/core/common_runtime/eager/context.cc:371] Added two functions with the same name: rnn_1_while_cond_64572\n",
      "2024-03-25 16:13:45.219846: W tensorflow/core/common_runtime/eager/context.cc:371] Added two functions with the same name: rnn_1_while_body_64573\n",
      "2024-03-25 16:13:45.219882: W tensorflow/core/common_runtime/eager/context.cc:371] Added two functions with the same name: __inference_compute_loss_64736\n",
      "2024-03-25 16:13:45.219939: W tensorflow/core/common_runtime/eager/context.cc:371] Added two functions with the same name: __forward_compute_loss_64742\n",
      "2024-03-25 16:13:45.219999: W tensorflow/core/common_runtime/eager/context.cc:371] Added two functions with the same name: __inference___backward_compute_loss_64740_64797\n",
      "2024-03-25 16:13:45.220049: W tensorflow/core/common_runtime/eager/context.cc:371] Added two functions with the same name: __forward_call_64808\n",
      "2024-03-25 16:13:45.220164: W tensorflow/core/common_runtime/eager/context.cc:371] Added two functions with the same name: rnn_1_while_cond_64572_rewritten\n",
      "2024-03-25 16:13:45.220178: W tensorflow/core/common_runtime/eager/context.cc:371] Added two functions with the same name: rnn_1_while_body_64573_rewritten\n",
      "2024-03-25 16:13:45.220230: W tensorflow/core/common_runtime/eager/context.cc:371] Added two functions with the same name: __inference___backward_call_64806_65132\n",
      "2024-03-25 16:13:45.220303: W tensorflow/core/common_runtime/eager/context.cc:371] Added two functions with the same name: rnn_1_while_cond_64572_rewritten_grad_65041\n",
      "2024-03-25 16:13:45.220314: W tensorflow/core/common_runtime/eager/context.cc:371] Added two functions with the same name: rnn_1_while_body_64573_grad_64895\n",
      "2024-03-25 16:13:45.238309: E tensorflow/core/grappler/optimizers/meta_optimizer.cc:502] constant folding failed: Invalid argument: Unsupported type: 21\n",
      "2024-03-25 16:13:45.265866: E tensorflow/core/grappler/optimizers/meta_optimizer.cc:502] constant folding failed: Invalid argument: Unsupported type: 21\n"
     ]
    },
    {
     "name": "stdout",
     "output_type": "stream",
     "text": [
      "WARNING:tensorflow:Entity <function train_one_step at 0x7609a470be60> could not be transformed and will be executed as-is. Please report this to the AutgoGraph team. When filing the bug, set the verbosity to 10 (on Linux, `export AUTOGRAPH_VERBOSITY=10`) and attach the full output. Cause: converting <function train_one_step at 0x7609a470be60>: AttributeError: module 'gast' has no attribute 'Str'\n",
      "WARNING: Entity <function train_one_step at 0x7609a470be60> could not be transformed and will be executed as-is. Please report this to the AutgoGraph team. When filing the bug, set the verbosity to 10 (on Linux, `export AUTOGRAPH_VERBOSITY=10`) and attach the full output. Cause: converting <function train_one_step at 0x7609a470be60>: AttributeError: module 'gast' has no attribute 'Str'\n",
      "WARNING:tensorflow:Entity <bound method myRNNModel.call of <tensorflow.python.eager.function.TfMethodTarget object at 0x7609a83fba50>> could not be transformed and will be executed as-is. Please report this to the AutgoGraph team. When filing the bug, set the verbosity to 10 (on Linux, `export AUTOGRAPH_VERBOSITY=10`) and attach the full output. Cause: converting <bound method myRNNModel.call of <tensorflow.python.eager.function.TfMethodTarget object at 0x7609a83fba50>>: AttributeError: module 'gast' has no attribute 'Str'\n",
      "WARNING: Entity <bound method myRNNModel.call of <tensorflow.python.eager.function.TfMethodTarget object at 0x7609a83fba50>> could not be transformed and will be executed as-is. Please report this to the AutgoGraph team. When filing the bug, set the verbosity to 10 (on Linux, `export AUTOGRAPH_VERBOSITY=10`) and attach the full output. Cause: converting <bound method myRNNModel.call of <tensorflow.python.eager.function.TfMethodTarget object at 0x7609a83fba50>>: AttributeError: module 'gast' has no attribute 'Str'\n",
      "WARNING:tensorflow:Entity <function compute_loss at 0x76092ddb40e0> could not be transformed and will be executed as-is. Please report this to the AutgoGraph team. When filing the bug, set the verbosity to 10 (on Linux, `export AUTOGRAPH_VERBOSITY=10`) and attach the full output. Cause: converting <function compute_loss at 0x76092ddb40e0>: AttributeError: module 'gast' has no attribute 'Str'\n",
      "WARNING: Entity <function compute_loss at 0x76092ddb40e0> could not be transformed and will be executed as-is. Please report this to the AutgoGraph team. When filing the bug, set the verbosity to 10 (on Linux, `export AUTOGRAPH_VERBOSITY=10`) and attach the full output. Cause: converting <function compute_loss at 0x76092ddb40e0>: AttributeError: module 'gast' has no attribute 'Str'\n"
     ]
    },
    {
     "name": "stderr",
     "output_type": "stream",
     "text": [
      "2024-03-25 16:13:47.451155: W tensorflow/core/common_runtime/eager/context.cc:371] Added two functions with the same name: rnn_1_while_cond_65429\n",
      "2024-03-25 16:13:47.451194: W tensorflow/core/common_runtime/eager/context.cc:371] Added two functions with the same name: rnn_1_while_body_65430\n",
      "2024-03-25 16:13:47.581067: W tensorflow/core/common_runtime/eager/context.cc:371] Added two functions with the same name: __inference_call_65527\n",
      "2024-03-25 16:13:47.581196: W tensorflow/core/common_runtime/eager/context.cc:371] Added two functions with the same name: rnn_1_while_cond_65429\n",
      "2024-03-25 16:13:47.581209: W tensorflow/core/common_runtime/eager/context.cc:371] Added two functions with the same name: rnn_1_while_body_65430\n",
      "2024-03-25 16:13:47.581240: W tensorflow/core/common_runtime/eager/context.cc:371] Added two functions with the same name: __inference_compute_loss_65593\n",
      "2024-03-25 16:13:47.581291: W tensorflow/core/common_runtime/eager/context.cc:371] Added two functions with the same name: __forward_compute_loss_65599\n",
      "2024-03-25 16:13:47.581343: W tensorflow/core/common_runtime/eager/context.cc:371] Added two functions with the same name: __inference___backward_compute_loss_65597_65654\n",
      "2024-03-25 16:13:47.581384: W tensorflow/core/common_runtime/eager/context.cc:371] Added two functions with the same name: __forward_call_65665\n",
      "2024-03-25 16:13:47.581490: W tensorflow/core/common_runtime/eager/context.cc:371] Added two functions with the same name: rnn_1_while_cond_65429_rewritten\n",
      "2024-03-25 16:13:47.581503: W tensorflow/core/common_runtime/eager/context.cc:371] Added two functions with the same name: rnn_1_while_body_65430_rewritten\n",
      "2024-03-25 16:13:47.581547: W tensorflow/core/common_runtime/eager/context.cc:371] Added two functions with the same name: __inference___backward_call_65663_65989\n",
      "2024-03-25 16:13:47.581613: W tensorflow/core/common_runtime/eager/context.cc:371] Added two functions with the same name: rnn_1_while_cond_65429_rewritten_grad_65898\n",
      "2024-03-25 16:13:47.581623: W tensorflow/core/common_runtime/eager/context.cc:371] Added two functions with the same name: rnn_1_while_body_65430_grad_65752\n",
      "2024-03-25 16:13:47.599022: E tensorflow/core/grappler/optimizers/meta_optimizer.cc:502] constant folding failed: Invalid argument: Unsupported type: 21\n",
      "2024-03-25 16:13:47.625365: E tensorflow/core/grappler/optimizers/meta_optimizer.cc:502] constant folding failed: Invalid argument: Unsupported type: 21\n"
     ]
    },
    {
     "name": "stdout",
     "output_type": "stream",
     "text": [
      "WARNING:tensorflow:Entity <function train_one_step at 0x7609a470be60> could not be transformed and will be executed as-is. Please report this to the AutgoGraph team. When filing the bug, set the verbosity to 10 (on Linux, `export AUTOGRAPH_VERBOSITY=10`) and attach the full output. Cause: converting <function train_one_step at 0x7609a470be60>: AttributeError: module 'gast' has no attribute 'Str'\n",
      "WARNING: Entity <function train_one_step at 0x7609a470be60> could not be transformed and will be executed as-is. Please report this to the AutgoGraph team. When filing the bug, set the verbosity to 10 (on Linux, `export AUTOGRAPH_VERBOSITY=10`) and attach the full output. Cause: converting <function train_one_step at 0x7609a470be60>: AttributeError: module 'gast' has no attribute 'Str'\n",
      "WARNING:tensorflow:Entity <bound method myRNNModel.call of <tensorflow.python.eager.function.TfMethodTarget object at 0x7609a83fba50>> could not be transformed and will be executed as-is. Please report this to the AutgoGraph team. When filing the bug, set the verbosity to 10 (on Linux, `export AUTOGRAPH_VERBOSITY=10`) and attach the full output. Cause: converting <bound method myRNNModel.call of <tensorflow.python.eager.function.TfMethodTarget object at 0x7609a83fba50>>: AttributeError: module 'gast' has no attribute 'Str'\n",
      "WARNING: Entity <bound method myRNNModel.call of <tensorflow.python.eager.function.TfMethodTarget object at 0x7609a83fba50>> could not be transformed and will be executed as-is. Please report this to the AutgoGraph team. When filing the bug, set the verbosity to 10 (on Linux, `export AUTOGRAPH_VERBOSITY=10`) and attach the full output. Cause: converting <bound method myRNNModel.call of <tensorflow.python.eager.function.TfMethodTarget object at 0x7609a83fba50>>: AttributeError: module 'gast' has no attribute 'Str'\n",
      "WARNING:tensorflow:Entity <function compute_loss at 0x76092ddb40e0> could not be transformed and will be executed as-is. Please report this to the AutgoGraph team. When filing the bug, set the verbosity to 10 (on Linux, `export AUTOGRAPH_VERBOSITY=10`) and attach the full output. Cause: converting <function compute_loss at 0x76092ddb40e0>: AttributeError: module 'gast' has no attribute 'Str'\n",
      "WARNING: Entity <function compute_loss at 0x76092ddb40e0> could not be transformed and will be executed as-is. Please report this to the AutgoGraph team. When filing the bug, set the verbosity to 10 (on Linux, `export AUTOGRAPH_VERBOSITY=10`) and attach the full output. Cause: converting <function compute_loss at 0x76092ddb40e0>: AttributeError: module 'gast' has no attribute 'Str'\n"
     ]
    },
    {
     "name": "stderr",
     "output_type": "stream",
     "text": [
      "2024-03-25 16:13:48.076799: W tensorflow/core/common_runtime/eager/context.cc:371] Added two functions with the same name: rnn_1_while_cond_66246\n",
      "2024-03-25 16:13:48.076836: W tensorflow/core/common_runtime/eager/context.cc:371] Added two functions with the same name: rnn_1_while_body_66247\n",
      "2024-03-25 16:13:48.216275: W tensorflow/core/common_runtime/eager/context.cc:371] Added two functions with the same name: __inference_call_66344\n",
      "2024-03-25 16:13:48.216502: W tensorflow/core/common_runtime/eager/context.cc:371] Added two functions with the same name: rnn_1_while_cond_66246\n",
      "2024-03-25 16:13:48.216523: W tensorflow/core/common_runtime/eager/context.cc:371] Added two functions with the same name: rnn_1_while_body_66247\n",
      "2024-03-25 16:13:48.216560: W tensorflow/core/common_runtime/eager/context.cc:371] Added two functions with the same name: __inference_compute_loss_66410\n",
      "2024-03-25 16:13:48.216613: W tensorflow/core/common_runtime/eager/context.cc:371] Added two functions with the same name: __forward_compute_loss_66416\n",
      "2024-03-25 16:13:48.216674: W tensorflow/core/common_runtime/eager/context.cc:371] Added two functions with the same name: __inference___backward_compute_loss_66414_66471\n",
      "2024-03-25 16:13:48.216718: W tensorflow/core/common_runtime/eager/context.cc:371] Added two functions with the same name: __forward_call_66482\n",
      "2024-03-25 16:13:48.216829: W tensorflow/core/common_runtime/eager/context.cc:371] Added two functions with the same name: rnn_1_while_cond_66246_rewritten\n",
      "2024-03-25 16:13:48.216844: W tensorflow/core/common_runtime/eager/context.cc:371] Added two functions with the same name: rnn_1_while_body_66247_rewritten\n",
      "2024-03-25 16:13:48.216894: W tensorflow/core/common_runtime/eager/context.cc:371] Added two functions with the same name: __inference___backward_call_66480_66806\n",
      "2024-03-25 16:13:48.216968: W tensorflow/core/common_runtime/eager/context.cc:371] Added two functions with the same name: rnn_1_while_cond_66246_rewritten_grad_66715\n",
      "2024-03-25 16:13:48.216979: W tensorflow/core/common_runtime/eager/context.cc:371] Added two functions with the same name: rnn_1_while_body_66247_grad_66569\n",
      "2024-03-25 16:13:48.235780: E tensorflow/core/grappler/optimizers/meta_optimizer.cc:502] constant folding failed: Invalid argument: Unsupported type: 21\n",
      "2024-03-25 16:13:48.263314: E tensorflow/core/grappler/optimizers/meta_optimizer.cc:502] constant folding failed: Invalid argument: Unsupported type: 21\n"
     ]
    },
    {
     "name": "stdout",
     "output_type": "stream",
     "text": [
      "WARNING:tensorflow:Entity <function train_one_step at 0x7609a470be60> could not be transformed and will be executed as-is. Please report this to the AutgoGraph team. When filing the bug, set the verbosity to 10 (on Linux, `export AUTOGRAPH_VERBOSITY=10`) and attach the full output. Cause: converting <function train_one_step at 0x7609a470be60>: AttributeError: module 'gast' has no attribute 'Str'\n",
      "WARNING: Entity <function train_one_step at 0x7609a470be60> could not be transformed and will be executed as-is. Please report this to the AutgoGraph team. When filing the bug, set the verbosity to 10 (on Linux, `export AUTOGRAPH_VERBOSITY=10`) and attach the full output. Cause: converting <function train_one_step at 0x7609a470be60>: AttributeError: module 'gast' has no attribute 'Str'\n",
      "WARNING:tensorflow:Entity <bound method myRNNModel.call of <tensorflow.python.eager.function.TfMethodTarget object at 0x7609a83fba50>> could not be transformed and will be executed as-is. Please report this to the AutgoGraph team. When filing the bug, set the verbosity to 10 (on Linux, `export AUTOGRAPH_VERBOSITY=10`) and attach the full output. Cause: converting <bound method myRNNModel.call of <tensorflow.python.eager.function.TfMethodTarget object at 0x7609a83fba50>>: AttributeError: module 'gast' has no attribute 'Str'\n",
      "WARNING: Entity <bound method myRNNModel.call of <tensorflow.python.eager.function.TfMethodTarget object at 0x7609a83fba50>> could not be transformed and will be executed as-is. Please report this to the AutgoGraph team. When filing the bug, set the verbosity to 10 (on Linux, `export AUTOGRAPH_VERBOSITY=10`) and attach the full output. Cause: converting <bound method myRNNModel.call of <tensorflow.python.eager.function.TfMethodTarget object at 0x7609a83fba50>>: AttributeError: module 'gast' has no attribute 'Str'\n",
      "WARNING:tensorflow:Entity <function compute_loss at 0x76092ddb40e0> could not be transformed and will be executed as-is. Please report this to the AutgoGraph team. When filing the bug, set the verbosity to 10 (on Linux, `export AUTOGRAPH_VERBOSITY=10`) and attach the full output. Cause: converting <function compute_loss at 0x76092ddb40e0>: AttributeError: module 'gast' has no attribute 'Str'\n",
      "WARNING: Entity <function compute_loss at 0x76092ddb40e0> could not be transformed and will be executed as-is. Please report this to the AutgoGraph team. When filing the bug, set the verbosity to 10 (on Linux, `export AUTOGRAPH_VERBOSITY=10`) and attach the full output. Cause: converting <function compute_loss at 0x76092ddb40e0>: AttributeError: module 'gast' has no attribute 'Str'\n"
     ]
    },
    {
     "name": "stderr",
     "output_type": "stream",
     "text": [
      "2024-03-25 16:13:54.996660: W tensorflow/core/common_runtime/eager/context.cc:371] Added two functions with the same name: rnn_1_while_cond_67207\n",
      "2024-03-25 16:13:54.996699: W tensorflow/core/common_runtime/eager/context.cc:371] Added two functions with the same name: rnn_1_while_body_67208\n",
      "2024-03-25 16:13:55.547367: W tensorflow/core/common_runtime/eager/context.cc:371] Added two functions with the same name: __inference_call_67305\n",
      "2024-03-25 16:13:55.547501: W tensorflow/core/common_runtime/eager/context.cc:371] Added two functions with the same name: rnn_1_while_cond_67207\n",
      "2024-03-25 16:13:55.547514: W tensorflow/core/common_runtime/eager/context.cc:371] Added two functions with the same name: rnn_1_while_body_67208\n",
      "2024-03-25 16:13:55.547545: W tensorflow/core/common_runtime/eager/context.cc:371] Added two functions with the same name: __inference_compute_loss_67371\n",
      "2024-03-25 16:13:55.547597: W tensorflow/core/common_runtime/eager/context.cc:371] Added two functions with the same name: __forward_compute_loss_67377\n",
      "2024-03-25 16:13:55.547650: W tensorflow/core/common_runtime/eager/context.cc:371] Added two functions with the same name: __inference___backward_compute_loss_67375_67432\n",
      "2024-03-25 16:13:55.547690: W tensorflow/core/common_runtime/eager/context.cc:371] Added two functions with the same name: __forward_call_67443\n",
      "2024-03-25 16:13:55.547795: W tensorflow/core/common_runtime/eager/context.cc:371] Added two functions with the same name: rnn_1_while_cond_67207_rewritten\n",
      "2024-03-25 16:13:55.547808: W tensorflow/core/common_runtime/eager/context.cc:371] Added two functions with the same name: rnn_1_while_body_67208_rewritten\n",
      "2024-03-25 16:13:55.547854: W tensorflow/core/common_runtime/eager/context.cc:371] Added two functions with the same name: __inference___backward_call_67441_67767\n",
      "2024-03-25 16:13:55.547921: W tensorflow/core/common_runtime/eager/context.cc:371] Added two functions with the same name: rnn_1_while_cond_67207_rewritten_grad_67676\n",
      "2024-03-25 16:13:55.547932: W tensorflow/core/common_runtime/eager/context.cc:371] Added two functions with the same name: rnn_1_while_body_67208_grad_67530\n",
      "2024-03-25 16:13:55.565284: E tensorflow/core/grappler/optimizers/meta_optimizer.cc:502] constant folding failed: Invalid argument: Unsupported type: 21\n",
      "2024-03-25 16:13:55.591752: E tensorflow/core/grappler/optimizers/meta_optimizer.cc:502] constant folding failed: Invalid argument: Unsupported type: 21\n"
     ]
    },
    {
     "name": "stdout",
     "output_type": "stream",
     "text": [
      "WARNING:tensorflow:Entity <function train_one_step at 0x7609a470be60> could not be transformed and will be executed as-is. Please report this to the AutgoGraph team. When filing the bug, set the verbosity to 10 (on Linux, `export AUTOGRAPH_VERBOSITY=10`) and attach the full output. Cause: converting <function train_one_step at 0x7609a470be60>: AttributeError: module 'gast' has no attribute 'Str'\n",
      "WARNING: Entity <function train_one_step at 0x7609a470be60> could not be transformed and will be executed as-is. Please report this to the AutgoGraph team. When filing the bug, set the verbosity to 10 (on Linux, `export AUTOGRAPH_VERBOSITY=10`) and attach the full output. Cause: converting <function train_one_step at 0x7609a470be60>: AttributeError: module 'gast' has no attribute 'Str'\n",
      "WARNING:tensorflow:Entity <bound method myRNNModel.call of <tensorflow.python.eager.function.TfMethodTarget object at 0x7609a83fba50>> could not be transformed and will be executed as-is. Please report this to the AutgoGraph team. When filing the bug, set the verbosity to 10 (on Linux, `export AUTOGRAPH_VERBOSITY=10`) and attach the full output. Cause: converting <bound method myRNNModel.call of <tensorflow.python.eager.function.TfMethodTarget object at 0x7609a83fba50>>: AttributeError: module 'gast' has no attribute 'Str'\n",
      "WARNING: Entity <bound method myRNNModel.call of <tensorflow.python.eager.function.TfMethodTarget object at 0x7609a83fba50>> could not be transformed and will be executed as-is. Please report this to the AutgoGraph team. When filing the bug, set the verbosity to 10 (on Linux, `export AUTOGRAPH_VERBOSITY=10`) and attach the full output. Cause: converting <bound method myRNNModel.call of <tensorflow.python.eager.function.TfMethodTarget object at 0x7609a83fba50>>: AttributeError: module 'gast' has no attribute 'Str'\n",
      "WARNING:tensorflow:Entity <function compute_loss at 0x76092ddb40e0> could not be transformed and will be executed as-is. Please report this to the AutgoGraph team. When filing the bug, set the verbosity to 10 (on Linux, `export AUTOGRAPH_VERBOSITY=10`) and attach the full output. Cause: converting <function compute_loss at 0x76092ddb40e0>: AttributeError: module 'gast' has no attribute 'Str'\n",
      "WARNING: Entity <function compute_loss at 0x76092ddb40e0> could not be transformed and will be executed as-is. Please report this to the AutgoGraph team. When filing the bug, set the verbosity to 10 (on Linux, `export AUTOGRAPH_VERBOSITY=10`) and attach the full output. Cause: converting <function compute_loss at 0x76092ddb40e0>: AttributeError: module 'gast' has no attribute 'Str'\n"
     ]
    },
    {
     "name": "stderr",
     "output_type": "stream",
     "text": [
      "2024-03-25 16:13:56.559736: W tensorflow/core/common_runtime/eager/context.cc:371] Added two functions with the same name: rnn_1_while_cond_68036\n",
      "2024-03-25 16:13:56.559777: W tensorflow/core/common_runtime/eager/context.cc:371] Added two functions with the same name: rnn_1_while_body_68037\n",
      "2024-03-25 16:13:56.696368: W tensorflow/core/common_runtime/eager/context.cc:371] Added two functions with the same name: __inference_call_68134\n",
      "2024-03-25 16:13:56.696510: W tensorflow/core/common_runtime/eager/context.cc:371] Added two functions with the same name: rnn_1_while_cond_68036\n",
      "2024-03-25 16:13:56.696524: W tensorflow/core/common_runtime/eager/context.cc:371] Added two functions with the same name: rnn_1_while_body_68037\n",
      "2024-03-25 16:13:56.696555: W tensorflow/core/common_runtime/eager/context.cc:371] Added two functions with the same name: __inference_compute_loss_68200\n",
      "2024-03-25 16:13:56.696608: W tensorflow/core/common_runtime/eager/context.cc:371] Added two functions with the same name: __forward_compute_loss_68206\n",
      "2024-03-25 16:13:56.696663: W tensorflow/core/common_runtime/eager/context.cc:371] Added two functions with the same name: __inference___backward_compute_loss_68204_68261\n",
      "2024-03-25 16:13:56.696704: W tensorflow/core/common_runtime/eager/context.cc:371] Added two functions with the same name: __forward_call_68272\n",
      "2024-03-25 16:13:56.696811: W tensorflow/core/common_runtime/eager/context.cc:371] Added two functions with the same name: rnn_1_while_cond_68036_rewritten\n",
      "2024-03-25 16:13:56.696824: W tensorflow/core/common_runtime/eager/context.cc:371] Added two functions with the same name: rnn_1_while_body_68037_rewritten\n",
      "2024-03-25 16:13:56.696869: W tensorflow/core/common_runtime/eager/context.cc:371] Added two functions with the same name: __inference___backward_call_68270_68596\n",
      "2024-03-25 16:13:56.696935: W tensorflow/core/common_runtime/eager/context.cc:371] Added two functions with the same name: rnn_1_while_cond_68036_rewritten_grad_68505\n",
      "2024-03-25 16:13:56.696945: W tensorflow/core/common_runtime/eager/context.cc:371] Added two functions with the same name: rnn_1_while_body_68037_grad_68359\n",
      "2024-03-25 16:13:56.715207: E tensorflow/core/grappler/optimizers/meta_optimizer.cc:502] constant folding failed: Invalid argument: Unsupported type: 21\n",
      "2024-03-25 16:13:56.752934: E tensorflow/core/grappler/optimizers/meta_optimizer.cc:502] constant folding failed: Invalid argument: Unsupported type: 21\n"
     ]
    },
    {
     "name": "stdout",
     "output_type": "stream",
     "text": [
      "WARNING:tensorflow:Entity <function train_one_step at 0x7609a470be60> could not be transformed and will be executed as-is. Please report this to the AutgoGraph team. When filing the bug, set the verbosity to 10 (on Linux, `export AUTOGRAPH_VERBOSITY=10`) and attach the full output. Cause: converting <function train_one_step at 0x7609a470be60>: AttributeError: module 'gast' has no attribute 'Str'\n",
      "WARNING: Entity <function train_one_step at 0x7609a470be60> could not be transformed and will be executed as-is. Please report this to the AutgoGraph team. When filing the bug, set the verbosity to 10 (on Linux, `export AUTOGRAPH_VERBOSITY=10`) and attach the full output. Cause: converting <function train_one_step at 0x7609a470be60>: AttributeError: module 'gast' has no attribute 'Str'\n",
      "WARNING:tensorflow:Entity <bound method myRNNModel.call of <tensorflow.python.eager.function.TfMethodTarget object at 0x7609a83fba50>> could not be transformed and will be executed as-is. Please report this to the AutgoGraph team. When filing the bug, set the verbosity to 10 (on Linux, `export AUTOGRAPH_VERBOSITY=10`) and attach the full output. Cause: converting <bound method myRNNModel.call of <tensorflow.python.eager.function.TfMethodTarget object at 0x7609a83fba50>>: AttributeError: module 'gast' has no attribute 'Str'\n",
      "WARNING: Entity <bound method myRNNModel.call of <tensorflow.python.eager.function.TfMethodTarget object at 0x7609a83fba50>> could not be transformed and will be executed as-is. Please report this to the AutgoGraph team. When filing the bug, set the verbosity to 10 (on Linux, `export AUTOGRAPH_VERBOSITY=10`) and attach the full output. Cause: converting <bound method myRNNModel.call of <tensorflow.python.eager.function.TfMethodTarget object at 0x7609a83fba50>>: AttributeError: module 'gast' has no attribute 'Str'\n",
      "WARNING:tensorflow:Entity <function compute_loss at 0x76092ddb40e0> could not be transformed and will be executed as-is. Please report this to the AutgoGraph team. When filing the bug, set the verbosity to 10 (on Linux, `export AUTOGRAPH_VERBOSITY=10`) and attach the full output. Cause: converting <function compute_loss at 0x76092ddb40e0>: AttributeError: module 'gast' has no attribute 'Str'\n",
      "WARNING: Entity <function compute_loss at 0x76092ddb40e0> could not be transformed and will be executed as-is. Please report this to the AutgoGraph team. When filing the bug, set the verbosity to 10 (on Linux, `export AUTOGRAPH_VERBOSITY=10`) and attach the full output. Cause: converting <function compute_loss at 0x76092ddb40e0>: AttributeError: module 'gast' has no attribute 'Str'\n"
     ]
    },
    {
     "name": "stderr",
     "output_type": "stream",
     "text": [
      "2024-03-25 16:13:57.723256: W tensorflow/core/common_runtime/eager/context.cc:371] Added two functions with the same name: rnn_1_while_cond_68865\n",
      "2024-03-25 16:13:57.723326: W tensorflow/core/common_runtime/eager/context.cc:371] Added two functions with the same name: rnn_1_while_body_68866\n",
      "2024-03-25 16:13:57.871026: W tensorflow/core/common_runtime/eager/context.cc:371] Added two functions with the same name: __inference_call_68963\n",
      "2024-03-25 16:13:57.871173: W tensorflow/core/common_runtime/eager/context.cc:371] Added two functions with the same name: rnn_1_while_cond_68865\n",
      "2024-03-25 16:13:57.871186: W tensorflow/core/common_runtime/eager/context.cc:371] Added two functions with the same name: rnn_1_while_body_68866\n",
      "2024-03-25 16:13:57.871219: W tensorflow/core/common_runtime/eager/context.cc:371] Added two functions with the same name: __inference_compute_loss_69029\n",
      "2024-03-25 16:13:57.871274: W tensorflow/core/common_runtime/eager/context.cc:371] Added two functions with the same name: __forward_compute_loss_69035\n",
      "2024-03-25 16:13:57.871333: W tensorflow/core/common_runtime/eager/context.cc:371] Added two functions with the same name: __inference___backward_compute_loss_69033_69090\n",
      "2024-03-25 16:13:57.871375: W tensorflow/core/common_runtime/eager/context.cc:371] Added two functions with the same name: __forward_call_69101\n",
      "2024-03-25 16:13:57.871479: W tensorflow/core/common_runtime/eager/context.cc:371] Added two functions with the same name: rnn_1_while_cond_68865_rewritten\n",
      "2024-03-25 16:13:57.871493: W tensorflow/core/common_runtime/eager/context.cc:371] Added two functions with the same name: rnn_1_while_body_68866_rewritten\n",
      "2024-03-25 16:13:57.871542: W tensorflow/core/common_runtime/eager/context.cc:371] Added two functions with the same name: __inference___backward_call_69099_69425\n",
      "2024-03-25 16:13:57.871612: W tensorflow/core/common_runtime/eager/context.cc:371] Added two functions with the same name: rnn_1_while_cond_68865_rewritten_grad_69334\n",
      "2024-03-25 16:13:57.871622: W tensorflow/core/common_runtime/eager/context.cc:371] Added two functions with the same name: rnn_1_while_body_68866_grad_69188\n",
      "2024-03-25 16:13:57.891539: E tensorflow/core/grappler/optimizers/meta_optimizer.cc:502] constant folding failed: Invalid argument: Unsupported type: 21\n",
      "2024-03-25 16:13:57.921163: E tensorflow/core/grappler/optimizers/meta_optimizer.cc:502] constant folding failed: Invalid argument: Unsupported type: 21\n"
     ]
    },
    {
     "name": "stdout",
     "output_type": "stream",
     "text": [
      "WARNING:tensorflow:Entity <function train_one_step at 0x7609a470be60> could not be transformed and will be executed as-is. Please report this to the AutgoGraph team. When filing the bug, set the verbosity to 10 (on Linux, `export AUTOGRAPH_VERBOSITY=10`) and attach the full output. Cause: converting <function train_one_step at 0x7609a470be60>: AttributeError: module 'gast' has no attribute 'Str'\n",
      "WARNING: Entity <function train_one_step at 0x7609a470be60> could not be transformed and will be executed as-is. Please report this to the AutgoGraph team. When filing the bug, set the verbosity to 10 (on Linux, `export AUTOGRAPH_VERBOSITY=10`) and attach the full output. Cause: converting <function train_one_step at 0x7609a470be60>: AttributeError: module 'gast' has no attribute 'Str'\n",
      "WARNING:tensorflow:Entity <bound method myRNNModel.call of <tensorflow.python.eager.function.TfMethodTarget object at 0x7609a83fba50>> could not be transformed and will be executed as-is. Please report this to the AutgoGraph team. When filing the bug, set the verbosity to 10 (on Linux, `export AUTOGRAPH_VERBOSITY=10`) and attach the full output. Cause: converting <bound method myRNNModel.call of <tensorflow.python.eager.function.TfMethodTarget object at 0x7609a83fba50>>: AttributeError: module 'gast' has no attribute 'Str'\n",
      "WARNING: Entity <bound method myRNNModel.call of <tensorflow.python.eager.function.TfMethodTarget object at 0x7609a83fba50>> could not be transformed and will be executed as-is. Please report this to the AutgoGraph team. When filing the bug, set the verbosity to 10 (on Linux, `export AUTOGRAPH_VERBOSITY=10`) and attach the full output. Cause: converting <bound method myRNNModel.call of <tensorflow.python.eager.function.TfMethodTarget object at 0x7609a83fba50>>: AttributeError: module 'gast' has no attribute 'Str'\n",
      "WARNING:tensorflow:Entity <function compute_loss at 0x76092ddb40e0> could not be transformed and will be executed as-is. Please report this to the AutgoGraph team. When filing the bug, set the verbosity to 10 (on Linux, `export AUTOGRAPH_VERBOSITY=10`) and attach the full output. Cause: converting <function compute_loss at 0x76092ddb40e0>: AttributeError: module 'gast' has no attribute 'Str'\n",
      "WARNING: Entity <function compute_loss at 0x76092ddb40e0> could not be transformed and will be executed as-is. Please report this to the AutgoGraph team. When filing the bug, set the verbosity to 10 (on Linux, `export AUTOGRAPH_VERBOSITY=10`) and attach the full output. Cause: converting <function compute_loss at 0x76092ddb40e0>: AttributeError: module 'gast' has no attribute 'Str'\n"
     ]
    },
    {
     "name": "stderr",
     "output_type": "stream",
     "text": [
      "2024-03-25 16:13:59.520397: W tensorflow/core/common_runtime/eager/context.cc:371] Added two functions with the same name: rnn_1_while_cond_69710\n",
      "2024-03-25 16:13:59.520439: W tensorflow/core/common_runtime/eager/context.cc:371] Added two functions with the same name: rnn_1_while_body_69711\n",
      "2024-03-25 16:13:59.678872: W tensorflow/core/common_runtime/eager/context.cc:371] Added two functions with the same name: __inference_call_69808\n",
      "2024-03-25 16:13:59.679031: W tensorflow/core/common_runtime/eager/context.cc:371] Added two functions with the same name: rnn_1_while_cond_69710\n",
      "2024-03-25 16:13:59.679046: W tensorflow/core/common_runtime/eager/context.cc:371] Added two functions with the same name: rnn_1_while_body_69711\n",
      "2024-03-25 16:13:59.679079: W tensorflow/core/common_runtime/eager/context.cc:371] Added two functions with the same name: __inference_compute_loss_69874\n",
      "2024-03-25 16:13:59.679133: W tensorflow/core/common_runtime/eager/context.cc:371] Added two functions with the same name: __forward_compute_loss_69880\n",
      "2024-03-25 16:13:59.679187: W tensorflow/core/common_runtime/eager/context.cc:371] Added two functions with the same name: __inference___backward_compute_loss_69878_69935\n",
      "2024-03-25 16:13:59.679229: W tensorflow/core/common_runtime/eager/context.cc:371] Added two functions with the same name: __forward_call_69946\n",
      "2024-03-25 16:13:59.679339: W tensorflow/core/common_runtime/eager/context.cc:371] Added two functions with the same name: rnn_1_while_cond_69710_rewritten\n",
      "2024-03-25 16:13:59.679353: W tensorflow/core/common_runtime/eager/context.cc:371] Added two functions with the same name: rnn_1_while_body_69711_rewritten\n",
      "2024-03-25 16:13:59.679402: W tensorflow/core/common_runtime/eager/context.cc:371] Added two functions with the same name: __inference___backward_call_69944_70270\n",
      "2024-03-25 16:13:59.679470: W tensorflow/core/common_runtime/eager/context.cc:371] Added two functions with the same name: rnn_1_while_cond_69710_rewritten_grad_70179\n",
      "2024-03-25 16:13:59.679481: W tensorflow/core/common_runtime/eager/context.cc:371] Added two functions with the same name: rnn_1_while_body_69711_grad_70033\n",
      "2024-03-25 16:13:59.699738: E tensorflow/core/grappler/optimizers/meta_optimizer.cc:502] constant folding failed: Invalid argument: Unsupported type: 21\n",
      "2024-03-25 16:13:59.731317: E tensorflow/core/grappler/optimizers/meta_optimizer.cc:502] constant folding failed: Invalid argument: Unsupported type: 21\n"
     ]
    },
    {
     "name": "stdout",
     "output_type": "stream",
     "text": [
      "WARNING:tensorflow:Entity <function train_one_step at 0x7609a470be60> could not be transformed and will be executed as-is. Please report this to the AutgoGraph team. When filing the bug, set the verbosity to 10 (on Linux, `export AUTOGRAPH_VERBOSITY=10`) and attach the full output. Cause: converting <function train_one_step at 0x7609a470be60>: AttributeError: module 'gast' has no attribute 'Str'\n",
      "WARNING: Entity <function train_one_step at 0x7609a470be60> could not be transformed and will be executed as-is. Please report this to the AutgoGraph team. When filing the bug, set the verbosity to 10 (on Linux, `export AUTOGRAPH_VERBOSITY=10`) and attach the full output. Cause: converting <function train_one_step at 0x7609a470be60>: AttributeError: module 'gast' has no attribute 'Str'\n",
      "WARNING:tensorflow:Entity <bound method myRNNModel.call of <tensorflow.python.eager.function.TfMethodTarget object at 0x7609a83fba50>> could not be transformed and will be executed as-is. Please report this to the AutgoGraph team. When filing the bug, set the verbosity to 10 (on Linux, `export AUTOGRAPH_VERBOSITY=10`) and attach the full output. Cause: converting <bound method myRNNModel.call of <tensorflow.python.eager.function.TfMethodTarget object at 0x7609a83fba50>>: AttributeError: module 'gast' has no attribute 'Str'\n",
      "WARNING: Entity <bound method myRNNModel.call of <tensorflow.python.eager.function.TfMethodTarget object at 0x7609a83fba50>> could not be transformed and will be executed as-is. Please report this to the AutgoGraph team. When filing the bug, set the verbosity to 10 (on Linux, `export AUTOGRAPH_VERBOSITY=10`) and attach the full output. Cause: converting <bound method myRNNModel.call of <tensorflow.python.eager.function.TfMethodTarget object at 0x7609a83fba50>>: AttributeError: module 'gast' has no attribute 'Str'\n",
      "WARNING:tensorflow:Entity <function compute_loss at 0x76092ddb40e0> could not be transformed and will be executed as-is. Please report this to the AutgoGraph team. When filing the bug, set the verbosity to 10 (on Linux, `export AUTOGRAPH_VERBOSITY=10`) and attach the full output. Cause: converting <function compute_loss at 0x76092ddb40e0>: AttributeError: module 'gast' has no attribute 'Str'\n",
      "WARNING: Entity <function compute_loss at 0x76092ddb40e0> could not be transformed and will be executed as-is. Please report this to the AutgoGraph team. When filing the bug, set the verbosity to 10 (on Linux, `export AUTOGRAPH_VERBOSITY=10`) and attach the full output. Cause: converting <function compute_loss at 0x76092ddb40e0>: AttributeError: module 'gast' has no attribute 'Str'\n"
     ]
    },
    {
     "name": "stderr",
     "output_type": "stream",
     "text": [
      "2024-03-25 16:14:01.582173: W tensorflow/core/common_runtime/eager/context.cc:371] Added two functions with the same name: rnn_1_while_cond_70559\n",
      "2024-03-25 16:14:01.582340: W tensorflow/core/common_runtime/eager/context.cc:371] Added two functions with the same name: rnn_1_while_body_70560\n",
      "2024-03-25 16:14:01.717032: W tensorflow/core/common_runtime/eager/context.cc:371] Added two functions with the same name: __inference_call_70657\n",
      "2024-03-25 16:14:01.717176: W tensorflow/core/common_runtime/eager/context.cc:371] Added two functions with the same name: rnn_1_while_cond_70559\n",
      "2024-03-25 16:14:01.717190: W tensorflow/core/common_runtime/eager/context.cc:371] Added two functions with the same name: rnn_1_while_body_70560\n",
      "2024-03-25 16:14:01.717223: W tensorflow/core/common_runtime/eager/context.cc:371] Added two functions with the same name: __inference_compute_loss_70723\n",
      "2024-03-25 16:14:01.717276: W tensorflow/core/common_runtime/eager/context.cc:371] Added two functions with the same name: __forward_compute_loss_70729\n",
      "2024-03-25 16:14:01.717331: W tensorflow/core/common_runtime/eager/context.cc:371] Added two functions with the same name: __inference___backward_compute_loss_70727_70784\n",
      "2024-03-25 16:14:01.717375: W tensorflow/core/common_runtime/eager/context.cc:371] Added two functions with the same name: __forward_call_70795\n",
      "2024-03-25 16:14:01.717484: W tensorflow/core/common_runtime/eager/context.cc:371] Added two functions with the same name: rnn_1_while_cond_70559_rewritten\n",
      "2024-03-25 16:14:01.717498: W tensorflow/core/common_runtime/eager/context.cc:371] Added two functions with the same name: rnn_1_while_body_70560_rewritten\n",
      "2024-03-25 16:14:01.717548: W tensorflow/core/common_runtime/eager/context.cc:371] Added two functions with the same name: __inference___backward_call_70793_71119\n",
      "2024-03-25 16:14:01.717624: W tensorflow/core/common_runtime/eager/context.cc:371] Added two functions with the same name: rnn_1_while_cond_70559_rewritten_grad_71028\n",
      "2024-03-25 16:14:01.717636: W tensorflow/core/common_runtime/eager/context.cc:371] Added two functions with the same name: rnn_1_while_body_70560_grad_70882\n",
      "2024-03-25 16:14:01.736673: E tensorflow/core/grappler/optimizers/meta_optimizer.cc:502] constant folding failed: Invalid argument: Unsupported type: 21\n",
      "2024-03-25 16:14:01.764401: E tensorflow/core/grappler/optimizers/meta_optimizer.cc:502] constant folding failed: Invalid argument: Unsupported type: 21\n"
     ]
    },
    {
     "name": "stdout",
     "output_type": "stream",
     "text": [
      "WARNING:tensorflow:Entity <function train_one_step at 0x7609a470be60> could not be transformed and will be executed as-is. Please report this to the AutgoGraph team. When filing the bug, set the verbosity to 10 (on Linux, `export AUTOGRAPH_VERBOSITY=10`) and attach the full output. Cause: converting <function train_one_step at 0x7609a470be60>: AttributeError: module 'gast' has no attribute 'Str'\n",
      "WARNING: Entity <function train_one_step at 0x7609a470be60> could not be transformed and will be executed as-is. Please report this to the AutgoGraph team. When filing the bug, set the verbosity to 10 (on Linux, `export AUTOGRAPH_VERBOSITY=10`) and attach the full output. Cause: converting <function train_one_step at 0x7609a470be60>: AttributeError: module 'gast' has no attribute 'Str'\n",
      "WARNING:tensorflow:Entity <bound method myRNNModel.call of <tensorflow.python.eager.function.TfMethodTarget object at 0x7609a83fba50>> could not be transformed and will be executed as-is. Please report this to the AutgoGraph team. When filing the bug, set the verbosity to 10 (on Linux, `export AUTOGRAPH_VERBOSITY=10`) and attach the full output. Cause: converting <bound method myRNNModel.call of <tensorflow.python.eager.function.TfMethodTarget object at 0x7609a83fba50>>: AttributeError: module 'gast' has no attribute 'Str'\n",
      "WARNING: Entity <bound method myRNNModel.call of <tensorflow.python.eager.function.TfMethodTarget object at 0x7609a83fba50>> could not be transformed and will be executed as-is. Please report this to the AutgoGraph team. When filing the bug, set the verbosity to 10 (on Linux, `export AUTOGRAPH_VERBOSITY=10`) and attach the full output. Cause: converting <bound method myRNNModel.call of <tensorflow.python.eager.function.TfMethodTarget object at 0x7609a83fba50>>: AttributeError: module 'gast' has no attribute 'Str'\n",
      "WARNING:tensorflow:Entity <function compute_loss at 0x76092ddb40e0> could not be transformed and will be executed as-is. Please report this to the AutgoGraph team. When filing the bug, set the verbosity to 10 (on Linux, `export AUTOGRAPH_VERBOSITY=10`) and attach the full output. Cause: converting <function compute_loss at 0x76092ddb40e0>: AttributeError: module 'gast' has no attribute 'Str'\n",
      "WARNING: Entity <function compute_loss at 0x76092ddb40e0> could not be transformed and will be executed as-is. Please report this to the AutgoGraph team. When filing the bug, set the verbosity to 10 (on Linux, `export AUTOGRAPH_VERBOSITY=10`) and attach the full output. Cause: converting <function compute_loss at 0x76092ddb40e0>: AttributeError: module 'gast' has no attribute 'Str'\n"
     ]
    },
    {
     "name": "stderr",
     "output_type": "stream",
     "text": [
      "2024-03-25 16:14:02.997197: W tensorflow/core/common_runtime/eager/context.cc:371] Added two functions with the same name: rnn_1_while_cond_71396\n",
      "2024-03-25 16:14:02.997242: W tensorflow/core/common_runtime/eager/context.cc:371] Added two functions with the same name: rnn_1_while_body_71397\n",
      "2024-03-25 16:14:03.134728: W tensorflow/core/common_runtime/eager/context.cc:371] Added two functions with the same name: __inference_call_71494\n",
      "2024-03-25 16:14:03.134871: W tensorflow/core/common_runtime/eager/context.cc:371] Added two functions with the same name: rnn_1_while_cond_71396\n",
      "2024-03-25 16:14:03.134884: W tensorflow/core/common_runtime/eager/context.cc:371] Added two functions with the same name: rnn_1_while_body_71397\n",
      "2024-03-25 16:14:03.134922: W tensorflow/core/common_runtime/eager/context.cc:371] Added two functions with the same name: __inference_compute_loss_71560\n",
      "2024-03-25 16:14:03.134985: W tensorflow/core/common_runtime/eager/context.cc:371] Added two functions with the same name: __forward_compute_loss_71566\n",
      "2024-03-25 16:14:03.135044: W tensorflow/core/common_runtime/eager/context.cc:371] Added two functions with the same name: __inference___backward_compute_loss_71564_71621\n",
      "2024-03-25 16:14:03.135097: W tensorflow/core/common_runtime/eager/context.cc:371] Added two functions with the same name: __forward_call_71632\n",
      "2024-03-25 16:14:03.135228: W tensorflow/core/common_runtime/eager/context.cc:371] Added two functions with the same name: rnn_1_while_cond_71396_rewritten\n",
      "2024-03-25 16:14:03.135246: W tensorflow/core/common_runtime/eager/context.cc:371] Added two functions with the same name: rnn_1_while_body_71397_rewritten\n",
      "2024-03-25 16:14:03.135306: W tensorflow/core/common_runtime/eager/context.cc:371] Added two functions with the same name: __inference___backward_call_71630_71956\n",
      "2024-03-25 16:14:03.135401: W tensorflow/core/common_runtime/eager/context.cc:371] Added two functions with the same name: rnn_1_while_cond_71396_rewritten_grad_71865\n",
      "2024-03-25 16:14:03.135413: W tensorflow/core/common_runtime/eager/context.cc:371] Added two functions with the same name: rnn_1_while_body_71397_grad_71719\n",
      "2024-03-25 16:14:03.154960: E tensorflow/core/grappler/optimizers/meta_optimizer.cc:502] constant folding failed: Invalid argument: Unsupported type: 21\n",
      "2024-03-25 16:14:03.191754: E tensorflow/core/grappler/optimizers/meta_optimizer.cc:502] constant folding failed: Invalid argument: Unsupported type: 21\n"
     ]
    },
    {
     "name": "stdout",
     "output_type": "stream",
     "text": [
      "WARNING:tensorflow:Entity <function train_one_step at 0x7609a470be60> could not be transformed and will be executed as-is. Please report this to the AutgoGraph team. When filing the bug, set the verbosity to 10 (on Linux, `export AUTOGRAPH_VERBOSITY=10`) and attach the full output. Cause: converting <function train_one_step at 0x7609a470be60>: AttributeError: module 'gast' has no attribute 'Str'\n",
      "WARNING: Entity <function train_one_step at 0x7609a470be60> could not be transformed and will be executed as-is. Please report this to the AutgoGraph team. When filing the bug, set the verbosity to 10 (on Linux, `export AUTOGRAPH_VERBOSITY=10`) and attach the full output. Cause: converting <function train_one_step at 0x7609a470be60>: AttributeError: module 'gast' has no attribute 'Str'\n",
      "WARNING:tensorflow:Entity <bound method myRNNModel.call of <tensorflow.python.eager.function.TfMethodTarget object at 0x7609a83fba50>> could not be transformed and will be executed as-is. Please report this to the AutgoGraph team. When filing the bug, set the verbosity to 10 (on Linux, `export AUTOGRAPH_VERBOSITY=10`) and attach the full output. Cause: converting <bound method myRNNModel.call of <tensorflow.python.eager.function.TfMethodTarget object at 0x7609a83fba50>>: AttributeError: module 'gast' has no attribute 'Str'\n",
      "WARNING: Entity <bound method myRNNModel.call of <tensorflow.python.eager.function.TfMethodTarget object at 0x7609a83fba50>> could not be transformed and will be executed as-is. Please report this to the AutgoGraph team. When filing the bug, set the verbosity to 10 (on Linux, `export AUTOGRAPH_VERBOSITY=10`) and attach the full output. Cause: converting <bound method myRNNModel.call of <tensorflow.python.eager.function.TfMethodTarget object at 0x7609a83fba50>>: AttributeError: module 'gast' has no attribute 'Str'\n",
      "WARNING:tensorflow:Entity <function compute_loss at 0x76092ddb40e0> could not be transformed and will be executed as-is. Please report this to the AutgoGraph team. When filing the bug, set the verbosity to 10 (on Linux, `export AUTOGRAPH_VERBOSITY=10`) and attach the full output. Cause: converting <function compute_loss at 0x76092ddb40e0>: AttributeError: module 'gast' has no attribute 'Str'\n",
      "WARNING: Entity <function compute_loss at 0x76092ddb40e0> could not be transformed and will be executed as-is. Please report this to the AutgoGraph team. When filing the bug, set the verbosity to 10 (on Linux, `export AUTOGRAPH_VERBOSITY=10`) and attach the full output. Cause: converting <function compute_loss at 0x76092ddb40e0>: AttributeError: module 'gast' has no attribute 'Str'\n"
     ]
    },
    {
     "name": "stderr",
     "output_type": "stream",
     "text": [
      "2024-03-25 16:14:03.780087: W tensorflow/core/common_runtime/eager/context.cc:371] Added two functions with the same name: rnn_1_while_cond_72217\n",
      "2024-03-25 16:14:03.780119: W tensorflow/core/common_runtime/eager/context.cc:371] Added two functions with the same name: rnn_1_while_body_72218\n",
      "2024-03-25 16:14:03.911460: W tensorflow/core/common_runtime/eager/context.cc:371] Added two functions with the same name: __inference_call_72315\n",
      "2024-03-25 16:14:03.911607: W tensorflow/core/common_runtime/eager/context.cc:371] Added two functions with the same name: rnn_1_while_cond_72217\n",
      "2024-03-25 16:14:03.911623: W tensorflow/core/common_runtime/eager/context.cc:371] Added two functions with the same name: rnn_1_while_body_72218\n",
      "2024-03-25 16:14:03.911661: W tensorflow/core/common_runtime/eager/context.cc:371] Added two functions with the same name: __inference_compute_loss_72381\n",
      "2024-03-25 16:14:03.911721: W tensorflow/core/common_runtime/eager/context.cc:371] Added two functions with the same name: __forward_compute_loss_72387\n",
      "2024-03-25 16:14:03.911781: W tensorflow/core/common_runtime/eager/context.cc:371] Added two functions with the same name: __inference___backward_compute_loss_72385_72442\n",
      "2024-03-25 16:14:03.911833: W tensorflow/core/common_runtime/eager/context.cc:371] Added two functions with the same name: __forward_call_72453\n",
      "2024-03-25 16:14:03.911957: W tensorflow/core/common_runtime/eager/context.cc:371] Added two functions with the same name: rnn_1_while_cond_72217_rewritten\n",
      "2024-03-25 16:14:03.911971: W tensorflow/core/common_runtime/eager/context.cc:371] Added two functions with the same name: rnn_1_while_body_72218_rewritten\n",
      "2024-03-25 16:14:03.912027: W tensorflow/core/common_runtime/eager/context.cc:371] Added two functions with the same name: __inference___backward_call_72451_72777\n",
      "2024-03-25 16:14:03.912105: W tensorflow/core/common_runtime/eager/context.cc:371] Added two functions with the same name: rnn_1_while_cond_72217_rewritten_grad_72686\n",
      "2024-03-25 16:14:03.912117: W tensorflow/core/common_runtime/eager/context.cc:371] Added two functions with the same name: rnn_1_while_body_72218_grad_72540\n",
      "2024-03-25 16:14:03.931597: E tensorflow/core/grappler/optimizers/meta_optimizer.cc:502] constant folding failed: Invalid argument: Unsupported type: 21\n",
      "2024-03-25 16:14:03.960873: E tensorflow/core/grappler/optimizers/meta_optimizer.cc:502] constant folding failed: Invalid argument: Unsupported type: 21\n"
     ]
    },
    {
     "name": "stdout",
     "output_type": "stream",
     "text": [
      "WARNING:tensorflow:Entity <function train_one_step at 0x7609a470be60> could not be transformed and will be executed as-is. Please report this to the AutgoGraph team. When filing the bug, set the verbosity to 10 (on Linux, `export AUTOGRAPH_VERBOSITY=10`) and attach the full output. Cause: converting <function train_one_step at 0x7609a470be60>: AttributeError: module 'gast' has no attribute 'Str'\n",
      "WARNING: Entity <function train_one_step at 0x7609a470be60> could not be transformed and will be executed as-is. Please report this to the AutgoGraph team. When filing the bug, set the verbosity to 10 (on Linux, `export AUTOGRAPH_VERBOSITY=10`) and attach the full output. Cause: converting <function train_one_step at 0x7609a470be60>: AttributeError: module 'gast' has no attribute 'Str'\n",
      "WARNING:tensorflow:Entity <bound method myRNNModel.call of <tensorflow.python.eager.function.TfMethodTarget object at 0x7609a83fba50>> could not be transformed and will be executed as-is. Please report this to the AutgoGraph team. When filing the bug, set the verbosity to 10 (on Linux, `export AUTOGRAPH_VERBOSITY=10`) and attach the full output. Cause: converting <bound method myRNNModel.call of <tensorflow.python.eager.function.TfMethodTarget object at 0x7609a83fba50>>: AttributeError: module 'gast' has no attribute 'Str'\n",
      "WARNING: Entity <bound method myRNNModel.call of <tensorflow.python.eager.function.TfMethodTarget object at 0x7609a83fba50>> could not be transformed and will be executed as-is. Please report this to the AutgoGraph team. When filing the bug, set the verbosity to 10 (on Linux, `export AUTOGRAPH_VERBOSITY=10`) and attach the full output. Cause: converting <bound method myRNNModel.call of <tensorflow.python.eager.function.TfMethodTarget object at 0x7609a83fba50>>: AttributeError: module 'gast' has no attribute 'Str'\n",
      "WARNING:tensorflow:Entity <function compute_loss at 0x76092ddb40e0> could not be transformed and will be executed as-is. Please report this to the AutgoGraph team. When filing the bug, set the verbosity to 10 (on Linux, `export AUTOGRAPH_VERBOSITY=10`) and attach the full output. Cause: converting <function compute_loss at 0x76092ddb40e0>: AttributeError: module 'gast' has no attribute 'Str'\n",
      "WARNING: Entity <function compute_loss at 0x76092ddb40e0> could not be transformed and will be executed as-is. Please report this to the AutgoGraph team. When filing the bug, set the verbosity to 10 (on Linux, `export AUTOGRAPH_VERBOSITY=10`) and attach the full output. Cause: converting <function compute_loss at 0x76092ddb40e0>: AttributeError: module 'gast' has no attribute 'Str'\n"
     ]
    },
    {
     "name": "stderr",
     "output_type": "stream",
     "text": [
      "2024-03-25 16:14:05.847671: W tensorflow/core/common_runtime/eager/context.cc:371] Added two functions with the same name: rnn_1_while_cond_73070\n",
      "2024-03-25 16:14:05.847712: W tensorflow/core/common_runtime/eager/context.cc:371] Added two functions with the same name: rnn_1_while_body_73071\n",
      "2024-03-25 16:14:05.978877: W tensorflow/core/common_runtime/eager/context.cc:371] Added two functions with the same name: __inference_call_73168\n",
      "2024-03-25 16:14:05.979014: W tensorflow/core/common_runtime/eager/context.cc:371] Added two functions with the same name: rnn_1_while_cond_73070\n",
      "2024-03-25 16:14:05.979026: W tensorflow/core/common_runtime/eager/context.cc:371] Added two functions with the same name: rnn_1_while_body_73071\n",
      "2024-03-25 16:14:05.979066: W tensorflow/core/common_runtime/eager/context.cc:371] Added two functions with the same name: __inference_compute_loss_73234\n",
      "2024-03-25 16:14:05.979127: W tensorflow/core/common_runtime/eager/context.cc:371] Added two functions with the same name: __forward_compute_loss_73240\n",
      "2024-03-25 16:14:05.979193: W tensorflow/core/common_runtime/eager/context.cc:371] Added two functions with the same name: __inference___backward_compute_loss_73238_73295\n",
      "2024-03-25 16:14:05.979240: W tensorflow/core/common_runtime/eager/context.cc:371] Added two functions with the same name: __forward_call_73306\n",
      "2024-03-25 16:14:05.979361: W tensorflow/core/common_runtime/eager/context.cc:371] Added two functions with the same name: rnn_1_while_cond_73070_rewritten\n",
      "2024-03-25 16:14:05.979375: W tensorflow/core/common_runtime/eager/context.cc:371] Added two functions with the same name: rnn_1_while_body_73071_rewritten\n",
      "2024-03-25 16:14:05.979429: W tensorflow/core/common_runtime/eager/context.cc:371] Added two functions with the same name: __inference___backward_call_73304_73630\n",
      "2024-03-25 16:14:05.979508: W tensorflow/core/common_runtime/eager/context.cc:371] Added two functions with the same name: rnn_1_while_cond_73070_rewritten_grad_73539\n",
      "2024-03-25 16:14:05.979519: W tensorflow/core/common_runtime/eager/context.cc:371] Added two functions with the same name: rnn_1_while_body_73071_grad_73393\n",
      "2024-03-25 16:14:05.998358: E tensorflow/core/grappler/optimizers/meta_optimizer.cc:502] constant folding failed: Invalid argument: Unsupported type: 21\n",
      "2024-03-25 16:14:06.025807: E tensorflow/core/grappler/optimizers/meta_optimizer.cc:502] constant folding failed: Invalid argument: Unsupported type: 21\n"
     ]
    },
    {
     "name": "stdout",
     "output_type": "stream",
     "text": [
      "WARNING:tensorflow:Entity <function train_one_step at 0x7609a470be60> could not be transformed and will be executed as-is. Please report this to the AutgoGraph team. When filing the bug, set the verbosity to 10 (on Linux, `export AUTOGRAPH_VERBOSITY=10`) and attach the full output. Cause: converting <function train_one_step at 0x7609a470be60>: AttributeError: module 'gast' has no attribute 'Str'\n",
      "WARNING: Entity <function train_one_step at 0x7609a470be60> could not be transformed and will be executed as-is. Please report this to the AutgoGraph team. When filing the bug, set the verbosity to 10 (on Linux, `export AUTOGRAPH_VERBOSITY=10`) and attach the full output. Cause: converting <function train_one_step at 0x7609a470be60>: AttributeError: module 'gast' has no attribute 'Str'\n",
      "WARNING:tensorflow:Entity <bound method myRNNModel.call of <tensorflow.python.eager.function.TfMethodTarget object at 0x7609a83fba50>> could not be transformed and will be executed as-is. Please report this to the AutgoGraph team. When filing the bug, set the verbosity to 10 (on Linux, `export AUTOGRAPH_VERBOSITY=10`) and attach the full output. Cause: converting <bound method myRNNModel.call of <tensorflow.python.eager.function.TfMethodTarget object at 0x7609a83fba50>>: AttributeError: module 'gast' has no attribute 'Str'\n",
      "WARNING: Entity <bound method myRNNModel.call of <tensorflow.python.eager.function.TfMethodTarget object at 0x7609a83fba50>> could not be transformed and will be executed as-is. Please report this to the AutgoGraph team. When filing the bug, set the verbosity to 10 (on Linux, `export AUTOGRAPH_VERBOSITY=10`) and attach the full output. Cause: converting <bound method myRNNModel.call of <tensorflow.python.eager.function.TfMethodTarget object at 0x7609a83fba50>>: AttributeError: module 'gast' has no attribute 'Str'\n",
      "WARNING:tensorflow:Entity <function compute_loss at 0x76092ddb40e0> could not be transformed and will be executed as-is. Please report this to the AutgoGraph team. When filing the bug, set the verbosity to 10 (on Linux, `export AUTOGRAPH_VERBOSITY=10`) and attach the full output. Cause: converting <function compute_loss at 0x76092ddb40e0>: AttributeError: module 'gast' has no attribute 'Str'\n",
      "WARNING: Entity <function compute_loss at 0x76092ddb40e0> could not be transformed and will be executed as-is. Please report this to the AutgoGraph team. When filing the bug, set the verbosity to 10 (on Linux, `export AUTOGRAPH_VERBOSITY=10`) and attach the full output. Cause: converting <function compute_loss at 0x76092ddb40e0>: AttributeError: module 'gast' has no attribute 'Str'\n"
     ]
    },
    {
     "name": "stderr",
     "output_type": "stream",
     "text": [
      "2024-03-25 16:14:07.574672: W tensorflow/core/common_runtime/eager/context.cc:371] Added two functions with the same name: rnn_1_while_cond_73915\n",
      "2024-03-25 16:14:07.574720: W tensorflow/core/common_runtime/eager/context.cc:371] Added two functions with the same name: rnn_1_while_body_73916\n",
      "2024-03-25 16:14:07.716470: W tensorflow/core/common_runtime/eager/context.cc:371] Added two functions with the same name: __inference_call_74013\n",
      "2024-03-25 16:14:07.716627: W tensorflow/core/common_runtime/eager/context.cc:371] Added two functions with the same name: rnn_1_while_cond_73915\n",
      "2024-03-25 16:14:07.716642: W tensorflow/core/common_runtime/eager/context.cc:371] Added two functions with the same name: rnn_1_while_body_73916\n",
      "2024-03-25 16:14:07.716680: W tensorflow/core/common_runtime/eager/context.cc:371] Added two functions with the same name: __inference_compute_loss_74079\n",
      "2024-03-25 16:14:07.716743: W tensorflow/core/common_runtime/eager/context.cc:371] Added two functions with the same name: __forward_compute_loss_74085\n",
      "2024-03-25 16:14:07.716818: W tensorflow/core/common_runtime/eager/context.cc:371] Added two functions with the same name: __inference___backward_compute_loss_74083_74140\n",
      "2024-03-25 16:14:07.716870: W tensorflow/core/common_runtime/eager/context.cc:371] Added two functions with the same name: __forward_call_74151\n",
      "2024-03-25 16:14:07.716997: W tensorflow/core/common_runtime/eager/context.cc:371] Added two functions with the same name: rnn_1_while_cond_73915_rewritten\n",
      "2024-03-25 16:14:07.717011: W tensorflow/core/common_runtime/eager/context.cc:371] Added two functions with the same name: rnn_1_while_body_73916_rewritten\n",
      "2024-03-25 16:14:07.717068: W tensorflow/core/common_runtime/eager/context.cc:371] Added two functions with the same name: __inference___backward_call_74149_74475\n",
      "2024-03-25 16:14:07.717137: W tensorflow/core/common_runtime/eager/context.cc:371] Added two functions with the same name: rnn_1_while_cond_73915_rewritten_grad_74384\n",
      "2024-03-25 16:14:07.717149: W tensorflow/core/common_runtime/eager/context.cc:371] Added two functions with the same name: rnn_1_while_body_73916_grad_74238\n",
      "2024-03-25 16:14:07.736892: E tensorflow/core/grappler/optimizers/meta_optimizer.cc:502] constant folding failed: Invalid argument: Unsupported type: 21\n",
      "2024-03-25 16:14:07.764841: E tensorflow/core/grappler/optimizers/meta_optimizer.cc:502] constant folding failed: Invalid argument: Unsupported type: 21\n"
     ]
    },
    {
     "name": "stdout",
     "output_type": "stream",
     "text": [
      "WARNING:tensorflow:Entity <function train_one_step at 0x7609a470be60> could not be transformed and will be executed as-is. Please report this to the AutgoGraph team. When filing the bug, set the verbosity to 10 (on Linux, `export AUTOGRAPH_VERBOSITY=10`) and attach the full output. Cause: converting <function train_one_step at 0x7609a470be60>: AttributeError: module 'gast' has no attribute 'Str'\n",
      "WARNING: Entity <function train_one_step at 0x7609a470be60> could not be transformed and will be executed as-is. Please report this to the AutgoGraph team. When filing the bug, set the verbosity to 10 (on Linux, `export AUTOGRAPH_VERBOSITY=10`) and attach the full output. Cause: converting <function train_one_step at 0x7609a470be60>: AttributeError: module 'gast' has no attribute 'Str'\n",
      "WARNING:tensorflow:Entity <bound method myRNNModel.call of <tensorflow.python.eager.function.TfMethodTarget object at 0x7609a83fba50>> could not be transformed and will be executed as-is. Please report this to the AutgoGraph team. When filing the bug, set the verbosity to 10 (on Linux, `export AUTOGRAPH_VERBOSITY=10`) and attach the full output. Cause: converting <bound method myRNNModel.call of <tensorflow.python.eager.function.TfMethodTarget object at 0x7609a83fba50>>: AttributeError: module 'gast' has no attribute 'Str'\n",
      "WARNING: Entity <bound method myRNNModel.call of <tensorflow.python.eager.function.TfMethodTarget object at 0x7609a83fba50>> could not be transformed and will be executed as-is. Please report this to the AutgoGraph team. When filing the bug, set the verbosity to 10 (on Linux, `export AUTOGRAPH_VERBOSITY=10`) and attach the full output. Cause: converting <bound method myRNNModel.call of <tensorflow.python.eager.function.TfMethodTarget object at 0x7609a83fba50>>: AttributeError: module 'gast' has no attribute 'Str'\n",
      "WARNING:tensorflow:Entity <function compute_loss at 0x76092ddb40e0> could not be transformed and will be executed as-is. Please report this to the AutgoGraph team. When filing the bug, set the verbosity to 10 (on Linux, `export AUTOGRAPH_VERBOSITY=10`) and attach the full output. Cause: converting <function compute_loss at 0x76092ddb40e0>: AttributeError: module 'gast' has no attribute 'Str'\n",
      "WARNING: Entity <function compute_loss at 0x76092ddb40e0> could not be transformed and will be executed as-is. Please report this to the AutgoGraph team. When filing the bug, set the verbosity to 10 (on Linux, `export AUTOGRAPH_VERBOSITY=10`) and attach the full output. Cause: converting <function compute_loss at 0x76092ddb40e0>: AttributeError: module 'gast' has no attribute 'Str'\n"
     ]
    },
    {
     "name": "stderr",
     "output_type": "stream",
     "text": [
      "2024-03-25 16:14:08.840331: W tensorflow/core/common_runtime/eager/context.cc:371] Added two functions with the same name: rnn_1_while_cond_74748\n",
      "2024-03-25 16:14:08.840374: W tensorflow/core/common_runtime/eager/context.cc:371] Added two functions with the same name: rnn_1_while_body_74749\n",
      "2024-03-25 16:14:08.976983: W tensorflow/core/common_runtime/eager/context.cc:371] Added two functions with the same name: __inference_call_74846\n",
      "2024-03-25 16:14:08.977120: W tensorflow/core/common_runtime/eager/context.cc:371] Added two functions with the same name: rnn_1_while_cond_74748\n",
      "2024-03-25 16:14:08.977138: W tensorflow/core/common_runtime/eager/context.cc:371] Added two functions with the same name: rnn_1_while_body_74749\n",
      "2024-03-25 16:14:08.977169: W tensorflow/core/common_runtime/eager/context.cc:371] Added two functions with the same name: __inference_compute_loss_74912\n",
      "2024-03-25 16:14:08.977223: W tensorflow/core/common_runtime/eager/context.cc:371] Added two functions with the same name: __forward_compute_loss_74918\n",
      "2024-03-25 16:14:08.977293: W tensorflow/core/common_runtime/eager/context.cc:371] Added two functions with the same name: __inference___backward_compute_loss_74916_74973\n",
      "2024-03-25 16:14:08.977334: W tensorflow/core/common_runtime/eager/context.cc:371] Added two functions with the same name: __forward_call_74984\n",
      "2024-03-25 16:14:08.977436: W tensorflow/core/common_runtime/eager/context.cc:371] Added two functions with the same name: rnn_1_while_cond_74748_rewritten\n",
      "2024-03-25 16:14:08.977449: W tensorflow/core/common_runtime/eager/context.cc:371] Added two functions with the same name: rnn_1_while_body_74749_rewritten\n",
      "2024-03-25 16:14:08.977493: W tensorflow/core/common_runtime/eager/context.cc:371] Added two functions with the same name: __inference___backward_call_74982_75308\n",
      "2024-03-25 16:14:08.977564: W tensorflow/core/common_runtime/eager/context.cc:371] Added two functions with the same name: rnn_1_while_cond_74748_rewritten_grad_75217\n",
      "2024-03-25 16:14:08.977574: W tensorflow/core/common_runtime/eager/context.cc:371] Added two functions with the same name: rnn_1_while_body_74749_grad_75071\n",
      "2024-03-25 16:14:08.996383: E tensorflow/core/grappler/optimizers/meta_optimizer.cc:502] constant folding failed: Invalid argument: Unsupported type: 21\n",
      "2024-03-25 16:14:09.024097: E tensorflow/core/grappler/optimizers/meta_optimizer.cc:502] constant folding failed: Invalid argument: Unsupported type: 21\n"
     ]
    },
    {
     "name": "stdout",
     "output_type": "stream",
     "text": [
      "WARNING:tensorflow:Entity <function train_one_step at 0x7609a470be60> could not be transformed and will be executed as-is. Please report this to the AutgoGraph team. When filing the bug, set the verbosity to 10 (on Linux, `export AUTOGRAPH_VERBOSITY=10`) and attach the full output. Cause: converting <function train_one_step at 0x7609a470be60>: AttributeError: module 'gast' has no attribute 'Str'\n",
      "WARNING: Entity <function train_one_step at 0x7609a470be60> could not be transformed and will be executed as-is. Please report this to the AutgoGraph team. When filing the bug, set the verbosity to 10 (on Linux, `export AUTOGRAPH_VERBOSITY=10`) and attach the full output. Cause: converting <function train_one_step at 0x7609a470be60>: AttributeError: module 'gast' has no attribute 'Str'\n",
      "WARNING:tensorflow:Entity <bound method myRNNModel.call of <tensorflow.python.eager.function.TfMethodTarget object at 0x7609a83fba50>> could not be transformed and will be executed as-is. Please report this to the AutgoGraph team. When filing the bug, set the verbosity to 10 (on Linux, `export AUTOGRAPH_VERBOSITY=10`) and attach the full output. Cause: converting <bound method myRNNModel.call of <tensorflow.python.eager.function.TfMethodTarget object at 0x7609a83fba50>>: AttributeError: module 'gast' has no attribute 'Str'\n",
      "WARNING: Entity <bound method myRNNModel.call of <tensorflow.python.eager.function.TfMethodTarget object at 0x7609a83fba50>> could not be transformed and will be executed as-is. Please report this to the AutgoGraph team. When filing the bug, set the verbosity to 10 (on Linux, `export AUTOGRAPH_VERBOSITY=10`) and attach the full output. Cause: converting <bound method myRNNModel.call of <tensorflow.python.eager.function.TfMethodTarget object at 0x7609a83fba50>>: AttributeError: module 'gast' has no attribute 'Str'\n",
      "WARNING:tensorflow:Entity <function compute_loss at 0x76092ddb40e0> could not be transformed and will be executed as-is. Please report this to the AutgoGraph team. When filing the bug, set the verbosity to 10 (on Linux, `export AUTOGRAPH_VERBOSITY=10`) and attach the full output. Cause: converting <function compute_loss at 0x76092ddb40e0>: AttributeError: module 'gast' has no attribute 'Str'\n",
      "WARNING: Entity <function compute_loss at 0x76092ddb40e0> could not be transformed and will be executed as-is. Please report this to the AutgoGraph team. When filing the bug, set the verbosity to 10 (on Linux, `export AUTOGRAPH_VERBOSITY=10`) and attach the full output. Cause: converting <function compute_loss at 0x76092ddb40e0>: AttributeError: module 'gast' has no attribute 'Str'\n"
     ]
    },
    {
     "name": "stderr",
     "output_type": "stream",
     "text": [
      "2024-03-25 16:14:17.737997: W tensorflow/core/common_runtime/eager/context.cc:371] Added two functions with the same name: rnn_1_while_cond_75761\n",
      "2024-03-25 16:14:17.738033: W tensorflow/core/common_runtime/eager/context.cc:371] Added two functions with the same name: rnn_1_while_body_75762\n",
      "2024-03-25 16:14:17.869666: W tensorflow/core/common_runtime/eager/context.cc:371] Added two functions with the same name: __inference_call_75859\n",
      "2024-03-25 16:14:17.869803: W tensorflow/core/common_runtime/eager/context.cc:371] Added two functions with the same name: rnn_1_while_cond_75761\n",
      "2024-03-25 16:14:17.869816: W tensorflow/core/common_runtime/eager/context.cc:371] Added two functions with the same name: rnn_1_while_body_75762\n",
      "2024-03-25 16:14:17.869852: W tensorflow/core/common_runtime/eager/context.cc:371] Added two functions with the same name: __inference_compute_loss_75925\n",
      "2024-03-25 16:14:17.869910: W tensorflow/core/common_runtime/eager/context.cc:371] Added two functions with the same name: __forward_compute_loss_75931\n",
      "2024-03-25 16:14:17.869970: W tensorflow/core/common_runtime/eager/context.cc:371] Added two functions with the same name: __inference___backward_compute_loss_75929_75986\n",
      "2024-03-25 16:14:17.870021: W tensorflow/core/common_runtime/eager/context.cc:371] Added two functions with the same name: __forward_call_75997\n",
      "2024-03-25 16:14:17.870176: W tensorflow/core/common_runtime/eager/context.cc:371] Added two functions with the same name: rnn_1_while_cond_75761_rewritten\n",
      "2024-03-25 16:14:17.870191: W tensorflow/core/common_runtime/eager/context.cc:371] Added two functions with the same name: rnn_1_while_body_75762_rewritten\n",
      "2024-03-25 16:14:17.870249: W tensorflow/core/common_runtime/eager/context.cc:371] Added two functions with the same name: __inference___backward_call_75995_76321\n",
      "2024-03-25 16:14:17.870330: W tensorflow/core/common_runtime/eager/context.cc:371] Added two functions with the same name: rnn_1_while_cond_75761_rewritten_grad_76230\n",
      "2024-03-25 16:14:17.870340: W tensorflow/core/common_runtime/eager/context.cc:371] Added two functions with the same name: rnn_1_while_body_75762_grad_76084\n",
      "2024-03-25 16:14:17.889370: E tensorflow/core/grappler/optimizers/meta_optimizer.cc:502] constant folding failed: Invalid argument: Unsupported type: 21\n",
      "2024-03-25 16:14:17.917049: E tensorflow/core/grappler/optimizers/meta_optimizer.cc:502] constant folding failed: Invalid argument: Unsupported type: 21\n"
     ]
    },
    {
     "name": "stdout",
     "output_type": "stream",
     "text": [
      "WARNING:tensorflow:Entity <function train_one_step at 0x7609a470be60> could not be transformed and will be executed as-is. Please report this to the AutgoGraph team. When filing the bug, set the verbosity to 10 (on Linux, `export AUTOGRAPH_VERBOSITY=10`) and attach the full output. Cause: converting <function train_one_step at 0x7609a470be60>: AttributeError: module 'gast' has no attribute 'Str'\n",
      "WARNING: Entity <function train_one_step at 0x7609a470be60> could not be transformed and will be executed as-is. Please report this to the AutgoGraph team. When filing the bug, set the verbosity to 10 (on Linux, `export AUTOGRAPH_VERBOSITY=10`) and attach the full output. Cause: converting <function train_one_step at 0x7609a470be60>: AttributeError: module 'gast' has no attribute 'Str'\n",
      "WARNING:tensorflow:Entity <bound method myRNNModel.call of <tensorflow.python.eager.function.TfMethodTarget object at 0x7609a83fba50>> could not be transformed and will be executed as-is. Please report this to the AutgoGraph team. When filing the bug, set the verbosity to 10 (on Linux, `export AUTOGRAPH_VERBOSITY=10`) and attach the full output. Cause: converting <bound method myRNNModel.call of <tensorflow.python.eager.function.TfMethodTarget object at 0x7609a83fba50>>: AttributeError: module 'gast' has no attribute 'Str'\n",
      "WARNING: Entity <bound method myRNNModel.call of <tensorflow.python.eager.function.TfMethodTarget object at 0x7609a83fba50>> could not be transformed and will be executed as-is. Please report this to the AutgoGraph team. When filing the bug, set the verbosity to 10 (on Linux, `export AUTOGRAPH_VERBOSITY=10`) and attach the full output. Cause: converting <bound method myRNNModel.call of <tensorflow.python.eager.function.TfMethodTarget object at 0x7609a83fba50>>: AttributeError: module 'gast' has no attribute 'Str'\n",
      "WARNING:tensorflow:Entity <function compute_loss at 0x76092ddb40e0> could not be transformed and will be executed as-is. Please report this to the AutgoGraph team. When filing the bug, set the verbosity to 10 (on Linux, `export AUTOGRAPH_VERBOSITY=10`) and attach the full output. Cause: converting <function compute_loss at 0x76092ddb40e0>: AttributeError: module 'gast' has no attribute 'Str'\n",
      "WARNING: Entity <function compute_loss at 0x76092ddb40e0> could not be transformed and will be executed as-is. Please report this to the AutgoGraph team. When filing the bug, set the verbosity to 10 (on Linux, `export AUTOGRAPH_VERBOSITY=10`) and attach the full output. Cause: converting <function compute_loss at 0x76092ddb40e0>: AttributeError: module 'gast' has no attribute 'Str'\n"
     ]
    },
    {
     "name": "stderr",
     "output_type": "stream",
     "text": [
      "2024-03-25 16:14:18.742614: W tensorflow/core/common_runtime/eager/context.cc:371] Added two functions with the same name: rnn_1_while_cond_76590\n",
      "2024-03-25 16:14:18.742652: W tensorflow/core/common_runtime/eager/context.cc:371] Added two functions with the same name: rnn_1_while_body_76591\n",
      "2024-03-25 16:14:18.877675: W tensorflow/core/common_runtime/eager/context.cc:371] Added two functions with the same name: __inference_call_76688\n",
      "2024-03-25 16:14:18.877824: W tensorflow/core/common_runtime/eager/context.cc:371] Added two functions with the same name: rnn_1_while_cond_76590\n",
      "2024-03-25 16:14:18.877837: W tensorflow/core/common_runtime/eager/context.cc:371] Added two functions with the same name: rnn_1_while_body_76591\n",
      "2024-03-25 16:14:18.877869: W tensorflow/core/common_runtime/eager/context.cc:371] Added two functions with the same name: __inference_compute_loss_76754\n",
      "2024-03-25 16:14:18.877923: W tensorflow/core/common_runtime/eager/context.cc:371] Added two functions with the same name: __forward_compute_loss_76760\n",
      "2024-03-25 16:14:18.877988: W tensorflow/core/common_runtime/eager/context.cc:371] Added two functions with the same name: __inference___backward_compute_loss_76758_76815\n",
      "2024-03-25 16:14:18.878041: W tensorflow/core/common_runtime/eager/context.cc:371] Added two functions with the same name: __forward_call_76826\n",
      "2024-03-25 16:14:18.878198: W tensorflow/core/common_runtime/eager/context.cc:371] Added two functions with the same name: rnn_1_while_cond_76590_rewritten\n",
      "2024-03-25 16:14:18.878217: W tensorflow/core/common_runtime/eager/context.cc:371] Added two functions with the same name: rnn_1_while_body_76591_rewritten\n",
      "2024-03-25 16:14:18.878282: W tensorflow/core/common_runtime/eager/context.cc:371] Added two functions with the same name: __inference___backward_call_76824_77150\n",
      "2024-03-25 16:14:18.878373: W tensorflow/core/common_runtime/eager/context.cc:371] Added two functions with the same name: rnn_1_while_cond_76590_rewritten_grad_77059\n",
      "2024-03-25 16:14:18.878385: W tensorflow/core/common_runtime/eager/context.cc:371] Added two functions with the same name: rnn_1_while_body_76591_grad_76913\n",
      "2024-03-25 16:14:18.898092: E tensorflow/core/grappler/optimizers/meta_optimizer.cc:502] constant folding failed: Invalid argument: Unsupported type: 21\n",
      "2024-03-25 16:14:18.926559: E tensorflow/core/grappler/optimizers/meta_optimizer.cc:502] constant folding failed: Invalid argument: Unsupported type: 21\n"
     ]
    },
    {
     "name": "stdout",
     "output_type": "stream",
     "text": [
      "WARNING:tensorflow:Entity <function train_one_step at 0x7609a470be60> could not be transformed and will be executed as-is. Please report this to the AutgoGraph team. When filing the bug, set the verbosity to 10 (on Linux, `export AUTOGRAPH_VERBOSITY=10`) and attach the full output. Cause: converting <function train_one_step at 0x7609a470be60>: AttributeError: module 'gast' has no attribute 'Str'\n",
      "WARNING: Entity <function train_one_step at 0x7609a470be60> could not be transformed and will be executed as-is. Please report this to the AutgoGraph team. When filing the bug, set the verbosity to 10 (on Linux, `export AUTOGRAPH_VERBOSITY=10`) and attach the full output. Cause: converting <function train_one_step at 0x7609a470be60>: AttributeError: module 'gast' has no attribute 'Str'\n",
      "WARNING:tensorflow:Entity <bound method myRNNModel.call of <tensorflow.python.eager.function.TfMethodTarget object at 0x7609a83fba50>> could not be transformed and will be executed as-is. Please report this to the AutgoGraph team. When filing the bug, set the verbosity to 10 (on Linux, `export AUTOGRAPH_VERBOSITY=10`) and attach the full output. Cause: converting <bound method myRNNModel.call of <tensorflow.python.eager.function.TfMethodTarget object at 0x7609a83fba50>>: AttributeError: module 'gast' has no attribute 'Str'\n",
      "WARNING: Entity <bound method myRNNModel.call of <tensorflow.python.eager.function.TfMethodTarget object at 0x7609a83fba50>> could not be transformed and will be executed as-is. Please report this to the AutgoGraph team. When filing the bug, set the verbosity to 10 (on Linux, `export AUTOGRAPH_VERBOSITY=10`) and attach the full output. Cause: converting <bound method myRNNModel.call of <tensorflow.python.eager.function.TfMethodTarget object at 0x7609a83fba50>>: AttributeError: module 'gast' has no attribute 'Str'\n",
      "WARNING:tensorflow:Entity <function compute_loss at 0x76092ddb40e0> could not be transformed and will be executed as-is. Please report this to the AutgoGraph team. When filing the bug, set the verbosity to 10 (on Linux, `export AUTOGRAPH_VERBOSITY=10`) and attach the full output. Cause: converting <function compute_loss at 0x76092ddb40e0>: AttributeError: module 'gast' has no attribute 'Str'\n",
      "WARNING: Entity <function compute_loss at 0x76092ddb40e0> could not be transformed and will be executed as-is. Please report this to the AutgoGraph team. When filing the bug, set the verbosity to 10 (on Linux, `export AUTOGRAPH_VERBOSITY=10`) and attach the full output. Cause: converting <function compute_loss at 0x76092ddb40e0>: AttributeError: module 'gast' has no attribute 'Str'\n"
     ]
    },
    {
     "name": "stderr",
     "output_type": "stream",
     "text": [
      "2024-03-25 16:14:24.008530: W tensorflow/core/common_runtime/eager/context.cc:371] Added two functions with the same name: rnn_1_while_cond_77531\n",
      "2024-03-25 16:14:24.008574: W tensorflow/core/common_runtime/eager/context.cc:371] Added two functions with the same name: rnn_1_while_body_77532\n",
      "2024-03-25 16:14:24.146597: W tensorflow/core/common_runtime/eager/context.cc:371] Added two functions with the same name: __inference_call_77629\n",
      "2024-03-25 16:14:24.146724: W tensorflow/core/common_runtime/eager/context.cc:371] Added two functions with the same name: rnn_1_while_cond_77531\n",
      "2024-03-25 16:14:24.146738: W tensorflow/core/common_runtime/eager/context.cc:371] Added two functions with the same name: rnn_1_while_body_77532\n",
      "2024-03-25 16:14:24.146769: W tensorflow/core/common_runtime/eager/context.cc:371] Added two functions with the same name: __inference_compute_loss_77695\n",
      "2024-03-25 16:14:24.146820: W tensorflow/core/common_runtime/eager/context.cc:371] Added two functions with the same name: __forward_compute_loss_77701\n",
      "2024-03-25 16:14:24.146872: W tensorflow/core/common_runtime/eager/context.cc:371] Added two functions with the same name: __inference___backward_compute_loss_77699_77756\n",
      "2024-03-25 16:14:24.146913: W tensorflow/core/common_runtime/eager/context.cc:371] Added two functions with the same name: __forward_call_77767\n",
      "2024-03-25 16:14:24.147020: W tensorflow/core/common_runtime/eager/context.cc:371] Added two functions with the same name: rnn_1_while_cond_77531_rewritten\n",
      "2024-03-25 16:14:24.147033: W tensorflow/core/common_runtime/eager/context.cc:371] Added two functions with the same name: rnn_1_while_body_77532_rewritten\n",
      "2024-03-25 16:14:24.147081: W tensorflow/core/common_runtime/eager/context.cc:371] Added two functions with the same name: __inference___backward_call_77765_78091\n",
      "2024-03-25 16:14:24.147149: W tensorflow/core/common_runtime/eager/context.cc:371] Added two functions with the same name: rnn_1_while_cond_77531_rewritten_grad_78000\n",
      "2024-03-25 16:14:24.147160: W tensorflow/core/common_runtime/eager/context.cc:371] Added two functions with the same name: rnn_1_while_body_77532_grad_77854\n",
      "2024-03-25 16:14:24.166060: E tensorflow/core/grappler/optimizers/meta_optimizer.cc:502] constant folding failed: Invalid argument: Unsupported type: 21\n",
      "2024-03-25 16:14:24.194457: E tensorflow/core/grappler/optimizers/meta_optimizer.cc:502] constant folding failed: Invalid argument: Unsupported type: 21\n"
     ]
    },
    {
     "name": "stdout",
     "output_type": "stream",
     "text": [
      "WARNING:tensorflow:Entity <function train_one_step at 0x7609a470be60> could not be transformed and will be executed as-is. Please report this to the AutgoGraph team. When filing the bug, set the verbosity to 10 (on Linux, `export AUTOGRAPH_VERBOSITY=10`) and attach the full output. Cause: converting <function train_one_step at 0x7609a470be60>: AttributeError: module 'gast' has no attribute 'Str'\n",
      "WARNING: Entity <function train_one_step at 0x7609a470be60> could not be transformed and will be executed as-is. Please report this to the AutgoGraph team. When filing the bug, set the verbosity to 10 (on Linux, `export AUTOGRAPH_VERBOSITY=10`) and attach the full output. Cause: converting <function train_one_step at 0x7609a470be60>: AttributeError: module 'gast' has no attribute 'Str'\n",
      "WARNING:tensorflow:Entity <bound method myRNNModel.call of <tensorflow.python.eager.function.TfMethodTarget object at 0x7609a83fba50>> could not be transformed and will be executed as-is. Please report this to the AutgoGraph team. When filing the bug, set the verbosity to 10 (on Linux, `export AUTOGRAPH_VERBOSITY=10`) and attach the full output. Cause: converting <bound method myRNNModel.call of <tensorflow.python.eager.function.TfMethodTarget object at 0x7609a83fba50>>: AttributeError: module 'gast' has no attribute 'Str'\n",
      "WARNING: Entity <bound method myRNNModel.call of <tensorflow.python.eager.function.TfMethodTarget object at 0x7609a83fba50>> could not be transformed and will be executed as-is. Please report this to the AutgoGraph team. When filing the bug, set the verbosity to 10 (on Linux, `export AUTOGRAPH_VERBOSITY=10`) and attach the full output. Cause: converting <bound method myRNNModel.call of <tensorflow.python.eager.function.TfMethodTarget object at 0x7609a83fba50>>: AttributeError: module 'gast' has no attribute 'Str'\n",
      "WARNING:tensorflow:Entity <function compute_loss at 0x76092ddb40e0> could not be transformed and will be executed as-is. Please report this to the AutgoGraph team. When filing the bug, set the verbosity to 10 (on Linux, `export AUTOGRAPH_VERBOSITY=10`) and attach the full output. Cause: converting <function compute_loss at 0x76092ddb40e0>: AttributeError: module 'gast' has no attribute 'Str'\n",
      "WARNING: Entity <function compute_loss at 0x76092ddb40e0> could not be transformed and will be executed as-is. Please report this to the AutgoGraph team. When filing the bug, set the verbosity to 10 (on Linux, `export AUTOGRAPH_VERBOSITY=10`) and attach the full output. Cause: converting <function compute_loss at 0x76092ddb40e0>: AttributeError: module 'gast' has no attribute 'Str'\n"
     ]
    },
    {
     "name": "stderr",
     "output_type": "stream",
     "text": [
      "2024-03-25 16:14:25.430011: W tensorflow/core/common_runtime/eager/context.cc:371] Added two functions with the same name: rnn_1_while_cond_78368\n",
      "2024-03-25 16:14:25.430058: W tensorflow/core/common_runtime/eager/context.cc:371] Added two functions with the same name: rnn_1_while_body_78369\n",
      "2024-03-25 16:14:25.573861: W tensorflow/core/common_runtime/eager/context.cc:371] Added two functions with the same name: __inference_call_78466\n",
      "2024-03-25 16:14:25.574006: W tensorflow/core/common_runtime/eager/context.cc:371] Added two functions with the same name: rnn_1_while_cond_78368\n",
      "2024-03-25 16:14:25.574020: W tensorflow/core/common_runtime/eager/context.cc:371] Added two functions with the same name: rnn_1_while_body_78369\n",
      "2024-03-25 16:14:25.574057: W tensorflow/core/common_runtime/eager/context.cc:371] Added two functions with the same name: __inference_compute_loss_78532\n",
      "2024-03-25 16:14:25.574116: W tensorflow/core/common_runtime/eager/context.cc:371] Added two functions with the same name: __forward_compute_loss_78538\n",
      "2024-03-25 16:14:25.574187: W tensorflow/core/common_runtime/eager/context.cc:371] Added two functions with the same name: __inference___backward_compute_loss_78536_78593\n",
      "2024-03-25 16:14:25.574266: W tensorflow/core/common_runtime/eager/context.cc:371] Added two functions with the same name: __forward_call_78604\n",
      "2024-03-25 16:14:25.574441: W tensorflow/core/common_runtime/eager/context.cc:371] Added two functions with the same name: rnn_1_while_cond_78368_rewritten\n",
      "2024-03-25 16:14:25.574462: W tensorflow/core/common_runtime/eager/context.cc:371] Added two functions with the same name: rnn_1_while_body_78369_rewritten\n",
      "2024-03-25 16:14:25.574530: W tensorflow/core/common_runtime/eager/context.cc:371] Added two functions with the same name: __inference___backward_call_78602_78928\n",
      "2024-03-25 16:14:25.574629: W tensorflow/core/common_runtime/eager/context.cc:371] Added two functions with the same name: rnn_1_while_cond_78368_rewritten_grad_78837\n",
      "2024-03-25 16:14:25.574645: W tensorflow/core/common_runtime/eager/context.cc:371] Added two functions with the same name: rnn_1_while_body_78369_grad_78691\n",
      "2024-03-25 16:14:25.596761: E tensorflow/core/grappler/optimizers/meta_optimizer.cc:502] constant folding failed: Invalid argument: Unsupported type: 21\n",
      "2024-03-25 16:14:25.625840: E tensorflow/core/grappler/optimizers/meta_optimizer.cc:502] constant folding failed: Invalid argument: Unsupported type: 21\n"
     ]
    },
    {
     "name": "stdout",
     "output_type": "stream",
     "text": [
      "WARNING:tensorflow:Entity <function train_one_step at 0x7609a470be60> could not be transformed and will be executed as-is. Please report this to the AutgoGraph team. When filing the bug, set the verbosity to 10 (on Linux, `export AUTOGRAPH_VERBOSITY=10`) and attach the full output. Cause: converting <function train_one_step at 0x7609a470be60>: AttributeError: module 'gast' has no attribute 'Str'\n",
      "WARNING: Entity <function train_one_step at 0x7609a470be60> could not be transformed and will be executed as-is. Please report this to the AutgoGraph team. When filing the bug, set the verbosity to 10 (on Linux, `export AUTOGRAPH_VERBOSITY=10`) and attach the full output. Cause: converting <function train_one_step at 0x7609a470be60>: AttributeError: module 'gast' has no attribute 'Str'\n",
      "WARNING:tensorflow:Entity <bound method myRNNModel.call of <tensorflow.python.eager.function.TfMethodTarget object at 0x7609a83fba50>> could not be transformed and will be executed as-is. Please report this to the AutgoGraph team. When filing the bug, set the verbosity to 10 (on Linux, `export AUTOGRAPH_VERBOSITY=10`) and attach the full output. Cause: converting <bound method myRNNModel.call of <tensorflow.python.eager.function.TfMethodTarget object at 0x7609a83fba50>>: AttributeError: module 'gast' has no attribute 'Str'\n",
      "WARNING: Entity <bound method myRNNModel.call of <tensorflow.python.eager.function.TfMethodTarget object at 0x7609a83fba50>> could not be transformed and will be executed as-is. Please report this to the AutgoGraph team. When filing the bug, set the verbosity to 10 (on Linux, `export AUTOGRAPH_VERBOSITY=10`) and attach the full output. Cause: converting <bound method myRNNModel.call of <tensorflow.python.eager.function.TfMethodTarget object at 0x7609a83fba50>>: AttributeError: module 'gast' has no attribute 'Str'\n",
      "WARNING:tensorflow:Entity <function compute_loss at 0x76092ddb40e0> could not be transformed and will be executed as-is. Please report this to the AutgoGraph team. When filing the bug, set the verbosity to 10 (on Linux, `export AUTOGRAPH_VERBOSITY=10`) and attach the full output. Cause: converting <function compute_loss at 0x76092ddb40e0>: AttributeError: module 'gast' has no attribute 'Str'\n"
     ]
    },
    {
     "name": "stderr",
     "output_type": "stream",
     "text": [
      "2024-03-25 16:14:27.046938: W tensorflow/core/common_runtime/eager/context.cc:371] Added two functions with the same name: rnn_1_while_cond_79197\n",
      "2024-03-25 16:14:27.046990: W tensorflow/core/common_runtime/eager/context.cc:371] Added two functions with the same name: rnn_1_while_body_79198\n",
      "2024-03-25 16:14:27.189641: W tensorflow/core/common_runtime/eager/context.cc:371] Added two functions with the same name: __inference_call_79295\n",
      "2024-03-25 16:14:27.189796: W tensorflow/core/common_runtime/eager/context.cc:371] Added two functions with the same name: rnn_1_while_cond_79197\n",
      "2024-03-25 16:14:27.189814: W tensorflow/core/common_runtime/eager/context.cc:371] Added two functions with the same name: rnn_1_while_body_79198\n",
      "2024-03-25 16:14:27.189857: W tensorflow/core/common_runtime/eager/context.cc:371] Added two functions with the same name: __inference_compute_loss_79361\n",
      "2024-03-25 16:14:27.189948: W tensorflow/core/common_runtime/eager/context.cc:371] Added two functions with the same name: __forward_compute_loss_79367\n",
      "2024-03-25 16:14:27.190048: W tensorflow/core/common_runtime/eager/context.cc:371] Added two functions with the same name: __inference___backward_compute_loss_79365_79422\n",
      "2024-03-25 16:14:27.190128: W tensorflow/core/common_runtime/eager/context.cc:371] Added two functions with the same name: __forward_call_79433\n",
      "2024-03-25 16:14:27.190285: W tensorflow/core/common_runtime/eager/context.cc:371] Added two functions with the same name: rnn_1_while_cond_79197_rewritten\n",
      "2024-03-25 16:14:27.190307: W tensorflow/core/common_runtime/eager/context.cc:371] Added two functions with the same name: rnn_1_while_body_79198_rewritten\n",
      "2024-03-25 16:14:27.190374: W tensorflow/core/common_runtime/eager/context.cc:371] Added two functions with the same name: __inference___backward_call_79431_79757\n",
      "2024-03-25 16:14:27.190470: W tensorflow/core/common_runtime/eager/context.cc:371] Added two functions with the same name: rnn_1_while_cond_79197_rewritten_grad_79666\n",
      "2024-03-25 16:14:27.190483: W tensorflow/core/common_runtime/eager/context.cc:371] Added two functions with the same name: rnn_1_while_body_79198_grad_79520\n",
      "2024-03-25 16:14:27.210733: E tensorflow/core/grappler/optimizers/meta_optimizer.cc:502] constant folding failed: Invalid argument: Unsupported type: 21\n",
      "2024-03-25 16:14:27.239523: E tensorflow/core/grappler/optimizers/meta_optimizer.cc:502] constant folding failed: Invalid argument: Unsupported type: 21\n"
     ]
    },
    {
     "name": "stdout",
     "output_type": "stream",
     "text": [
      "WARNING: Entity <function compute_loss at 0x76092ddb40e0> could not be transformed and will be executed as-is. Please report this to the AutgoGraph team. When filing the bug, set the verbosity to 10 (on Linux, `export AUTOGRAPH_VERBOSITY=10`) and attach the full output. Cause: converting <function compute_loss at 0x76092ddb40e0>: AttributeError: module 'gast' has no attribute 'Str'\n",
      "WARNING:tensorflow:Entity <function train_one_step at 0x7609a470be60> could not be transformed and will be executed as-is. Please report this to the AutgoGraph team. When filing the bug, set the verbosity to 10 (on Linux, `export AUTOGRAPH_VERBOSITY=10`) and attach the full output. Cause: converting <function train_one_step at 0x7609a470be60>: AttributeError: module 'gast' has no attribute 'Str'\n",
      "WARNING: Entity <function train_one_step at 0x7609a470be60> could not be transformed and will be executed as-is. Please report this to the AutgoGraph team. When filing the bug, set the verbosity to 10 (on Linux, `export AUTOGRAPH_VERBOSITY=10`) and attach the full output. Cause: converting <function train_one_step at 0x7609a470be60>: AttributeError: module 'gast' has no attribute 'Str'\n",
      "WARNING:tensorflow:Entity <bound method myRNNModel.call of <tensorflow.python.eager.function.TfMethodTarget object at 0x7609a83fba50>> could not be transformed and will be executed as-is. Please report this to the AutgoGraph team. When filing the bug, set the verbosity to 10 (on Linux, `export AUTOGRAPH_VERBOSITY=10`) and attach the full output. Cause: converting <bound method myRNNModel.call of <tensorflow.python.eager.function.TfMethodTarget object at 0x7609a83fba50>>: AttributeError: module 'gast' has no attribute 'Str'\n",
      "WARNING: Entity <bound method myRNNModel.call of <tensorflow.python.eager.function.TfMethodTarget object at 0x7609a83fba50>> could not be transformed and will be executed as-is. Please report this to the AutgoGraph team. When filing the bug, set the verbosity to 10 (on Linux, `export AUTOGRAPH_VERBOSITY=10`) and attach the full output. Cause: converting <bound method myRNNModel.call of <tensorflow.python.eager.function.TfMethodTarget object at 0x7609a83fba50>>: AttributeError: module 'gast' has no attribute 'Str'\n",
      "WARNING:tensorflow:Entity <function compute_loss at 0x76092ddb40e0> could not be transformed and will be executed as-is. Please report this to the AutgoGraph team. When filing the bug, set the verbosity to 10 (on Linux, `export AUTOGRAPH_VERBOSITY=10`) and attach the full output. Cause: converting <function compute_loss at 0x76092ddb40e0>: AttributeError: module 'gast' has no attribute 'Str'\n",
      "WARNING: Entity <function compute_loss at 0x76092ddb40e0> could not be transformed and will be executed as-is. Please report this to the AutgoGraph team. When filing the bug, set the verbosity to 10 (on Linux, `export AUTOGRAPH_VERBOSITY=10`) and attach the full output. Cause: converting <function compute_loss at 0x76092ddb40e0>: AttributeError: module 'gast' has no attribute 'Str'\n"
     ]
    },
    {
     "name": "stderr",
     "output_type": "stream",
     "text": [
      "2024-03-25 16:14:27.700409: W tensorflow/core/common_runtime/eager/context.cc:371] Added two functions with the same name: rnn_1_while_cond_80014\n",
      "2024-03-25 16:14:27.700458: W tensorflow/core/common_runtime/eager/context.cc:371] Added two functions with the same name: rnn_1_while_body_80015\n",
      "2024-03-25 16:14:27.854372: W tensorflow/core/common_runtime/eager/context.cc:371] Added two functions with the same name: __inference_call_80112\n",
      "2024-03-25 16:14:27.854512: W tensorflow/core/common_runtime/eager/context.cc:371] Added two functions with the same name: rnn_1_while_cond_80014\n",
      "2024-03-25 16:14:27.854528: W tensorflow/core/common_runtime/eager/context.cc:371] Added two functions with the same name: rnn_1_while_body_80015\n",
      "2024-03-25 16:14:27.854565: W tensorflow/core/common_runtime/eager/context.cc:371] Added two functions with the same name: __inference_compute_loss_80178\n",
      "2024-03-25 16:14:27.854625: W tensorflow/core/common_runtime/eager/context.cc:371] Added two functions with the same name: __forward_compute_loss_80184\n",
      "2024-03-25 16:14:27.854686: W tensorflow/core/common_runtime/eager/context.cc:371] Added two functions with the same name: __inference___backward_compute_loss_80182_80239\n",
      "2024-03-25 16:14:27.854741: W tensorflow/core/common_runtime/eager/context.cc:371] Added two functions with the same name: __forward_call_80250\n",
      "2024-03-25 16:14:27.854858: W tensorflow/core/common_runtime/eager/context.cc:371] Added two functions with the same name: rnn_1_while_cond_80014_rewritten\n",
      "2024-03-25 16:14:27.854873: W tensorflow/core/common_runtime/eager/context.cc:371] Added two functions with the same name: rnn_1_while_body_80015_rewritten\n",
      "2024-03-25 16:14:27.854928: W tensorflow/core/common_runtime/eager/context.cc:371] Added two functions with the same name: __inference___backward_call_80248_80574\n",
      "2024-03-25 16:14:27.855014: W tensorflow/core/common_runtime/eager/context.cc:371] Added two functions with the same name: rnn_1_while_cond_80014_rewritten_grad_80483\n",
      "2024-03-25 16:14:27.855025: W tensorflow/core/common_runtime/eager/context.cc:371] Added two functions with the same name: rnn_1_while_body_80015_grad_80337\n",
      "2024-03-25 16:14:27.874642: E tensorflow/core/grappler/optimizers/meta_optimizer.cc:502] constant folding failed: Invalid argument: Unsupported type: 21\n",
      "2024-03-25 16:14:27.905818: E tensorflow/core/grappler/optimizers/meta_optimizer.cc:502] constant folding failed: Invalid argument: Unsupported type: 21\n"
     ]
    },
    {
     "name": "stdout",
     "output_type": "stream",
     "text": [
      "WARNING:tensorflow:Entity <function train_one_step at 0x7609a470be60> could not be transformed and will be executed as-is. Please report this to the AutgoGraph team. When filing the bug, set the verbosity to 10 (on Linux, `export AUTOGRAPH_VERBOSITY=10`) and attach the full output. Cause: converting <function train_one_step at 0x7609a470be60>: AttributeError: module 'gast' has no attribute 'Str'\n",
      "WARNING: Entity <function train_one_step at 0x7609a470be60> could not be transformed and will be executed as-is. Please report this to the AutgoGraph team. When filing the bug, set the verbosity to 10 (on Linux, `export AUTOGRAPH_VERBOSITY=10`) and attach the full output. Cause: converting <function train_one_step at 0x7609a470be60>: AttributeError: module 'gast' has no attribute 'Str'\n",
      "WARNING:tensorflow:Entity <bound method myRNNModel.call of <tensorflow.python.eager.function.TfMethodTarget object at 0x7609a83fba50>> could not be transformed and will be executed as-is. Please report this to the AutgoGraph team. When filing the bug, set the verbosity to 10 (on Linux, `export AUTOGRAPH_VERBOSITY=10`) and attach the full output. Cause: converting <bound method myRNNModel.call of <tensorflow.python.eager.function.TfMethodTarget object at 0x7609a83fba50>>: AttributeError: module 'gast' has no attribute 'Str'\n",
      "WARNING: Entity <bound method myRNNModel.call of <tensorflow.python.eager.function.TfMethodTarget object at 0x7609a83fba50>> could not be transformed and will be executed as-is. Please report this to the AutgoGraph team. When filing the bug, set the verbosity to 10 (on Linux, `export AUTOGRAPH_VERBOSITY=10`) and attach the full output. Cause: converting <bound method myRNNModel.call of <tensorflow.python.eager.function.TfMethodTarget object at 0x7609a83fba50>>: AttributeError: module 'gast' has no attribute 'Str'\n",
      "WARNING:tensorflow:Entity <function compute_loss at 0x76092ddb40e0> could not be transformed and will be executed as-is. Please report this to the AutgoGraph team. When filing the bug, set the verbosity to 10 (on Linux, `export AUTOGRAPH_VERBOSITY=10`) and attach the full output. Cause: converting <function compute_loss at 0x76092ddb40e0>: AttributeError: module 'gast' has no attribute 'Str'\n",
      "WARNING: Entity <function compute_loss at 0x76092ddb40e0> could not be transformed and will be executed as-is. Please report this to the AutgoGraph team. When filing the bug, set the verbosity to 10 (on Linux, `export AUTOGRAPH_VERBOSITY=10`) and attach the full output. Cause: converting <function compute_loss at 0x76092ddb40e0>: AttributeError: module 'gast' has no attribute 'Str'\n"
     ]
    },
    {
     "name": "stderr",
     "output_type": "stream",
     "text": [
      "2024-03-25 16:14:30.777299: W tensorflow/core/common_runtime/eager/context.cc:371] Added two functions with the same name: rnn_1_while_cond_80887\n",
      "2024-03-25 16:14:30.777346: W tensorflow/core/common_runtime/eager/context.cc:371] Added two functions with the same name: rnn_1_while_body_80888\n",
      "2024-03-25 16:14:30.920609: W tensorflow/core/common_runtime/eager/context.cc:371] Added two functions with the same name: __inference_call_80985\n",
      "2024-03-25 16:14:30.920761: W tensorflow/core/common_runtime/eager/context.cc:371] Added two functions with the same name: rnn_1_while_cond_80887\n",
      "2024-03-25 16:14:30.920776: W tensorflow/core/common_runtime/eager/context.cc:371] Added two functions with the same name: rnn_1_while_body_80888\n",
      "2024-03-25 16:14:30.920809: W tensorflow/core/common_runtime/eager/context.cc:371] Added two functions with the same name: __inference_compute_loss_81051\n",
      "2024-03-25 16:14:30.920862: W tensorflow/core/common_runtime/eager/context.cc:371] Added two functions with the same name: __forward_compute_loss_81057\n",
      "2024-03-25 16:14:30.920918: W tensorflow/core/common_runtime/eager/context.cc:371] Added two functions with the same name: __inference___backward_compute_loss_81055_81112\n",
      "2024-03-25 16:14:30.920964: W tensorflow/core/common_runtime/eager/context.cc:371] Added two functions with the same name: __forward_call_81123\n",
      "2024-03-25 16:14:30.921076: W tensorflow/core/common_runtime/eager/context.cc:371] Added two functions with the same name: rnn_1_while_cond_80887_rewritten\n",
      "2024-03-25 16:14:30.921091: W tensorflow/core/common_runtime/eager/context.cc:371] Added two functions with the same name: rnn_1_while_body_80888_rewritten\n",
      "2024-03-25 16:14:30.921141: W tensorflow/core/common_runtime/eager/context.cc:371] Added two functions with the same name: __inference___backward_call_81121_81447\n",
      "2024-03-25 16:14:30.921211: W tensorflow/core/common_runtime/eager/context.cc:371] Added two functions with the same name: rnn_1_while_cond_80887_rewritten_grad_81356\n",
      "2024-03-25 16:14:30.921222: W tensorflow/core/common_runtime/eager/context.cc:371] Added two functions with the same name: rnn_1_while_body_80888_grad_81210\n",
      "2024-03-25 16:14:30.941554: E tensorflow/core/grappler/optimizers/meta_optimizer.cc:502] constant folding failed: Invalid argument: Unsupported type: 21\n",
      "2024-03-25 16:14:30.971153: E tensorflow/core/grappler/optimizers/meta_optimizer.cc:502] constant folding failed: Invalid argument: Unsupported type: 21\n"
     ]
    },
    {
     "name": "stdout",
     "output_type": "stream",
     "text": [
      "WARNING:tensorflow:Entity <function train_one_step at 0x7609a470be60> could not be transformed and will be executed as-is. Please report this to the AutgoGraph team. When filing the bug, set the verbosity to 10 (on Linux, `export AUTOGRAPH_VERBOSITY=10`) and attach the full output. Cause: converting <function train_one_step at 0x7609a470be60>: AttributeError: module 'gast' has no attribute 'Str'\n",
      "WARNING: Entity <function train_one_step at 0x7609a470be60> could not be transformed and will be executed as-is. Please report this to the AutgoGraph team. When filing the bug, set the verbosity to 10 (on Linux, `export AUTOGRAPH_VERBOSITY=10`) and attach the full output. Cause: converting <function train_one_step at 0x7609a470be60>: AttributeError: module 'gast' has no attribute 'Str'\n",
      "WARNING:tensorflow:Entity <bound method myRNNModel.call of <tensorflow.python.eager.function.TfMethodTarget object at 0x7609a83fba50>> could not be transformed and will be executed as-is. Please report this to the AutgoGraph team. When filing the bug, set the verbosity to 10 (on Linux, `export AUTOGRAPH_VERBOSITY=10`) and attach the full output. Cause: converting <bound method myRNNModel.call of <tensorflow.python.eager.function.TfMethodTarget object at 0x7609a83fba50>>: AttributeError: module 'gast' has no attribute 'Str'\n",
      "WARNING: Entity <bound method myRNNModel.call of <tensorflow.python.eager.function.TfMethodTarget object at 0x7609a83fba50>> could not be transformed and will be executed as-is. Please report this to the AutgoGraph team. When filing the bug, set the verbosity to 10 (on Linux, `export AUTOGRAPH_VERBOSITY=10`) and attach the full output. Cause: converting <bound method myRNNModel.call of <tensorflow.python.eager.function.TfMethodTarget object at 0x7609a83fba50>>: AttributeError: module 'gast' has no attribute 'Str'\n",
      "WARNING:tensorflow:Entity <function compute_loss at 0x76092ddb40e0> could not be transformed and will be executed as-is. Please report this to the AutgoGraph team. When filing the bug, set the verbosity to 10 (on Linux, `export AUTOGRAPH_VERBOSITY=10`) and attach the full output. Cause: converting <function compute_loss at 0x76092ddb40e0>: AttributeError: module 'gast' has no attribute 'Str'\n",
      "WARNING: Entity <function compute_loss at 0x76092ddb40e0> could not be transformed and will be executed as-is. Please report this to the AutgoGraph team. When filing the bug, set the verbosity to 10 (on Linux, `export AUTOGRAPH_VERBOSITY=10`) and attach the full output. Cause: converting <function compute_loss at 0x76092ddb40e0>: AttributeError: module 'gast' has no attribute 'Str'\n"
     ]
    },
    {
     "name": "stderr",
     "output_type": "stream",
     "text": [
      "2024-03-25 16:14:32.639986: W tensorflow/core/common_runtime/eager/context.cc:371] Added two functions with the same name: rnn_1_while_cond_81736\n",
      "2024-03-25 16:14:32.640029: W tensorflow/core/common_runtime/eager/context.cc:371] Added two functions with the same name: rnn_1_while_body_81737\n",
      "2024-03-25 16:14:32.779000: W tensorflow/core/common_runtime/eager/context.cc:371] Added two functions with the same name: __inference_call_81834\n",
      "2024-03-25 16:14:32.779157: W tensorflow/core/common_runtime/eager/context.cc:371] Added two functions with the same name: rnn_1_while_cond_81736\n",
      "2024-03-25 16:14:32.779184: W tensorflow/core/common_runtime/eager/context.cc:371] Added two functions with the same name: rnn_1_while_body_81737\n",
      "2024-03-25 16:14:32.779265: W tensorflow/core/common_runtime/eager/context.cc:371] Added two functions with the same name: __inference_compute_loss_81900\n",
      "2024-03-25 16:14:32.779322: W tensorflow/core/common_runtime/eager/context.cc:371] Added two functions with the same name: __forward_compute_loss_81906\n",
      "2024-03-25 16:14:32.779380: W tensorflow/core/common_runtime/eager/context.cc:371] Added two functions with the same name: __inference___backward_compute_loss_81904_81961\n",
      "2024-03-25 16:14:32.779427: W tensorflow/core/common_runtime/eager/context.cc:371] Added two functions with the same name: __forward_call_81972\n",
      "2024-03-25 16:14:32.779539: W tensorflow/core/common_runtime/eager/context.cc:371] Added two functions with the same name: rnn_1_while_cond_81736_rewritten\n",
      "2024-03-25 16:14:32.779554: W tensorflow/core/common_runtime/eager/context.cc:371] Added two functions with the same name: rnn_1_while_body_81737_rewritten\n",
      "2024-03-25 16:14:32.779607: W tensorflow/core/common_runtime/eager/context.cc:371] Added two functions with the same name: __inference___backward_call_81970_82296\n",
      "2024-03-25 16:14:32.779679: W tensorflow/core/common_runtime/eager/context.cc:371] Added two functions with the same name: rnn_1_while_cond_81736_rewritten_grad_82205\n",
      "2024-03-25 16:14:32.779690: W tensorflow/core/common_runtime/eager/context.cc:371] Added two functions with the same name: rnn_1_while_body_81737_grad_82059\n",
      "2024-03-25 16:14:32.800571: E tensorflow/core/grappler/optimizers/meta_optimizer.cc:502] constant folding failed: Invalid argument: Unsupported type: 21\n",
      "2024-03-25 16:14:32.829862: E tensorflow/core/grappler/optimizers/meta_optimizer.cc:502] constant folding failed: Invalid argument: Unsupported type: 21\n"
     ]
    },
    {
     "name": "stdout",
     "output_type": "stream",
     "text": [
      "WARNING:tensorflow:Entity <function train_one_step at 0x7609a470be60> could not be transformed and will be executed as-is. Please report this to the AutgoGraph team. When filing the bug, set the verbosity to 10 (on Linux, `export AUTOGRAPH_VERBOSITY=10`) and attach the full output. Cause: converting <function train_one_step at 0x7609a470be60>: AttributeError: module 'gast' has no attribute 'Str'\n",
      "WARNING: Entity <function train_one_step at 0x7609a470be60> could not be transformed and will be executed as-is. Please report this to the AutgoGraph team. When filing the bug, set the verbosity to 10 (on Linux, `export AUTOGRAPH_VERBOSITY=10`) and attach the full output. Cause: converting <function train_one_step at 0x7609a470be60>: AttributeError: module 'gast' has no attribute 'Str'\n",
      "WARNING:tensorflow:Entity <bound method myRNNModel.call of <tensorflow.python.eager.function.TfMethodTarget object at 0x7609a83fba50>> could not be transformed and will be executed as-is. Please report this to the AutgoGraph team. When filing the bug, set the verbosity to 10 (on Linux, `export AUTOGRAPH_VERBOSITY=10`) and attach the full output. Cause: converting <bound method myRNNModel.call of <tensorflow.python.eager.function.TfMethodTarget object at 0x7609a83fba50>>: AttributeError: module 'gast' has no attribute 'Str'\n",
      "WARNING: Entity <bound method myRNNModel.call of <tensorflow.python.eager.function.TfMethodTarget object at 0x7609a83fba50>> could not be transformed and will be executed as-is. Please report this to the AutgoGraph team. When filing the bug, set the verbosity to 10 (on Linux, `export AUTOGRAPH_VERBOSITY=10`) and attach the full output. Cause: converting <bound method myRNNModel.call of <tensorflow.python.eager.function.TfMethodTarget object at 0x7609a83fba50>>: AttributeError: module 'gast' has no attribute 'Str'\n",
      "WARNING:tensorflow:Entity <function compute_loss at 0x76092ddb40e0> could not be transformed and will be executed as-is. Please report this to the AutgoGraph team. When filing the bug, set the verbosity to 10 (on Linux, `export AUTOGRAPH_VERBOSITY=10`) and attach the full output. Cause: converting <function compute_loss at 0x76092ddb40e0>: AttributeError: module 'gast' has no attribute 'Str'\n",
      "WARNING: Entity <function compute_loss at 0x76092ddb40e0> could not be transformed and will be executed as-is. Please report this to the AutgoGraph team. When filing the bug, set the verbosity to 10 (on Linux, `export AUTOGRAPH_VERBOSITY=10`) and attach the full output. Cause: converting <function compute_loss at 0x76092ddb40e0>: AttributeError: module 'gast' has no attribute 'Str'\n"
     ]
    },
    {
     "name": "stderr",
     "output_type": "stream",
     "text": [
      "2024-03-25 16:14:42.006176: W tensorflow/core/common_runtime/eager/context.cc:371] Added two functions with the same name: rnn_1_while_cond_82757\n",
      "2024-03-25 16:14:42.006215: W tensorflow/core/common_runtime/eager/context.cc:371] Added two functions with the same name: rnn_1_while_body_82758\n",
      "2024-03-25 16:14:42.138908: W tensorflow/core/common_runtime/eager/context.cc:371] Added two functions with the same name: __inference_call_82855\n",
      "2024-03-25 16:14:42.139197: W tensorflow/core/common_runtime/eager/context.cc:371] Added two functions with the same name: rnn_1_while_cond_82757\n",
      "2024-03-25 16:14:42.139216: W tensorflow/core/common_runtime/eager/context.cc:371] Added two functions with the same name: rnn_1_while_body_82758\n",
      "2024-03-25 16:14:42.139298: W tensorflow/core/common_runtime/eager/context.cc:371] Added two functions with the same name: __inference_compute_loss_82921\n",
      "2024-03-25 16:14:42.139429: W tensorflow/core/common_runtime/eager/context.cc:371] Added two functions with the same name: __forward_compute_loss_82927\n",
      "2024-03-25 16:14:42.139487: W tensorflow/core/common_runtime/eager/context.cc:371] Added two functions with the same name: __inference___backward_compute_loss_82925_82982\n",
      "2024-03-25 16:14:42.139532: W tensorflow/core/common_runtime/eager/context.cc:371] Added two functions with the same name: __forward_call_82993\n",
      "2024-03-25 16:14:42.139645: W tensorflow/core/common_runtime/eager/context.cc:371] Added two functions with the same name: rnn_1_while_cond_82757_rewritten\n",
      "2024-03-25 16:14:42.139659: W tensorflow/core/common_runtime/eager/context.cc:371] Added two functions with the same name: rnn_1_while_body_82758_rewritten\n",
      "2024-03-25 16:14:42.139715: W tensorflow/core/common_runtime/eager/context.cc:371] Added two functions with the same name: __inference___backward_call_82991_83317\n",
      "2024-03-25 16:14:42.139792: W tensorflow/core/common_runtime/eager/context.cc:371] Added two functions with the same name: rnn_1_while_cond_82757_rewritten_grad_83226\n",
      "2024-03-25 16:14:42.139803: W tensorflow/core/common_runtime/eager/context.cc:371] Added two functions with the same name: rnn_1_while_body_82758_grad_83080\n",
      "2024-03-25 16:14:42.158256: E tensorflow/core/grappler/optimizers/meta_optimizer.cc:502] constant folding failed: Invalid argument: Unsupported type: 21\n",
      "2024-03-25 16:14:42.185094: E tensorflow/core/grappler/optimizers/meta_optimizer.cc:502] constant folding failed: Invalid argument: Unsupported type: 21\n"
     ]
    },
    {
     "name": "stdout",
     "output_type": "stream",
     "text": [
      "WARNING:tensorflow:Entity <function train_one_step at 0x7609a470be60> could not be transformed and will be executed as-is. Please report this to the AutgoGraph team. When filing the bug, set the verbosity to 10 (on Linux, `export AUTOGRAPH_VERBOSITY=10`) and attach the full output. Cause: converting <function train_one_step at 0x7609a470be60>: AttributeError: module 'gast' has no attribute 'Str'\n",
      "WARNING: Entity <function train_one_step at 0x7609a470be60> could not be transformed and will be executed as-is. Please report this to the AutgoGraph team. When filing the bug, set the verbosity to 10 (on Linux, `export AUTOGRAPH_VERBOSITY=10`) and attach the full output. Cause: converting <function train_one_step at 0x7609a470be60>: AttributeError: module 'gast' has no attribute 'Str'\n",
      "WARNING:tensorflow:Entity <bound method myRNNModel.call of <tensorflow.python.eager.function.TfMethodTarget object at 0x7609a83fba50>> could not be transformed and will be executed as-is. Please report this to the AutgoGraph team. When filing the bug, set the verbosity to 10 (on Linux, `export AUTOGRAPH_VERBOSITY=10`) and attach the full output. Cause: converting <bound method myRNNModel.call of <tensorflow.python.eager.function.TfMethodTarget object at 0x7609a83fba50>>: AttributeError: module 'gast' has no attribute 'Str'\n",
      "WARNING: Entity <bound method myRNNModel.call of <tensorflow.python.eager.function.TfMethodTarget object at 0x7609a83fba50>> could not be transformed and will be executed as-is. Please report this to the AutgoGraph team. When filing the bug, set the verbosity to 10 (on Linux, `export AUTOGRAPH_VERBOSITY=10`) and attach the full output. Cause: converting <bound method myRNNModel.call of <tensorflow.python.eager.function.TfMethodTarget object at 0x7609a83fba50>>: AttributeError: module 'gast' has no attribute 'Str'\n",
      "WARNING:tensorflow:Entity <function compute_loss at 0x76092ddb40e0> could not be transformed and will be executed as-is. Please report this to the AutgoGraph team. When filing the bug, set the verbosity to 10 (on Linux, `export AUTOGRAPH_VERBOSITY=10`) and attach the full output. Cause: converting <function compute_loss at 0x76092ddb40e0>: AttributeError: module 'gast' has no attribute 'Str'\n",
      "WARNING: Entity <function compute_loss at 0x76092ddb40e0> could not be transformed and will be executed as-is. Please report this to the AutgoGraph team. When filing the bug, set the verbosity to 10 (on Linux, `export AUTOGRAPH_VERBOSITY=10`) and attach the full output. Cause: converting <function compute_loss at 0x76092ddb40e0>: AttributeError: module 'gast' has no attribute 'Str'\n"
     ]
    },
    {
     "name": "stderr",
     "output_type": "stream",
     "text": [
      "2024-03-25 16:14:44.291303: W tensorflow/core/common_runtime/eager/context.cc:371] Added two functions with the same name: rnn_1_while_cond_83622\n",
      "2024-03-25 16:14:44.291341: W tensorflow/core/common_runtime/eager/context.cc:371] Added two functions with the same name: rnn_1_while_body_83623\n",
      "2024-03-25 16:14:44.420356: W tensorflow/core/common_runtime/eager/context.cc:371] Added two functions with the same name: __inference_call_83720\n",
      "2024-03-25 16:14:44.420578: W tensorflow/core/common_runtime/eager/context.cc:371] Added two functions with the same name: rnn_1_while_cond_83622\n",
      "2024-03-25 16:14:44.420599: W tensorflow/core/common_runtime/eager/context.cc:371] Added two functions with the same name: rnn_1_while_body_83623\n",
      "2024-03-25 16:14:44.420662: W tensorflow/core/common_runtime/eager/context.cc:371] Added two functions with the same name: __inference_compute_loss_83786\n",
      "2024-03-25 16:14:44.420716: W tensorflow/core/common_runtime/eager/context.cc:371] Added two functions with the same name: __forward_compute_loss_83792\n",
      "2024-03-25 16:14:44.420769: W tensorflow/core/common_runtime/eager/context.cc:371] Added two functions with the same name: __inference___backward_compute_loss_83790_83847\n",
      "2024-03-25 16:14:44.420809: W tensorflow/core/common_runtime/eager/context.cc:371] Added two functions with the same name: __forward_call_83858\n",
      "2024-03-25 16:14:44.420928: W tensorflow/core/common_runtime/eager/context.cc:371] Added two functions with the same name: rnn_1_while_cond_83622_rewritten\n",
      "2024-03-25 16:14:44.420941: W tensorflow/core/common_runtime/eager/context.cc:371] Added two functions with the same name: rnn_1_while_body_83623_rewritten\n",
      "2024-03-25 16:14:44.420995: W tensorflow/core/common_runtime/eager/context.cc:371] Added two functions with the same name: __inference___backward_call_83856_84182\n",
      "2024-03-25 16:14:44.421074: W tensorflow/core/common_runtime/eager/context.cc:371] Added two functions with the same name: rnn_1_while_cond_83622_rewritten_grad_84091\n",
      "2024-03-25 16:14:44.421084: W tensorflow/core/common_runtime/eager/context.cc:371] Added two functions with the same name: rnn_1_while_body_83623_grad_83945\n",
      "2024-03-25 16:14:44.441635: E tensorflow/core/grappler/optimizers/meta_optimizer.cc:502] constant folding failed: Invalid argument: Unsupported type: 21\n",
      "2024-03-25 16:14:44.468235: E tensorflow/core/grappler/optimizers/meta_optimizer.cc:502] constant folding failed: Invalid argument: Unsupported type: 21\n"
     ]
    },
    {
     "name": "stdout",
     "output_type": "stream",
     "text": [
      "WARNING:tensorflow:Entity <function train_one_step at 0x7609a470be60> could not be transformed and will be executed as-is. Please report this to the AutgoGraph team. When filing the bug, set the verbosity to 10 (on Linux, `export AUTOGRAPH_VERBOSITY=10`) and attach the full output. Cause: converting <function train_one_step at 0x7609a470be60>: AttributeError: module 'gast' has no attribute 'Str'\n",
      "WARNING: Entity <function train_one_step at 0x7609a470be60> could not be transformed and will be executed as-is. Please report this to the AutgoGraph team. When filing the bug, set the verbosity to 10 (on Linux, `export AUTOGRAPH_VERBOSITY=10`) and attach the full output. Cause: converting <function train_one_step at 0x7609a470be60>: AttributeError: module 'gast' has no attribute 'Str'\n",
      "WARNING:tensorflow:Entity <bound method myRNNModel.call of <tensorflow.python.eager.function.TfMethodTarget object at 0x7609a83fba50>> could not be transformed and will be executed as-is. Please report this to the AutgoGraph team. When filing the bug, set the verbosity to 10 (on Linux, `export AUTOGRAPH_VERBOSITY=10`) and attach the full output. Cause: converting <bound method myRNNModel.call of <tensorflow.python.eager.function.TfMethodTarget object at 0x7609a83fba50>>: AttributeError: module 'gast' has no attribute 'Str'\n",
      "WARNING: Entity <bound method myRNNModel.call of <tensorflow.python.eager.function.TfMethodTarget object at 0x7609a83fba50>> could not be transformed and will be executed as-is. Please report this to the AutgoGraph team. When filing the bug, set the verbosity to 10 (on Linux, `export AUTOGRAPH_VERBOSITY=10`) and attach the full output. Cause: converting <bound method myRNNModel.call of <tensorflow.python.eager.function.TfMethodTarget object at 0x7609a83fba50>>: AttributeError: module 'gast' has no attribute 'Str'\n",
      "WARNING:tensorflow:Entity <function compute_loss at 0x76092ddb40e0> could not be transformed and will be executed as-is. Please report this to the AutgoGraph team. When filing the bug, set the verbosity to 10 (on Linux, `export AUTOGRAPH_VERBOSITY=10`) and attach the full output. Cause: converting <function compute_loss at 0x76092ddb40e0>: AttributeError: module 'gast' has no attribute 'Str'\n",
      "WARNING: Entity <function compute_loss at 0x76092ddb40e0> could not be transformed and will be executed as-is. Please report this to the AutgoGraph team. When filing the bug, set the verbosity to 10 (on Linux, `export AUTOGRAPH_VERBOSITY=10`) and attach the full output. Cause: converting <function compute_loss at 0x76092ddb40e0>: AttributeError: module 'gast' has no attribute 'Str'\n"
     ]
    },
    {
     "name": "stderr",
     "output_type": "stream",
     "text": [
      "2024-03-25 16:14:46.935998: W tensorflow/core/common_runtime/eager/context.cc:371] Added two functions with the same name: rnn_1_while_cond_84491\n",
      "2024-03-25 16:14:46.936043: W tensorflow/core/common_runtime/eager/context.cc:371] Added two functions with the same name: rnn_1_while_body_84492\n",
      "2024-03-25 16:14:47.084940: W tensorflow/core/common_runtime/eager/context.cc:371] Added two functions with the same name: __inference_call_84589\n",
      "2024-03-25 16:14:47.085215: W tensorflow/core/common_runtime/eager/context.cc:371] Added two functions with the same name: rnn_1_while_cond_84491\n",
      "2024-03-25 16:14:47.085240: W tensorflow/core/common_runtime/eager/context.cc:371] Added two functions with the same name: rnn_1_while_body_84492\n",
      "2024-03-25 16:14:47.085318: W tensorflow/core/common_runtime/eager/context.cc:371] Added two functions with the same name: __inference_compute_loss_84655\n",
      "2024-03-25 16:14:47.085375: W tensorflow/core/common_runtime/eager/context.cc:371] Added two functions with the same name: __forward_compute_loss_84661\n",
      "2024-03-25 16:14:47.085432: W tensorflow/core/common_runtime/eager/context.cc:371] Added two functions with the same name: __inference___backward_compute_loss_84659_84716\n",
      "2024-03-25 16:14:47.085477: W tensorflow/core/common_runtime/eager/context.cc:371] Added two functions with the same name: __forward_call_84727\n",
      "2024-03-25 16:14:47.085591: W tensorflow/core/common_runtime/eager/context.cc:371] Added two functions with the same name: rnn_1_while_cond_84491_rewritten\n",
      "2024-03-25 16:14:47.085606: W tensorflow/core/common_runtime/eager/context.cc:371] Added two functions with the same name: rnn_1_while_body_84492_rewritten\n",
      "2024-03-25 16:14:47.085658: W tensorflow/core/common_runtime/eager/context.cc:371] Added two functions with the same name: __inference___backward_call_84725_85051\n",
      "2024-03-25 16:14:47.085728: W tensorflow/core/common_runtime/eager/context.cc:371] Added two functions with the same name: rnn_1_while_cond_84491_rewritten_grad_84960\n",
      "2024-03-25 16:14:47.085739: W tensorflow/core/common_runtime/eager/context.cc:371] Added two functions with the same name: rnn_1_while_body_84492_grad_84814\n",
      "2024-03-25 16:14:47.104508: E tensorflow/core/grappler/optimizers/meta_optimizer.cc:502] constant folding failed: Invalid argument: Unsupported type: 21\n",
      "2024-03-25 16:14:47.131804: E tensorflow/core/grappler/optimizers/meta_optimizer.cc:502] constant folding failed: Invalid argument: Unsupported type: 21\n"
     ]
    },
    {
     "name": "stdout",
     "output_type": "stream",
     "text": [
      "WARNING:tensorflow:Entity <function train_one_step at 0x7609a470be60> could not be transformed and will be executed as-is. Please report this to the AutgoGraph team. When filing the bug, set the verbosity to 10 (on Linux, `export AUTOGRAPH_VERBOSITY=10`) and attach the full output. Cause: converting <function train_one_step at 0x7609a470be60>: AttributeError: module 'gast' has no attribute 'Str'\n",
      "WARNING: Entity <function train_one_step at 0x7609a470be60> could not be transformed and will be executed as-is. Please report this to the AutgoGraph team. When filing the bug, set the verbosity to 10 (on Linux, `export AUTOGRAPH_VERBOSITY=10`) and attach the full output. Cause: converting <function train_one_step at 0x7609a470be60>: AttributeError: module 'gast' has no attribute 'Str'\n",
      "WARNING:tensorflow:Entity <bound method myRNNModel.call of <tensorflow.python.eager.function.TfMethodTarget object at 0x7609a83fba50>> could not be transformed and will be executed as-is. Please report this to the AutgoGraph team. When filing the bug, set the verbosity to 10 (on Linux, `export AUTOGRAPH_VERBOSITY=10`) and attach the full output. Cause: converting <bound method myRNNModel.call of <tensorflow.python.eager.function.TfMethodTarget object at 0x7609a83fba50>>: AttributeError: module 'gast' has no attribute 'Str'\n",
      "WARNING: Entity <bound method myRNNModel.call of <tensorflow.python.eager.function.TfMethodTarget object at 0x7609a83fba50>> could not be transformed and will be executed as-is. Please report this to the AutgoGraph team. When filing the bug, set the verbosity to 10 (on Linux, `export AUTOGRAPH_VERBOSITY=10`) and attach the full output. Cause: converting <bound method myRNNModel.call of <tensorflow.python.eager.function.TfMethodTarget object at 0x7609a83fba50>>: AttributeError: module 'gast' has no attribute 'Str'\n",
      "WARNING:tensorflow:Entity <function compute_loss at 0x76092ddb40e0> could not be transformed and will be executed as-is. Please report this to the AutgoGraph team. When filing the bug, set the verbosity to 10 (on Linux, `export AUTOGRAPH_VERBOSITY=10`) and attach the full output. Cause: converting <function compute_loss at 0x76092ddb40e0>: AttributeError: module 'gast' has no attribute 'Str'\n",
      "WARNING: Entity <function compute_loss at 0x76092ddb40e0> could not be transformed and will be executed as-is. Please report this to the AutgoGraph team. When filing the bug, set the verbosity to 10 (on Linux, `export AUTOGRAPH_VERBOSITY=10`) and attach the full output. Cause: converting <function compute_loss at 0x76092ddb40e0>: AttributeError: module 'gast' has no attribute 'Str'\n"
     ]
    },
    {
     "name": "stderr",
     "output_type": "stream",
     "text": [
      "2024-03-25 16:14:49.182832: W tensorflow/core/common_runtime/eager/context.cc:371] Added two functions with the same name: rnn_1_while_cond_85344\n",
      "2024-03-25 16:14:49.182878: W tensorflow/core/common_runtime/eager/context.cc:371] Added two functions with the same name: rnn_1_while_body_85345\n",
      "2024-03-25 16:14:49.321778: W tensorflow/core/common_runtime/eager/context.cc:371] Added two functions with the same name: __inference_call_85442\n",
      "2024-03-25 16:14:49.321919: W tensorflow/core/common_runtime/eager/context.cc:371] Added two functions with the same name: rnn_1_while_cond_85344\n",
      "2024-03-25 16:14:49.321942: W tensorflow/core/common_runtime/eager/context.cc:371] Added two functions with the same name: rnn_1_while_body_85345\n",
      "2024-03-25 16:14:49.322025: W tensorflow/core/common_runtime/eager/context.cc:371] Added two functions with the same name: __inference_compute_loss_85508\n",
      "2024-03-25 16:14:49.322093: W tensorflow/core/common_runtime/eager/context.cc:371] Added two functions with the same name: __forward_compute_loss_85514\n",
      "2024-03-25 16:14:49.322166: W tensorflow/core/common_runtime/eager/context.cc:371] Added two functions with the same name: __inference___backward_compute_loss_85512_85569\n",
      "2024-03-25 16:14:49.322218: W tensorflow/core/common_runtime/eager/context.cc:371] Added two functions with the same name: __forward_call_85580\n",
      "2024-03-25 16:14:49.322348: W tensorflow/core/common_runtime/eager/context.cc:371] Added two functions with the same name: rnn_1_while_cond_85344_rewritten\n",
      "2024-03-25 16:14:49.322363: W tensorflow/core/common_runtime/eager/context.cc:371] Added two functions with the same name: rnn_1_while_body_85345_rewritten\n",
      "2024-03-25 16:14:49.322417: W tensorflow/core/common_runtime/eager/context.cc:371] Added two functions with the same name: __inference___backward_call_85578_85904\n",
      "2024-03-25 16:14:49.322501: W tensorflow/core/common_runtime/eager/context.cc:371] Added two functions with the same name: rnn_1_while_cond_85344_rewritten_grad_85813\n",
      "2024-03-25 16:14:49.322512: W tensorflow/core/common_runtime/eager/context.cc:371] Added two functions with the same name: rnn_1_while_body_85345_grad_85667\n",
      "2024-03-25 16:14:49.341617: E tensorflow/core/grappler/optimizers/meta_optimizer.cc:502] constant folding failed: Invalid argument: Unsupported type: 21\n",
      "2024-03-25 16:14:49.369582: E tensorflow/core/grappler/optimizers/meta_optimizer.cc:502] constant folding failed: Invalid argument: Unsupported type: 21\n"
     ]
    },
    {
     "name": "stdout",
     "output_type": "stream",
     "text": [
      "epoch 1 : loss 6.565371\n",
      "epoch 2 : loss 6.0079875\n",
      "epoch 3 : loss 5.8450575\n",
      "epoch 4 : loss 5.698929\n",
      "epoch 5 : loss 5.573985\n",
      "epoch 6 : loss 5.489521\n",
      "epoch 7 : loss 5.4109817\n",
      "epoch 8 : loss 5.340436\n",
      "epoch 9 : loss 5.2828493\n"
     ]
    }
   ],
   "source": [
    "optimizer = optimizers.Adam(0.0005)\n",
    "train_ds, word2id, id2word = poem_dataset()\n",
    "model = myRNNModel(word2id)\n",
    "\n",
    "\n",
    "for epoch in range(10):\n",
    "    loss = train(epoch, model, optimizer, train_ds)"
   ]
  },
  {
   "cell_type": "markdown",
   "metadata": {},
   "source": [
    "# 生成过程"
   ]
  },
  {
   "cell_type": "code",
   "execution_count": 20,
   "metadata": {},
   "outputs": [
    {
     "name": "stdout",
     "output_type": "stream",
     "text": [
      "一片云中，不得人间。夜日无人，不得人间。夜日无人不可怜，一枝风雨满花声。夜来不得人间处，不得人间不得\n"
     ]
    }
   ],
   "source": [
    "def gen_sentence():\n",
    "    state = [tf.random.normal(shape=(1, 128), stddev=0.5), tf.random.normal(shape=(1, 128), stddev=0.5)]\n",
    "    cur_token = tf.constant([word2id['bos']], dtype=tf.int32)\n",
    "    collect = []\n",
    "    for _ in range(50):\n",
    "        cur_token, state = model.get_next_token(cur_token, state)\n",
    "        collect.append(cur_token.numpy()[0])\n",
    "    return [id2word[t] for t in collect]\n",
    "print(''.join(gen_sentence()))"
   ]
  }
 ],
 "metadata": {
  "anaconda-cloud": {},
  "kernelspec": {
   "display_name": "Python 3",
   "language": "python",
   "name": "python3"
  },
  "language_info": {
   "codemirror_mode": {
    "name": "ipython",
    "version": 3
   },
   "file_extension": ".py",
   "mimetype": "text/x-python",
   "name": "python",
   "nbconvert_exporter": "python",
   "pygments_lexer": "ipython3",
   "version": "3.7.12"
  }
 },
 "nbformat": 4,
 "nbformat_minor": 1
}
